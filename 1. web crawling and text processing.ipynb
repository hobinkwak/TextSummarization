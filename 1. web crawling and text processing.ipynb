{
 "cells": [
  {
   "cell_type": "code",
   "execution_count": 1,
   "id": "cf47345d",
   "metadata": {
    "ExecuteTime": {
     "end_time": "2021-06-08T00:17:52.435342Z",
     "start_time": "2021-06-08T00:17:51.953461Z"
    }
   },
   "outputs": [],
   "source": [
    "from gensim import models"
   ]
  },
  {
   "cell_type": "code",
   "execution_count": 2,
   "id": "aae08e7e",
   "metadata": {
    "ExecuteTime": {
     "end_time": "2021-06-08T00:17:57.995455Z",
     "start_time": "2021-06-08T00:17:57.389718Z"
    }
   },
   "outputs": [],
   "source": [
    "word2vec = models.Word2Vec.load('./embedding/ko/ko.bin')"
   ]
  },
  {
   "cell_type": "markdown",
   "id": "3583dfe0",
   "metadata": {},
   "source": [
    "# 크롤링 (21.2.2 까지 하자)"
   ]
  },
  {
   "cell_type": "markdown",
   "id": "ed9b03c0",
   "metadata": {},
   "source": [
    "- 다음 뉴스 사회 뉴스. 6.7부터 2.2까지 37500 + 27000개를 크롤링\n",
    "- 기사 본문이 3문단(\\<p>) 이상이어야 함."
   ]
  },
  {
   "cell_type": "code",
   "execution_count": 6,
   "id": "42a76dd1",
   "metadata": {
    "ExecuteTime": {
     "end_time": "2021-06-09T01:14:23.152034Z",
     "start_time": "2021-06-09T01:14:23.096141Z"
    }
   },
   "outputs": [],
   "source": [
    "import requests\n",
    "from fake_useragent import UserAgent\n",
    "from tqdm import tqdm\n",
    "import time"
   ]
  },
  {
   "cell_type": "code",
   "execution_count": 18,
   "id": "7a5458fe",
   "metadata": {
    "ExecuteTime": {
     "end_time": "2021-06-09T04:18:40.074707Z",
     "start_time": "2021-06-09T04:18:40.056757Z"
    }
   },
   "outputs": [],
   "source": [
    "dates = [20210607, 20210606, 20210605,20210604,20210603,20210602,20210601,20210531,\n",
    "        20210530,20210529,20210528,20210527,20210526,20210525,20210524,20210523,20210522,\n",
    "        20210521,20210520,20210519,20210518,20210517, 20210516, 20210515, 20210514,\n",
    "        20210512, 20210510, 20210508,20210506,20210504,20210502,20210430,20210428,\n",
    "        20210426,20210424,20210422,20210420,20210418,20210416,20210414,20210412,20210410,\n",
    "        20210330,20210328,20210326,20210324,20210322, 20210320, 20210318, 20210316,\n",
    "        20210314,20210312,20210310,20210308,20210306,20210304,20210302, 20210226,\n",
    "        20210224,20210222,20210220,20210202]"
   ]
  },
  {
   "cell_type": "code",
   "execution_count": 13,
   "id": "055a718a",
   "metadata": {
    "ExecuteTime": {
     "end_time": "2021-06-09T04:17:51.678559Z",
     "start_time": "2021-06-09T02:47:50.588267Z"
    },
    "scrolled": true
   },
   "outputs": [
    {
     "name": "stderr",
     "output_type": "stream",
     "text": [
      "\r",
      "  0%|          | 0/50 [00:00<?, ?it/s]"
     ]
    },
    {
     "name": "stdout",
     "output_type": "stream",
     "text": [
      "20210326\n"
     ]
    },
    {
     "name": "stderr",
     "output_type": "stream",
     "text": [
      "100%|██████████| 50/50 [04:48<00:00,  5.77s/it]\n",
      "  0%|          | 0/50 [00:00<?, ?it/s]"
     ]
    },
    {
     "name": "stdout",
     "output_type": "stream",
     "text": [
      "20210324\n"
     ]
    },
    {
     "name": "stderr",
     "output_type": "stream",
     "text": [
      "100%|██████████| 50/50 [04:55<00:00,  5.90s/it]\n",
      "  0%|          | 0/50 [00:00<?, ?it/s]"
     ]
    },
    {
     "name": "stdout",
     "output_type": "stream",
     "text": [
      "20210322\n"
     ]
    },
    {
     "name": "stderr",
     "output_type": "stream",
     "text": [
      "100%|██████████| 50/50 [04:54<00:00,  5.89s/it]\n",
      "  0%|          | 0/50 [00:00<?, ?it/s]"
     ]
    },
    {
     "name": "stdout",
     "output_type": "stream",
     "text": [
      "20210320\n"
     ]
    },
    {
     "name": "stderr",
     "output_type": "stream",
     "text": [
      "100%|██████████| 50/50 [04:46<00:00,  5.73s/it]\n",
      "  0%|          | 0/50 [00:00<?, ?it/s]"
     ]
    },
    {
     "name": "stdout",
     "output_type": "stream",
     "text": [
      "20210318\n"
     ]
    },
    {
     "name": "stderr",
     "output_type": "stream",
     "text": [
      "100%|██████████| 50/50 [04:44<00:00,  5.69s/it]\n",
      "  0%|          | 0/50 [00:00<?, ?it/s]"
     ]
    },
    {
     "name": "stdout",
     "output_type": "stream",
     "text": [
      "20210316\n"
     ]
    },
    {
     "name": "stderr",
     "output_type": "stream",
     "text": [
      " 72%|███████▏  | 36/50 [03:25<01:22,  5.91s/it]"
     ]
    },
    {
     "name": "stdout",
     "output_type": "stream",
     "text": [
      "페이지 안에서 과부하\n"
     ]
    },
    {
     "name": "stderr",
     "output_type": "stream",
     "text": [
      "100%|██████████| 50/50 [05:18<00:00,  6.37s/it]\n",
      "  0%|          | 0/50 [00:00<?, ?it/s]"
     ]
    },
    {
     "name": "stdout",
     "output_type": "stream",
     "text": [
      "20210314\n"
     ]
    },
    {
     "name": "stderr",
     "output_type": "stream",
     "text": [
      "100%|██████████| 50/50 [04:41<00:00,  5.63s/it]\n",
      "  0%|          | 0/50 [00:00<?, ?it/s]"
     ]
    },
    {
     "name": "stdout",
     "output_type": "stream",
     "text": [
      "20210312\n"
     ]
    },
    {
     "name": "stderr",
     "output_type": "stream",
     "text": [
      "100%|██████████| 50/50 [04:46<00:00,  5.72s/it]\n",
      "  0%|          | 0/50 [00:00<?, ?it/s]"
     ]
    },
    {
     "name": "stdout",
     "output_type": "stream",
     "text": [
      "20210310\n"
     ]
    },
    {
     "name": "stderr",
     "output_type": "stream",
     "text": [
      "100%|██████████| 50/50 [04:50<00:00,  5.80s/it]\n",
      "  0%|          | 0/50 [00:00<?, ?it/s]"
     ]
    },
    {
     "name": "stdout",
     "output_type": "stream",
     "text": [
      "20210308\n"
     ]
    },
    {
     "name": "stderr",
     "output_type": "stream",
     "text": [
      "100%|██████████| 50/50 [04:43<00:00,  5.68s/it]\n",
      "  0%|          | 0/50 [00:00<?, ?it/s]"
     ]
    },
    {
     "name": "stdout",
     "output_type": "stream",
     "text": [
      "20210306\n"
     ]
    },
    {
     "name": "stderr",
     "output_type": "stream",
     "text": [
      "100%|██████████| 50/50 [04:44<00:00,  5.68s/it]\n",
      "  0%|          | 0/50 [00:00<?, ?it/s]"
     ]
    },
    {
     "name": "stdout",
     "output_type": "stream",
     "text": [
      "20210304\n"
     ]
    },
    {
     "name": "stderr",
     "output_type": "stream",
     "text": [
      "100%|██████████| 50/50 [04:51<00:00,  5.83s/it]\n",
      "  0%|          | 0/50 [00:00<?, ?it/s]"
     ]
    },
    {
     "name": "stdout",
     "output_type": "stream",
     "text": [
      "20210302\n"
     ]
    },
    {
     "name": "stderr",
     "output_type": "stream",
     "text": [
      " 20%|██        | 10/50 [00:59<04:02,  6.07s/it]"
     ]
    },
    {
     "name": "stdout",
     "output_type": "stream",
     "text": [
      "페이지 안에서 과부하\n"
     ]
    },
    {
     "name": "stderr",
     "output_type": "stream",
     "text": [
      "100%|██████████| 50/50 [05:50<00:00,  7.01s/it]\n",
      "  0%|          | 0/50 [00:00<?, ?it/s]"
     ]
    },
    {
     "name": "stdout",
     "output_type": "stream",
     "text": [
      "20210226\n"
     ]
    },
    {
     "name": "stderr",
     "output_type": "stream",
     "text": [
      " 78%|███████▊  | 39/50 [03:59<01:15,  6.86s/it]"
     ]
    },
    {
     "name": "stdout",
     "output_type": "stream",
     "text": [
      "페이지 안에서 과부하\n"
     ]
    },
    {
     "name": "stderr",
     "output_type": "stream",
     "text": [
      "100%|██████████| 50/50 [05:41<00:00,  6.83s/it]\n",
      "  0%|          | 0/50 [00:00<?, ?it/s]"
     ]
    },
    {
     "name": "stdout",
     "output_type": "stream",
     "text": [
      "20210224\n"
     ]
    },
    {
     "name": "stderr",
     "output_type": "stream",
     "text": [
      "100%|██████████| 50/50 [05:07<00:00,  6.14s/it]\n",
      "  0%|          | 0/50 [00:00<?, ?it/s]"
     ]
    },
    {
     "name": "stdout",
     "output_type": "stream",
     "text": [
      "20210222\n"
     ]
    },
    {
     "name": "stderr",
     "output_type": "stream",
     "text": [
      "100%|██████████| 50/50 [05:14<00:00,  6.28s/it]\n",
      "  0%|          | 0/50 [00:00<?, ?it/s]"
     ]
    },
    {
     "name": "stdout",
     "output_type": "stream",
     "text": [
      "20210220\n"
     ]
    },
    {
     "name": "stderr",
     "output_type": "stream",
     "text": [
      "100%|██████████| 50/50 [05:09<00:00,  6.18s/it]\n",
      "  0%|          | 0/50 [00:00<?, ?it/s]"
     ]
    },
    {
     "name": "stdout",
     "output_type": "stream",
     "text": [
      "20210202\n"
     ]
    },
    {
     "name": "stderr",
     "output_type": "stream",
     "text": [
      "100%|██████████| 50/50 [04:53<00:00,  5.87s/it]\n"
     ]
    }
   ],
   "source": [
    "headers = {'user-agent' : UserAgent().chrome}\n",
    "data = {}\n",
    "data['articles'] = []\n",
    "data['titles'] = []\n",
    "\n",
    "for date in dates:\n",
    "    print(date)\n",
    "    for i in tqdm(range(1, page+1)):\n",
    "        time.sleep(1)\n",
    "        response=  requests.get('https://news.daum.net/breakingnews/society?page={}&regDate={}'.format(i, date), headers=headers)\n",
    "        doc = BeautifulSoup(response.text,'html5lib')\n",
    "        links = doc.select('#mArticle > div.box_etc > ul > li > div > strong > a')\n",
    "        links = [links[i].attrs['href'] for i in range(len(links))]\n",
    "        for link in links:\n",
    "            response = requests.get(link, headers=headers)\n",
    "            doc = BeautifulSoup(response.text, 'html5lib')\n",
    "            title = doc.select('#cSub > div > h3')[0].get_text()\n",
    "            doc = doc.select('#harmonyContainer > section > p')\n",
    "            if len(doc) >=3:\n",
    "                article = [doc[i].get_text() for i in range(len(doc))][:3]\n",
    "                data['articles'].append(article)\n",
    "                data['titles'].append(title)"
   ]
  },
  {
   "cell_type": "code",
   "execution_count": 16,
   "id": "b6df8fe4",
   "metadata": {
    "ExecuteTime": {
     "end_time": "2021-06-09T04:18:09.925813Z",
     "start_time": "2021-06-09T04:18:09.872940Z"
    }
   },
   "outputs": [
    {
     "data": {
      "text/html": [
       "<div>\n",
       "<style scoped>\n",
       "    .dataframe tbody tr th:only-of-type {\n",
       "        vertical-align: middle;\n",
       "    }\n",
       "\n",
       "    .dataframe tbody tr th {\n",
       "        vertical-align: top;\n",
       "    }\n",
       "\n",
       "    .dataframe thead th {\n",
       "        text-align: right;\n",
       "    }\n",
       "</style>\n",
       "<table border=\"1\" class=\"dataframe\">\n",
       "  <thead>\n",
       "    <tr style=\"text-align: right;\">\n",
       "      <th></th>\n",
       "      <th>Unnamed: 0</th>\n",
       "      <th>Unnamed: 0.1</th>\n",
       "      <th>articles</th>\n",
       "      <th>titles</th>\n",
       "    </tr>\n",
       "  </thead>\n",
       "  <tbody>\n",
       "    <tr>\n",
       "      <th>0</th>\n",
       "      <td>0.0</td>\n",
       "      <td>0.0</td>\n",
       "      <td>['주요 일정으로는 7일 제1차 본회의에서 2020회계연도 결산승인안에 대한 제안 ...</td>\n",
       "      <td>파주시의회 행감 돌입..\"다양한 해법-대안 제시\"</td>\n",
       "    </tr>\n",
       "    <tr>\n",
       "      <th>1</th>\n",
       "      <td>1.0</td>\n",
       "      <td>1.0</td>\n",
       "      <td>[\"'성수기를 피해 소규모 가족 단위로, 짧게.'\", '정부가 발표한 휴가철 방역 ...</td>\n",
       "      <td>휴가철 방역대책..\"짧게·소규모로·나눠서\"</td>\n",
       "    </tr>\n",
       "    <tr>\n",
       "      <th>2</th>\n",
       "      <td>2.0</td>\n",
       "      <td>2.0</td>\n",
       "      <td>[\"웹툰 ‘마음의 소리’와 ‘조의 영역'으로 인기를 얻은 웹툰 작가 조석(38)이 ...</td>\n",
       "      <td>'마음의 소리' 조석 작가 \"덜컥 폐결핵, 결국 담배 때문에..\"</td>\n",
       "    </tr>\n",
       "    <tr>\n",
       "      <th>3</th>\n",
       "      <td>3.0</td>\n",
       "      <td>3.0</td>\n",
       "      <td>['7일 법조계에 따르면 세월호 특검팀은 서해해경청과 목포해경에 검사와 수사관 등을...</td>\n",
       "      <td>세월호 특검, 서해해경청·목포해경 압수수색</td>\n",
       "    </tr>\n",
       "    <tr>\n",
       "      <th>4</th>\n",
       "      <td>4.0</td>\n",
       "      <td>4.0</td>\n",
       "      <td>['제주상공회의소(회장 양문석)와 제주도관광협회(회장 부동석)가 주최하고, 제주도·...</td>\n",
       "      <td>제주상의·관광협회, ESG 기반 지속가능경영 구축 '속도'</td>\n",
       "    </tr>\n",
       "    <tr>\n",
       "      <th>...</th>\n",
       "      <td>...</td>\n",
       "      <td>...</td>\n",
       "      <td>...</td>\n",
       "      <td>...</td>\n",
       "    </tr>\n",
       "    <tr>\n",
       "      <th>11411</th>\n",
       "      <td>NaN</td>\n",
       "      <td>NaN</td>\n",
       "      <td>[이른바 '검언유착 의혹'으로 구속기소된 이동재 전 채널A 기자의 구속 기간이 4일...</td>\n",
       "      <td>'검언유착 의혹' 이동재 전 채널A 기자 4일 석방..구속 292일 만</td>\n",
       "    </tr>\n",
       "    <tr>\n",
       "      <th>11412</th>\n",
       "      <td>NaN</td>\n",
       "      <td>NaN</td>\n",
       "      <td>[(서울=뉴스1) 문동주 기자,김동은 기자 = 22년 차 배달기사 이씨(48)는 음...</td>\n",
       "      <td>[영상] \"냄새난다고 화물용 승강기 타래요\"..도 넘은 '갑질'에 뿔난 배달기사들</td>\n",
       "    </tr>\n",
       "    <tr>\n",
       "      <th>11413</th>\n",
       "      <td>NaN</td>\n",
       "      <td>NaN</td>\n",
       "      <td>[(서울=뉴스1) 전준우 기자 = 서울 중랑구에서 신종 코로나바이러스 감염증(코로나...</td>\n",
       "      <td>중랑구서 확진자 9명 추가..2명은 광진구 음식점 관련</td>\n",
       "    </tr>\n",
       "    <tr>\n",
       "      <th>11414</th>\n",
       "      <td>NaN</td>\n",
       "      <td>NaN</td>\n",
       "      <td>[ [이데일리 함정선 기자] 국민건강보험공단의 전화상담 업무를 담당하고 있는 민간 ...</td>\n",
       "      <td>콜센터 파업 장기화하나..건보공단 \"위탁업체 정직원..직고용 어려워\"</td>\n",
       "    </tr>\n",
       "    <tr>\n",
       "      <th>11415</th>\n",
       "      <td>NaN</td>\n",
       "      <td>NaN</td>\n",
       "      <td>[인파 몰림 현상을 꺼려하는 분위기 탓에 도심 관광지가 외면받자 지자체는 해법 모색...</td>\n",
       "      <td>'대구 근대골목 한국관광 100선서 최초 제외'..관광 위기, 자구책은?</td>\n",
       "    </tr>\n",
       "  </tbody>\n",
       "</table>\n",
       "<p>52131 rows × 4 columns</p>\n",
       "</div>"
      ],
      "text/plain": [
       "       Unnamed: 0  Unnamed: 0.1  \\\n",
       "0             0.0           0.0   \n",
       "1             1.0           1.0   \n",
       "2             2.0           2.0   \n",
       "3             3.0           3.0   \n",
       "4             4.0           4.0   \n",
       "...           ...           ...   \n",
       "11411         NaN           NaN   \n",
       "11412         NaN           NaN   \n",
       "11413         NaN           NaN   \n",
       "11414         NaN           NaN   \n",
       "11415         NaN           NaN   \n",
       "\n",
       "                                                articles  \\\n",
       "0      ['주요 일정으로는 7일 제1차 본회의에서 2020회계연도 결산승인안에 대한 제안 ...   \n",
       "1      [\"'성수기를 피해 소규모 가족 단위로, 짧게.'\", '정부가 발표한 휴가철 방역 ...   \n",
       "2      [\"웹툰 ‘마음의 소리’와 ‘조의 영역'으로 인기를 얻은 웹툰 작가 조석(38)이 ...   \n",
       "3      ['7일 법조계에 따르면 세월호 특검팀은 서해해경청과 목포해경에 검사와 수사관 등을...   \n",
       "4      ['제주상공회의소(회장 양문석)와 제주도관광협회(회장 부동석)가 주최하고, 제주도·...   \n",
       "...                                                  ...   \n",
       "11411  [이른바 '검언유착 의혹'으로 구속기소된 이동재 전 채널A 기자의 구속 기간이 4일...   \n",
       "11412  [(서울=뉴스1) 문동주 기자,김동은 기자 = 22년 차 배달기사 이씨(48)는 음...   \n",
       "11413  [(서울=뉴스1) 전준우 기자 = 서울 중랑구에서 신종 코로나바이러스 감염증(코로나...   \n",
       "11414  [ [이데일리 함정선 기자] 국민건강보험공단의 전화상담 업무를 담당하고 있는 민간 ...   \n",
       "11415  [인파 몰림 현상을 꺼려하는 분위기 탓에 도심 관광지가 외면받자 지자체는 해법 모색...   \n",
       "\n",
       "                                              titles  \n",
       "0                        파주시의회 행감 돌입..\"다양한 해법-대안 제시\"  \n",
       "1                            휴가철 방역대책..\"짧게·소규모로·나눠서\"  \n",
       "2               '마음의 소리' 조석 작가 \"덜컥 폐결핵, 결국 담배 때문에..\"  \n",
       "3                            세월호 특검, 서해해경청·목포해경 압수수색  \n",
       "4                   제주상의·관광협회, ESG 기반 지속가능경영 구축 '속도'  \n",
       "...                                              ...  \n",
       "11411        '검언유착 의혹' 이동재 전 채널A 기자 4일 석방..구속 292일 만  \n",
       "11412  [영상] \"냄새난다고 화물용 승강기 타래요\"..도 넘은 '갑질'에 뿔난 배달기사들  \n",
       "11413                 중랑구서 확진자 9명 추가..2명은 광진구 음식점 관련  \n",
       "11414         콜센터 파업 장기화하나..건보공단 \"위탁업체 정직원..직고용 어려워\"  \n",
       "11415       '대구 근대골목 한국관광 100선서 최초 제외'..관광 위기, 자구책은?  \n",
       "\n",
       "[52131 rows x 4 columns]"
      ]
     },
     "execution_count": 16,
     "metadata": {},
     "output_type": "execute_result"
    }
   ],
   "source": [
    "final = pd.concat([final, pd.DataFrame(data2)], axis=0)\n",
    "final"
   ]
  },
  {
   "cell_type": "code",
   "execution_count": 17,
   "id": "9e8c4572",
   "metadata": {
    "ExecuteTime": {
     "end_time": "2021-06-09T04:18:13.834021Z",
     "start_time": "2021-06-09T04:18:12.938320Z"
    }
   },
   "outputs": [],
   "source": [
    "final.to_csv('./data_in/data.csv')"
   ]
  },
  {
   "cell_type": "markdown",
   "id": "099622f5",
   "metadata": {},
   "source": [
    "# 전처리 및 EDA"
   ]
  },
  {
   "cell_type": "code",
   "execution_count": 82,
   "id": "5cf822b9",
   "metadata": {
    "ExecuteTime": {
     "end_time": "2021-06-09T04:31:54.099687Z",
     "start_time": "2021-06-09T04:31:53.240868Z"
    }
   },
   "outputs": [
    {
     "data": {
      "text/html": [
       "<div>\n",
       "<style scoped>\n",
       "    .dataframe tbody tr th:only-of-type {\n",
       "        vertical-align: middle;\n",
       "    }\n",
       "\n",
       "    .dataframe tbody tr th {\n",
       "        vertical-align: top;\n",
       "    }\n",
       "\n",
       "    .dataframe thead th {\n",
       "        text-align: right;\n",
       "    }\n",
       "</style>\n",
       "<table border=\"1\" class=\"dataframe\">\n",
       "  <thead>\n",
       "    <tr style=\"text-align: right;\">\n",
       "      <th></th>\n",
       "      <th>articles</th>\n",
       "      <th>titles</th>\n",
       "    </tr>\n",
       "  </thead>\n",
       "  <tbody>\n",
       "    <tr>\n",
       "      <th>0</th>\n",
       "      <td>['주요 일정으로는 7일 제1차 본회의에서 2020회계연도 결산승인안에 대한 제안 ...</td>\n",
       "      <td>파주시의회 행감 돌입..\"다양한 해법-대안 제시\"</td>\n",
       "    </tr>\n",
       "    <tr>\n",
       "      <th>1</th>\n",
       "      <td>[\"'성수기를 피해 소규모 가족 단위로, 짧게.'\", '정부가 발표한 휴가철 방역 ...</td>\n",
       "      <td>휴가철 방역대책..\"짧게·소규모로·나눠서\"</td>\n",
       "    </tr>\n",
       "    <tr>\n",
       "      <th>2</th>\n",
       "      <td>[\"웹툰 ‘마음의 소리’와 ‘조의 영역'으로 인기를 얻은 웹툰 작가 조석(38)이 ...</td>\n",
       "      <td>'마음의 소리' 조석 작가 \"덜컥 폐결핵, 결국 담배 때문에..\"</td>\n",
       "    </tr>\n",
       "    <tr>\n",
       "      <th>3</th>\n",
       "      <td>['7일 법조계에 따르면 세월호 특검팀은 서해해경청과 목포해경에 검사와 수사관 등을...</td>\n",
       "      <td>세월호 특검, 서해해경청·목포해경 압수수색</td>\n",
       "    </tr>\n",
       "    <tr>\n",
       "      <th>4</th>\n",
       "      <td>['제주상공회의소(회장 양문석)와 제주도관광협회(회장 부동석)가 주최하고, 제주도·...</td>\n",
       "      <td>제주상의·관광협회, ESG 기반 지속가능경영 구축 '속도'</td>\n",
       "    </tr>\n",
       "    <tr>\n",
       "      <th>...</th>\n",
       "      <td>...</td>\n",
       "      <td>...</td>\n",
       "    </tr>\n",
       "    <tr>\n",
       "      <th>52126</th>\n",
       "      <td>[\"이른바 '검언유착 의혹'으로 구속기소된 이동재 전 채널A 기자의 구속 기간이 4...</td>\n",
       "      <td>'검언유착 의혹' 이동재 전 채널A 기자 4일 석방..구속 292일 만</td>\n",
       "    </tr>\n",
       "    <tr>\n",
       "      <th>52127</th>\n",
       "      <td>['(서울=뉴스1) 문동주 기자,김동은 기자 = 22년 차 배달기사 이씨(48)는 ...</td>\n",
       "      <td>[영상] \"냄새난다고 화물용 승강기 타래요\"..도 넘은 '갑질'에 뿔난 배달기사들</td>\n",
       "    </tr>\n",
       "    <tr>\n",
       "      <th>52128</th>\n",
       "      <td>['(서울=뉴스1) 전준우 기자 = 서울 중랑구에서 신종 코로나바이러스 감염증(코로...</td>\n",
       "      <td>중랑구서 확진자 9명 추가..2명은 광진구 음식점 관련</td>\n",
       "    </tr>\n",
       "    <tr>\n",
       "      <th>52129</th>\n",
       "      <td>[' [이데일리 함정선 기자] 국민건강보험공단의 전화상담 업무를 담당하고 있는 민간...</td>\n",
       "      <td>콜센터 파업 장기화하나..건보공단 \"위탁업체 정직원..직고용 어려워\"</td>\n",
       "    </tr>\n",
       "    <tr>\n",
       "      <th>52130</th>\n",
       "      <td>['인파 몰림 현상을 꺼려하는 분위기 탓에 도심 관광지가 외면받자 지자체는 해법 모...</td>\n",
       "      <td>'대구 근대골목 한국관광 100선서 최초 제외'..관광 위기, 자구책은?</td>\n",
       "    </tr>\n",
       "  </tbody>\n",
       "</table>\n",
       "<p>52131 rows × 2 columns</p>\n",
       "</div>"
      ],
      "text/plain": [
       "                                                articles  \\\n",
       "0      ['주요 일정으로는 7일 제1차 본회의에서 2020회계연도 결산승인안에 대한 제안 ...   \n",
       "1      [\"'성수기를 피해 소규모 가족 단위로, 짧게.'\", '정부가 발표한 휴가철 방역 ...   \n",
       "2      [\"웹툰 ‘마음의 소리’와 ‘조의 영역'으로 인기를 얻은 웹툰 작가 조석(38)이 ...   \n",
       "3      ['7일 법조계에 따르면 세월호 특검팀은 서해해경청과 목포해경에 검사와 수사관 등을...   \n",
       "4      ['제주상공회의소(회장 양문석)와 제주도관광협회(회장 부동석)가 주최하고, 제주도·...   \n",
       "...                                                  ...   \n",
       "52126  [\"이른바 '검언유착 의혹'으로 구속기소된 이동재 전 채널A 기자의 구속 기간이 4...   \n",
       "52127  ['(서울=뉴스1) 문동주 기자,김동은 기자 = 22년 차 배달기사 이씨(48)는 ...   \n",
       "52128  ['(서울=뉴스1) 전준우 기자 = 서울 중랑구에서 신종 코로나바이러스 감염증(코로...   \n",
       "52129  [' [이데일리 함정선 기자] 국민건강보험공단의 전화상담 업무를 담당하고 있는 민간...   \n",
       "52130  ['인파 몰림 현상을 꺼려하는 분위기 탓에 도심 관광지가 외면받자 지자체는 해법 모...   \n",
       "\n",
       "                                              titles  \n",
       "0                        파주시의회 행감 돌입..\"다양한 해법-대안 제시\"  \n",
       "1                            휴가철 방역대책..\"짧게·소규모로·나눠서\"  \n",
       "2               '마음의 소리' 조석 작가 \"덜컥 폐결핵, 결국 담배 때문에..\"  \n",
       "3                            세월호 특검, 서해해경청·목포해경 압수수색  \n",
       "4                   제주상의·관광협회, ESG 기반 지속가능경영 구축 '속도'  \n",
       "...                                              ...  \n",
       "52126        '검언유착 의혹' 이동재 전 채널A 기자 4일 석방..구속 292일 만  \n",
       "52127  [영상] \"냄새난다고 화물용 승강기 타래요\"..도 넘은 '갑질'에 뿔난 배달기사들  \n",
       "52128                 중랑구서 확진자 9명 추가..2명은 광진구 음식점 관련  \n",
       "52129         콜센터 파업 장기화하나..건보공단 \"위탁업체 정직원..직고용 어려워\"  \n",
       "52130       '대구 근대골목 한국관광 100선서 최초 제외'..관광 위기, 자구책은?  \n",
       "\n",
       "[52131 rows x 2 columns]"
      ]
     },
     "execution_count": 82,
     "metadata": {},
     "output_type": "execute_result"
    }
   ],
   "source": [
    "final = pd.read_csv('./data_in/data.csv')\n",
    "data = final[['articles','titles']]\n",
    "data"
   ]
  },
  {
   "cell_type": "markdown",
   "id": "4f780a3b",
   "metadata": {},
   "source": [
    "- 한글이랑 숫자만 깔끔하게.. 출처 이런것도 빼고"
   ]
  },
  {
   "cell_type": "code",
   "execution_count": 83,
   "id": "4e03e2f4",
   "metadata": {
    "ExecuteTime": {
     "end_time": "2021-06-09T04:32:11.965959Z",
     "start_time": "2021-06-09T04:31:56.007195Z"
    }
   },
   "outputs": [
    {
     "name": "stderr",
     "output_type": "stream",
     "text": [
      "<ipython-input-83-d84f038f2d5e>:10: SettingWithCopyWarning: \n",
      "A value is trying to be set on a copy of a slice from a DataFrame.\n",
      "Try using .loc[row_indexer,col_indexer] = value instead\n",
      "\n",
      "See the caveats in the documentation: https://pandas.pydata.org/pandas-docs/stable/user_guide/indexing.html#returning-a-view-versus-a-copy\n",
      "  data['titles'] = data['titles'].apply(first_preprocess)\n",
      "<ipython-input-83-d84f038f2d5e>:11: SettingWithCopyWarning: \n",
      "A value is trying to be set on a copy of a slice from a DataFrame.\n",
      "Try using .loc[row_indexer,col_indexer] = value instead\n",
      "\n",
      "See the caveats in the documentation: https://pandas.pydata.org/pandas-docs/stable/user_guide/indexing.html#returning-a-view-versus-a-copy\n",
      "  data['articles'] = data['articles'].apply(first_preprocess)\n"
     ]
    }
   ],
   "source": [
    "import re\n",
    "def first_preprocess(s):\n",
    "    s = re.sub('[^가-힣ㄱ-ㅎㅏ-ㅣ\\s\\d]', ' ',s)\n",
    "    s = re.sub('\\s{2,}', ' ', s).lstrip().rstrip()\n",
    "    s = re.sub('\\w+\\s{1}\\w+\\s{1}기자\\s{1}|\\w+\\s{1}\\w+\\s{1}앵커\\s{1}|\\w+\\s{1}앵커\\s{1}', ' ', s).strip()\n",
    "    s = re.sub('\\w+뉴스|\\w+신문|\\w+데일리|뉴스1|뉴시스|한겨레|프레시안|정책브리핑|데일리안|\\w+경제|한국경제|머니투데이|\\w+일보|비즈니스워치|\\w+비즈|머니S|더팩트|뉴스타파|아이뉴스24|\\w+와이어|\\w+\\s셜록\\s기자', ' ', s).strip()\n",
    "    s = re.sub('\\s{2,}',' ',s).lstrip().rstrip()\n",
    "    return s\n",
    "\n",
    "data['titles'] = data['titles'].apply(first_preprocess)\n",
    "data['articles'] = data['articles'].apply(first_preprocess)"
   ]
  },
  {
   "cell_type": "markdown",
   "id": "0fab09a5",
   "metadata": {},
   "source": [
    "- 본문 길이가 0이면 제거"
   ]
  },
  {
   "cell_type": "code",
   "execution_count": 84,
   "id": "83f0355a",
   "metadata": {
    "ExecuteTime": {
     "end_time": "2021-06-09T04:32:15.634343Z",
     "start_time": "2021-06-09T04:32:15.588425Z"
    }
   },
   "outputs": [
    {
     "name": "stderr",
     "output_type": "stream",
     "text": [
      "<ipython-input-84-ffcdf597a54b>:1: SettingWithCopyWarning: \n",
      "A value is trying to be set on a copy of a slice from a DataFrame.\n",
      "Try using .loc[row_indexer,col_indexer] = value instead\n",
      "\n",
      "See the caveats in the documentation: https://pandas.pydata.org/pandas-docs/stable/user_guide/indexing.html#returning-a-view-versus-a-copy\n",
      "  data['articles'] = data['articles'].apply(lambda x : np.nan if len(x) == 0 else x)\n"
     ]
    }
   ],
   "source": [
    "data['articles'] = data['articles'].apply(lambda x : np.nan if len(x) == 0 else x)"
   ]
  },
  {
   "cell_type": "code",
   "execution_count": 85,
   "id": "6007cb23",
   "metadata": {
    "ExecuteTime": {
     "end_time": "2021-06-09T04:32:19.984591Z",
     "start_time": "2021-06-09T04:32:19.948689Z"
    },
    "scrolled": false
   },
   "outputs": [
    {
     "data": {
      "text/html": [
       "<div>\n",
       "<style scoped>\n",
       "    .dataframe tbody tr th:only-of-type {\n",
       "        vertical-align: middle;\n",
       "    }\n",
       "\n",
       "    .dataframe tbody tr th {\n",
       "        vertical-align: top;\n",
       "    }\n",
       "\n",
       "    .dataframe thead th {\n",
       "        text-align: right;\n",
       "    }\n",
       "</style>\n",
       "<table border=\"1\" class=\"dataframe\">\n",
       "  <thead>\n",
       "    <tr style=\"text-align: right;\">\n",
       "      <th></th>\n",
       "      <th>articles</th>\n",
       "      <th>titles</th>\n",
       "    </tr>\n",
       "  </thead>\n",
       "  <tbody>\n",
       "    <tr>\n",
       "      <th>0</th>\n",
       "      <td>주요 일정으로는 7일 제1차 본회의에서 2020회계연도 결산승인안에 대한 제안 설명...</td>\n",
       "      <td>파주시의회 행감 돌입 다양한 해법 대안 제시</td>\n",
       "    </tr>\n",
       "    <tr>\n",
       "      <th>1</th>\n",
       "      <td>성수기를 피해 소규모 가족 단위로 짧게 정부가 발표한 휴가철 방역 대책의 핵심입니다...</td>\n",
       "      <td>휴가철 방역대책 짧게 소규모로 나눠서</td>\n",
       "    </tr>\n",
       "    <tr>\n",
       "      <th>2</th>\n",
       "      <td>웹툰 마음의 소리 와 조의 영역 으로 인기를 얻은 웹툰 작가 조석 38 이 폐결핵 ...</td>\n",
       "      <td>마음의 소리 조석 작가 덜컥 폐결핵 결국 담배 때문에</td>\n",
       "    </tr>\n",
       "    <tr>\n",
       "      <th>3</th>\n",
       "      <td>7일 법조계에 따르면 세월호 특검팀은 서해해경청과 목포해경에 검사와 수사관 등을 보...</td>\n",
       "      <td>세월호 특검 서해해경청 목포해경 압수수색</td>\n",
       "    </tr>\n",
       "    <tr>\n",
       "      <th>4</th>\n",
       "      <td>제주상공회의소 회장 양문석 와 제주도관광협회 회장 부동석 가 주최하고 제주도 제주도...</td>\n",
       "      <td>제주상의 관광협회 기반 지속가능경영 구축 속도</td>\n",
       "    </tr>\n",
       "    <tr>\n",
       "      <th>...</th>\n",
       "      <td>...</td>\n",
       "      <td>...</td>\n",
       "    </tr>\n",
       "    <tr>\n",
       "      <th>52115</th>\n",
       "      <td>이른바 검언유착 의혹 으로 구속기소된 이동재 전 채널 기자의 구속 기간이 4일 만료...</td>\n",
       "      <td>검언유착 의혹 이동재 4일 석방 구속 292일 만</td>\n",
       "    </tr>\n",
       "    <tr>\n",
       "      <th>52116</th>\n",
       "      <td>서울 김동은 기자 22년 차 배달기사 이씨 48 는 음식 배달을 위해 서울 모 초고...</td>\n",
       "      <td>영상 냄새난다고 화물용 승강기 타래요 도 넘은 갑질 에 뿔난 배달기사들</td>\n",
       "    </tr>\n",
       "    <tr>\n",
       "      <th>52117</th>\n",
       "      <td>서울 서울 중랑구에서 신종 코로나바이러스 감염증 코로나19 확진자가 9명 추가 발생...</td>\n",
       "      <td>중랑구서 확진자 9명 추가 2명은 광진구 음식점 관련</td>\n",
       "    </tr>\n",
       "    <tr>\n",
       "      <th>52118</th>\n",
       "      <td>국민건강보험공단의 전화상담 업무를 담당하고 있는 민간 위탁업체 소속 콜센터 직원 8...</td>\n",
       "      <td>콜센터 파업 장기화하나 건보공단 위탁업체 정직원 직고용 어려워</td>\n",
       "    </tr>\n",
       "    <tr>\n",
       "      <th>52119</th>\n",
       "      <td>인파 몰림 현상을 꺼려하는 분위기 탓에 도심 관광지가 외면받자 지자체는 해법 모색에...</td>\n",
       "      <td>대구 근대골목 한국관광 100선서 최초 제외 관광 위기 자구책은</td>\n",
       "    </tr>\n",
       "  </tbody>\n",
       "</table>\n",
       "<p>52120 rows × 2 columns</p>\n",
       "</div>"
      ],
      "text/plain": [
       "                                                articles  \\\n",
       "0      주요 일정으로는 7일 제1차 본회의에서 2020회계연도 결산승인안에 대한 제안 설명...   \n",
       "1      성수기를 피해 소규모 가족 단위로 짧게 정부가 발표한 휴가철 방역 대책의 핵심입니다...   \n",
       "2      웹툰 마음의 소리 와 조의 영역 으로 인기를 얻은 웹툰 작가 조석 38 이 폐결핵 ...   \n",
       "3      7일 법조계에 따르면 세월호 특검팀은 서해해경청과 목포해경에 검사와 수사관 등을 보...   \n",
       "4      제주상공회의소 회장 양문석 와 제주도관광협회 회장 부동석 가 주최하고 제주도 제주도...   \n",
       "...                                                  ...   \n",
       "52115  이른바 검언유착 의혹 으로 구속기소된 이동재 전 채널 기자의 구속 기간이 4일 만료...   \n",
       "52116  서울 김동은 기자 22년 차 배달기사 이씨 48 는 음식 배달을 위해 서울 모 초고...   \n",
       "52117  서울 서울 중랑구에서 신종 코로나바이러스 감염증 코로나19 확진자가 9명 추가 발생...   \n",
       "52118  국민건강보험공단의 전화상담 업무를 담당하고 있는 민간 위탁업체 소속 콜센터 직원 8...   \n",
       "52119  인파 몰림 현상을 꺼려하는 분위기 탓에 도심 관광지가 외면받자 지자체는 해법 모색에...   \n",
       "\n",
       "                                        titles  \n",
       "0                     파주시의회 행감 돌입 다양한 해법 대안 제시  \n",
       "1                         휴가철 방역대책 짧게 소규모로 나눠서  \n",
       "2                마음의 소리 조석 작가 덜컥 폐결핵 결국 담배 때문에  \n",
       "3                       세월호 특검 서해해경청 목포해경 압수수색  \n",
       "4                    제주상의 관광협회 기반 지속가능경영 구축 속도  \n",
       "...                                        ...  \n",
       "52115              검언유착 의혹 이동재 4일 석방 구속 292일 만  \n",
       "52116  영상 냄새난다고 화물용 승강기 타래요 도 넘은 갑질 에 뿔난 배달기사들  \n",
       "52117            중랑구서 확진자 9명 추가 2명은 광진구 음식점 관련  \n",
       "52118       콜센터 파업 장기화하나 건보공단 위탁업체 정직원 직고용 어려워  \n",
       "52119      대구 근대골목 한국관광 100선서 최초 제외 관광 위기 자구책은  \n",
       "\n",
       "[52120 rows x 2 columns]"
      ]
     },
     "execution_count": 85,
     "metadata": {},
     "output_type": "execute_result"
    }
   ],
   "source": [
    "data = data.dropna().reset_index(drop=True)\n",
    "data"
   ]
  },
  {
   "cell_type": "code",
   "execution_count": 86,
   "id": "213a92f0",
   "metadata": {
    "ExecuteTime": {
     "end_time": "2021-06-09T04:32:21.533405Z",
     "start_time": "2021-06-09T04:32:21.528419Z"
    }
   },
   "outputs": [],
   "source": [
    "from konlpy.tag import Okt\n",
    "\n",
    "def text_to_morphs(s):\n",
    "    return ' '.join(Okt().morphs(s))"
   ]
  },
  {
   "cell_type": "markdown",
   "id": "ba6ef037",
   "metadata": {},
   "source": [
    "## 본문 문장에 대한 길이 분석"
   ]
  },
  {
   "cell_type": "code",
   "execution_count": 87,
   "id": "b408f069",
   "metadata": {
    "ExecuteTime": {
     "end_time": "2021-06-09T04:32:22.337538Z",
     "start_time": "2021-06-09T04:32:22.307620Z"
    },
    "scrolled": true
   },
   "outputs": [
    {
     "data": {
      "text/plain": [
       "['주요 일정으로는 7일 제1차 본회의에서 2020회계연도 결산승인안에 대한 제안 설명을 청취하고 예산결산특별위원회를 구성한다 8일부터 16일까지 집행부를 대상으로 현지 확인 업무추진사항에 대한 질의 등 2021년도 행정사무감사를 실시하고 이어 18일부터 21일까지 상임위원회별로 조례안 및 의원발의 조례안 등 20건의 안건을 심의할 예정이다 22일 제2차 본회의는 일반안건 심사보고 및 행정사무감사 결과를 청취하고 24일부터 28일까지 열릴 예산결산특별위원회는 2020회계연도 결산 승인안을 심사한다',\n",
       " '성수기를 피해 소규모 가족 단위로 짧게 정부가 발표한 휴가철 방역 대책의 핵심입니다 공무원과 공공기관 100인 이상 사업장은 여름 휴가기간을 2주 앞당기고 2차례 이상 나눠 쓸 것을 권고헀습니다',\n",
       " '웹툰 마음의 소리 와 조의 영역 으로 인기를 얻은 웹툰 작가 조석 38 이 폐결핵 확진 판정을 받았다며 여러분은 저처럼 바보같이 담배 오래 피우지 마시고 금연하시라 고 했다 조 작가는 7일 인스타그램에 건강검진을 받고 폐결핵 소견이 있어 정밀검사를 해 봤더니 덜컥 확진을 받았다 며 갑자기 팔자에도 없던 많은 약이 생겼다 고 했다 그는 아무래도 피곤한 거 스트레스 받던 것도 있었겠지만 흡연이 가장 문제였을 것 같다 며 금연을 당부했다',\n",
       " '7일 법조계에 따르면 세월호 특검팀은 서해해경청과 목포해경에 검사와 수사관 등을 보내 이날 오전 11시부터 압수수색을 진행했다 서해해경청 압수수색은 0오후 9시 25분쯤까지 목포해경 압수수색은 0오후 7시쯤까지 진행됐다 특검팀은 세월호참사 당시 해경이 세월호 저장장치 을 수거하는 모습을 찍은 영상과 일지 등 관련 자료들을 확보한 것으로 알려졌다 지난달 출범한 세월호 특검은 세월호 복원 데이터 조작 의혹과 세월호의 블랙박스 격인 본체 수거 과정 의혹 관련 청와대 등 당시 정부 대응의 적정성 등을 수사하고 있다 특검은 최근까지 사회적참사특별조사위원회 사참위 관계자 등을 조사해 왔으며국립과학수사연구원에 디스크 원판 조사를 의뢰하기도 했다',\n",
       " '제주상공회의소 회장 양문석 와 제주도관광협회 회장 부동석 가 주최하고 제주도 제주도개발공사 농협 제주지역본부 제주은행이 후원하는 제117차 와 관광포럼 이 7일 제주상의 홈페이지를 통해 온라인 강좌로 진행됐다 이번 포럼에선 경제 읽어주는 남자 로 알려진 김광석 산업연구원 경제연구실장이 참석해 의 부상 어떻게 대응할 것인가 를 주제로 경영 패러다임 변화와 리더십에 대한 강연을 했다 는 바람을 넘어 문화로 확산되고 있다',\n",
       " '이날 군포시의회 특별위원회 회의실에선 미래성장국 소관 부서에 대한 행정사무감사가 진행됐다 김귀근 의원과 이길호 의원은 건축과에 대한 감사 중 환경미화원 처우 개선 및 경비원 인권개선 방안을 주문했다 이길호 의원은 공동주택 미화원의 처우개선 방안 및 공동주택 의무교육 순회교육 등 입주자 분쟁 조정과 관련한 교육이 필요하다 고 강조했다 김귀근 의원은 공동주택 관계자를 교육할 경우 경비원 인권개선 교육이 형식적이지 않고 깊이 있는 교육이 필요하다 고 제언했다 이에 대해 건축과는 공동주택 의무교육 순회교육 등을 통해 분쟁을 완화하고 공동체 의식을 높일 수 있는 교육을 진행하겠다고 답했다',\n",
       " '초등학교 여교장이 남교사들을 상대로 엑스레이 상반신 사진을 보여주는 등 성희롱했다는 신고가 접수됐다 교육 당국은 감사에 착수했다 7일 경기 수원교육지원청에 따르면 모 초등학교 교사 씨 등 2명이 같은 학교 교장 씨를 교육지원청에 신고한 것으로 전해졌다 이들은 씨가 전생에 선생님과 내가 부부지간이었는지도 모르겠다 머리스타일이 예쁘다 고 말하거나 자신의 엑스레이 상반신 사진을 보여주는 등 성적 수치심을 유발했다고 주장했다',\n",
       " '췌장암으로 투병 중이던 유상철 인천 유나이티드 명예감독이 별세했다 0 이러한 가운데 고인과 함께 그라운드를 누볐던 축구계 인사들이 애도의 뜻을 보냈다 2002년 한일 월드컵 당시에 대표팀의 주장을 맡았던 홍명보 울산 감독은 안 좋다는 소식은 듣고 있었는데 빨리 간 것 같다 며 많이 보고 싶을 것 이라며 후배의 명복을 빌었다 0 울산에서 한솥밥을 먹었던 김병지 대한축구협회 부회장도 자신의 사회관계망서비스 에 지난 30년간 동료이자 후배인 유 전 감독의 영면이 안타깝다 그의 한국 축구를 위한 헌신과 노력에 감사와 경의를 표한다 고 애도했다',\n",
       " '유치원생들을 상습적으로 때리거나 음식을 강제로 먹인 20대 유치원 교사에게 법원이 집행유예를 선고했다 대구지법 형사8단독 부장판사 박성준 는 아동학대 범죄의 처벌 등에 관한 특례법 위반 혐의로 기소된 전직 유치원 교사 27 여 씨에게 징역 6월에 집행유예 2년을 선고했다고 7일 밝혔다 또 40시간의 아동학대 치료프로그램 수강과 2년 동안 아동 관련 기관 취업 제한도 명했다',\n",
       " '해외매체들도 암 투병 끝에 7일 하늘의 별 이 된 유상철 전 인천 유나이티드 감독의 부고 소식을 전하며 안타까워했다 일본 매체 풋볼존 은 이날 유 감독은 한국 뿐아니라 리그 팬들을 매료시킨 선수였다 안타깝게도 너무 빨리 이별하게 됐다 고 전했다 이 매체는 많은 리그 팬들이 여전히 유 감독을 기억하고 있다 며 유 감독은 리그에서 113경기 44골을 기록했고 요코하마에서 리그 우승까지 이끌었다 그를 더 볼 수 없다는 건 너무도 아쉬운 일 이라고 자세히 소개했다',\n",
       " '경기 연천군 공무원 노동조합 이하 연천군 공노조 은 경기도 공공기관 이전 결과를 강력히 규탄했다 7일 연천군 공노조는 가평군 공노조와 전국 공노조 포천시지부 공동으로 발표한 성명에서 이번 경기도 공공기관 이전 결과로 인해 경기도정의 핵심과제인 동서 남북 간 균형발전은 더욱 멀어졌다 면서 이재명 도지사의 특별한 희생에 따른 특별한 보상 의 원칙이 지켜지지 않았다 고 이 지사를 직접 언급하며 힐난했다 3개 기관 공노조는 본래 취지인 지역 간 균형발전보다는 교통 접근성 등 기존의 인프라만 중요시해 각종 규제로 차별받는 지역에 대한 정책적 배려는 전혀 고려하지 않았다 고 지적했다',\n",
       " '세월호 참사 증거조작 의혹을 수사 중인 이현주 특별검사팀이 오늘 7일 서해지방해양경찰청과 목포해양경찰서 등을 압수수색했습니다 특검팀은 압수수색을 통해 세월호 참사 당시 해경이 세월호 저장장치 을 수거하는 모습을 찍은 영상 등을 확보한 것으로 알려졌습니다 지난달 출범한 세월호 특검은 세월호 복원 데이터 조작 의혹과 세월호의 블랙박스인 본체 수거 과정 의혹 관련 당시 박근혜 정부 대응의 적정성 등을 수사하고 있습니다',\n",
       " '울산 울산 울주군이 저소득층을 위한 생필품 기부 시장인 울주 0원 푸드마켓 의 문을 열었습니다 울주 0원 푸드마켓 은 사회복지공동모금회 울주군 나눔천사계좌 지정기탁금으로 운영되며 코로나19로 어려움을 겪는 복지 사각지대와 기초수급탈락자 차상위계층 등 저소득가정 500세대에 6월부터 매달 3만원 상당의 식품과 생필품을 6개월 동안 93',\n",
       " '울산 울주군이 울주 관광택시를 뜻하는 울주 잇다 의 발대식을 열고 본격 운영에 들어갔습니다 울주 잇다 는 울산지역 외 관광객을 대상으로 13인승 대형 2대와 중형 10대 등 12대로 운행되며 기본 4시간에 대형 12만 원 일반택시는 8만 원이며 울주군에서 동일하게 4만 원을 지원합니다 울주 관광택시는 코로나19 이후 단체관광에서 소규모로 여행 경향이 바뀐 상황을 반영한 것입니다',\n",
       " '우기 대비 시설물 점검은 집중호우 및 장마피해로 인한 시설물 침수 토사유실 등 위험 취약시설에 집중 실시되며 국토안전관리원 안전점검표를 준용해 시설물 주변 침하 및 지반 안정상태 급경사지 절토사면의 노출면과 배수로 안전상태 옹벽 석축 균열 침하와 낙석 위험 드론을 이용한 취약시설물 점검 균열게이지 계측 이전 점검 당시 조치 여부 등을 점검한다 점검 결과에 따라 경미한 사항은 현장에서 즉시 시정 조치하고 중대한 결함이나 시급한 사항은 응급조치를 실시하는 등 신속한 보수 보강 조치를 통해 안전사고를 미연에 방지할 계획이다 서영삼 안산도시공사 사장은 시민 신뢰를 받는 공기업 위상을 세우기 위해 시민 안전을 책임지는 안전경영 실천에 매진하겠다 며 앞으로도 정기적인 안전점검과 발빠른 후속조치를 통해 시민의 소중한 생명과 자산을 지켜나가겠다 고 말했다',\n",
       " '경기 성남시의 대기업 위탁 어린이집에서 보육교사가 원아를 학대했다는 신고가 접수돼 경찰이 수사에 나섰다 0 경기남부경찰청 여성청소년범죄수사대는 아동복지법 위반 등의 혐의로 성남 모 어린이집 30대 남성 보육교사 씨를 입건해 조사 중이라고 7일 밝혔다 0 경찰은 지난 1일 씨가 6살 남자아이 군의 양팔을 잡아 집어 던졌다는 신고를 접수했다 앞서 지난 4월6일에는 오후 6시30분께 군을 화장실에 가둔 채 불을 끄고 20여분간 방치한 혐의도 받고 있다 0',\n",
       " '수영 실력이 떨어진다며 장애인 실업팀 소속 선수를 여러 차례 폭행한 감독이 집행유예를 선고받았다 울산지법 형사1단독 정한근 판사는 장애인복지법 위반 혐의로 재판에 넘겨진 52 씨에게 징역 10개월에 집행유예 2년을 선고했다고 7일 밝혔다 씨는 2016년 7월 울산지역 한 지방자치단체의 장애인 수영 실업팀 감독으로 근무하며 수영을 잘하지 못한다는 이유로 지적장애 3급 선수인 씨의 얼굴을 2차례 때려 상해를 입히는 등 2017년 3월까지 상습적으로 폭행한 혐의로 재판에 넘겨졌다',\n",
       " '울산 울산의 사회적 거리두기가 1 5단계로 완화됨에 따라 울산시교육청이 4개 공공도서관의 자료실과 자유열람실 좌석 수를 50 로 확대해 운영합니다 울산시교육청은 이용자들의 편의를 위해 부분 개관을 확대했으며 평생교육 프로그램 독서문화행사 등은 비대면이나 상황에 맞게 대면으로 진행된다고 93',\n",
       " '울산 코로나19 장기화로 운영이 중단된 울산지역 노인시설이 다시 문을 열었습니다 울산시는 지역 경로당 830여 곳과 노인복지관 14곳이 폐쇄 한달 여 만에 운영을 재개했다고 밝혔습니다 다만 노래교실과 악기 강습 등 침이 많이 튀는 프로그램은 2차 백신접종을 마친 경우에 한해 이용할 수 있도록 제한됩니다',\n",
       " '고교생 시절부터 전국 미군부대에서 노래하며 10대 후반과 20대 초반을 보냈다 소속 밴드는 얼마나 자주 바뀌었는지 이젠 이름마저 가물하다 영 사운드 영 러브즈 양떼 그룹사운드 골든 웨이브 밴드 활동을 끝냈으나 노래까지 접은 건 아니다 솔로가수 임연희 를 찾는 곳은 카바레 극장식 비어홀 호텔 나이트클럽 등 그야말로 줄을 섰다 헤비메탈 그룹에서도 활동했다']"
      ]
     },
     "execution_count": 87,
     "metadata": {},
     "output_type": "execute_result"
    }
   ],
   "source": [
    "whole_sents = list(data['articles'])\n",
    "whole_sents[:20]"
   ]
  },
  {
   "cell_type": "code",
   "execution_count": 88,
   "id": "c709500c",
   "metadata": {
    "ExecuteTime": {
     "end_time": "2021-06-09T04:32:26.192797Z",
     "start_time": "2021-06-09T04:32:25.385446Z"
    }
   },
   "outputs": [],
   "source": [
    "whole_sents = list(data['articles'])\n",
    "token_sents = [s.split() for s in whole_sents]\n",
    "token_len = [len(t) for t in token_sents]"
   ]
  },
  {
   "cell_type": "code",
   "execution_count": 89,
   "id": "83885b64",
   "metadata": {
    "ExecuteTime": {
     "end_time": "2021-06-09T04:32:27.087897Z",
     "start_time": "2021-06-09T04:32:27.014094Z"
    },
    "scrolled": false
   },
   "outputs": [
    {
     "name": "stdout",
     "output_type": "stream",
     "text": [
      "어절 최대길이: 1046\n",
      "어절 최소길이: 1\n",
      "어절 평균길이: 59.97\n",
      "어절 길이 표준편차: 33.48\n",
      "어절 중간길이: 54.0\n",
      "제 1 사분위 길이: 39.0\n",
      "제 3 사분위 길이: 120.0\n"
     ]
    }
   ],
   "source": [
    "print('어절 최대길이: {}'.format(np.max(token_len)))\n",
    "print('어절 최소길이: {}'.format(np.min(token_len)))\n",
    "print('어절 평균길이: {:.2f}'.format(np.mean(token_len)))\n",
    "print('어절 길이 표준편차: {:.2f}'.format(np.std(token_len)))\n",
    "print('어절 중간길이: {}'.format(np.median(token_len)))\n",
    "print('제 1 사분위 길이: {}'.format(np.percentile(token_len, 25)))\n",
    "print('제 3 사분위 길이: {}'.format(np.percentile(token_len, 95)))"
   ]
  },
  {
   "cell_type": "code",
   "execution_count": 91,
   "id": "99734285",
   "metadata": {
    "ExecuteTime": {
     "end_time": "2021-06-09T04:32:54.251421Z",
     "start_time": "2021-06-09T04:32:53.541258Z"
    }
   },
   "outputs": [
    {
     "data": {
      "image/png": "[encoded data removed]",
      "text/plain": [
       "<Figure size 1440x720 with 1 Axes>"
      ]
     },
     "metadata": {
      "image/png": {
       "height": 577,
       "width": 1164
      }
     },
     "output_type": "display_data"
    }
   ],
   "source": [
    "plt.figure(figsize=(20,10))\n",
    "plt.hist(token_len, bins=200)\n",
    "plt.show()"
   ]
  },
  {
   "cell_type": "markdown",
   "id": "6b4db718",
   "metadata": {},
   "source": [
    "- 어절 길이 200개 이상은 제거"
   ]
  },
  {
   "cell_type": "code",
   "execution_count": 92,
   "id": "c0f3f6ab",
   "metadata": {
    "ExecuteTime": {
     "end_time": "2021-06-09T04:33:39.484692Z",
     "start_time": "2021-06-09T04:33:39.170299Z"
    }
   },
   "outputs": [
    {
     "data": {
      "text/html": [
       "<div>\n",
       "<style scoped>\n",
       "    .dataframe tbody tr th:only-of-type {\n",
       "        vertical-align: middle;\n",
       "    }\n",
       "\n",
       "    .dataframe tbody tr th {\n",
       "        vertical-align: top;\n",
       "    }\n",
       "\n",
       "    .dataframe thead th {\n",
       "        text-align: right;\n",
       "    }\n",
       "</style>\n",
       "<table border=\"1\" class=\"dataframe\">\n",
       "  <thead>\n",
       "    <tr style=\"text-align: right;\">\n",
       "      <th></th>\n",
       "      <th>articles</th>\n",
       "      <th>titles</th>\n",
       "    </tr>\n",
       "  </thead>\n",
       "  <tbody>\n",
       "    <tr>\n",
       "      <th>0</th>\n",
       "      <td>주요 일정으로는 7일 제1차 본회의에서 2020회계연도 결산승인안에 대한 제안 설명...</td>\n",
       "      <td>파주시의회 행감 돌입 다양한 해법 대안 제시</td>\n",
       "    </tr>\n",
       "    <tr>\n",
       "      <th>1</th>\n",
       "      <td>성수기를 피해 소규모 가족 단위로 짧게 정부가 발표한 휴가철 방역 대책의 핵심입니다...</td>\n",
       "      <td>휴가철 방역대책 짧게 소규모로 나눠서</td>\n",
       "    </tr>\n",
       "    <tr>\n",
       "      <th>2</th>\n",
       "      <td>웹툰 마음의 소리 와 조의 영역 으로 인기를 얻은 웹툰 작가 조석 38 이 폐결핵 ...</td>\n",
       "      <td>마음의 소리 조석 작가 덜컥 폐결핵 결국 담배 때문에</td>\n",
       "    </tr>\n",
       "    <tr>\n",
       "      <th>3</th>\n",
       "      <td>7일 법조계에 따르면 세월호 특검팀은 서해해경청과 목포해경에 검사와 수사관 등을 보...</td>\n",
       "      <td>세월호 특검 서해해경청 목포해경 압수수색</td>\n",
       "    </tr>\n",
       "    <tr>\n",
       "      <th>4</th>\n",
       "      <td>제주상공회의소 회장 양문석 와 제주도관광협회 회장 부동석 가 주최하고 제주도 제주도...</td>\n",
       "      <td>제주상의 관광협회 기반 지속가능경영 구축 속도</td>\n",
       "    </tr>\n",
       "    <tr>\n",
       "      <th>...</th>\n",
       "      <td>...</td>\n",
       "      <td>...</td>\n",
       "    </tr>\n",
       "    <tr>\n",
       "      <th>51854</th>\n",
       "      <td>이른바 검언유착 의혹 으로 구속기소된 이동재 전 채널 기자의 구속 기간이 4일 만료...</td>\n",
       "      <td>검언유착 의혹 이동재 4일 석방 구속 292일 만</td>\n",
       "    </tr>\n",
       "    <tr>\n",
       "      <th>51855</th>\n",
       "      <td>서울 김동은 기자 22년 차 배달기사 이씨 48 는 음식 배달을 위해 서울 모 초고...</td>\n",
       "      <td>영상 냄새난다고 화물용 승강기 타래요 도 넘은 갑질 에 뿔난 배달기사들</td>\n",
       "    </tr>\n",
       "    <tr>\n",
       "      <th>51856</th>\n",
       "      <td>서울 서울 중랑구에서 신종 코로나바이러스 감염증 코로나19 확진자가 9명 추가 발생...</td>\n",
       "      <td>중랑구서 확진자 9명 추가 2명은 광진구 음식점 관련</td>\n",
       "    </tr>\n",
       "    <tr>\n",
       "      <th>51857</th>\n",
       "      <td>국민건강보험공단의 전화상담 업무를 담당하고 있는 민간 위탁업체 소속 콜센터 직원 8...</td>\n",
       "      <td>콜센터 파업 장기화하나 건보공단 위탁업체 정직원 직고용 어려워</td>\n",
       "    </tr>\n",
       "    <tr>\n",
       "      <th>51858</th>\n",
       "      <td>인파 몰림 현상을 꺼려하는 분위기 탓에 도심 관광지가 외면받자 지자체는 해법 모색에...</td>\n",
       "      <td>대구 근대골목 한국관광 100선서 최초 제외 관광 위기 자구책은</td>\n",
       "    </tr>\n",
       "  </tbody>\n",
       "</table>\n",
       "<p>51859 rows × 2 columns</p>\n",
       "</div>"
      ],
      "text/plain": [
       "                                                articles  \\\n",
       "0      주요 일정으로는 7일 제1차 본회의에서 2020회계연도 결산승인안에 대한 제안 설명...   \n",
       "1      성수기를 피해 소규모 가족 단위로 짧게 정부가 발표한 휴가철 방역 대책의 핵심입니다...   \n",
       "2      웹툰 마음의 소리 와 조의 영역 으로 인기를 얻은 웹툰 작가 조석 38 이 폐결핵 ...   \n",
       "3      7일 법조계에 따르면 세월호 특검팀은 서해해경청과 목포해경에 검사와 수사관 등을 보...   \n",
       "4      제주상공회의소 회장 양문석 와 제주도관광협회 회장 부동석 가 주최하고 제주도 제주도...   \n",
       "...                                                  ...   \n",
       "51854  이른바 검언유착 의혹 으로 구속기소된 이동재 전 채널 기자의 구속 기간이 4일 만료...   \n",
       "51855  서울 김동은 기자 22년 차 배달기사 이씨 48 는 음식 배달을 위해 서울 모 초고...   \n",
       "51856  서울 서울 중랑구에서 신종 코로나바이러스 감염증 코로나19 확진자가 9명 추가 발생...   \n",
       "51857  국민건강보험공단의 전화상담 업무를 담당하고 있는 민간 위탁업체 소속 콜센터 직원 8...   \n",
       "51858  인파 몰림 현상을 꺼려하는 분위기 탓에 도심 관광지가 외면받자 지자체는 해법 모색에...   \n",
       "\n",
       "                                        titles  \n",
       "0                     파주시의회 행감 돌입 다양한 해법 대안 제시  \n",
       "1                         휴가철 방역대책 짧게 소규모로 나눠서  \n",
       "2                마음의 소리 조석 작가 덜컥 폐결핵 결국 담배 때문에  \n",
       "3                       세월호 특검 서해해경청 목포해경 압수수색  \n",
       "4                    제주상의 관광협회 기반 지속가능경영 구축 속도  \n",
       "...                                        ...  \n",
       "51854              검언유착 의혹 이동재 4일 석방 구속 292일 만  \n",
       "51855  영상 냄새난다고 화물용 승강기 타래요 도 넘은 갑질 에 뿔난 배달기사들  \n",
       "51856            중랑구서 확진자 9명 추가 2명은 광진구 음식점 관련  \n",
       "51857       콜센터 파업 장기화하나 건보공단 위탁업체 정직원 직고용 어려워  \n",
       "51858      대구 근대골목 한국관광 100선서 최초 제외 관광 위기 자구책은  \n",
       "\n",
       "[51859 rows x 2 columns]"
      ]
     },
     "execution_count": 92,
     "metadata": {},
     "output_type": "execute_result"
    }
   ],
   "source": [
    "data['articles'] = data['articles'].apply(lambda x : np.nan if (len(x.split()) >= 200)  else  x)\n",
    "data = data.dropna().reset_index(drop=True)\n",
    "data"
   ]
  },
  {
   "cell_type": "code",
   "execution_count": 93,
   "id": "d2dfc4a1",
   "metadata": {
    "ExecuteTime": {
     "end_time": "2021-06-09T04:33:46.891145Z",
     "start_time": "2021-06-09T04:33:46.391407Z"
    }
   },
   "outputs": [],
   "source": [
    "whole_sents = list(data['articles'])\n",
    "token_sents = [s.split() for s in whole_sents]\n",
    "token_len = [len(t) for t in token_sents]"
   ]
  },
  {
   "cell_type": "code",
   "execution_count": 94,
   "id": "4258b85d",
   "metadata": {
    "ExecuteTime": {
     "end_time": "2021-06-09T04:33:47.665609Z",
     "start_time": "2021-06-09T04:33:47.620751Z"
    }
   },
   "outputs": [
    {
     "name": "stdout",
     "output_type": "stream",
     "text": [
      "어절 최대길이: 199\n",
      "어절 최소길이: 1\n",
      "어절 평균길이: 59.00\n",
      "어절 길이 표준편차: 30.04\n",
      "어절 중간길이: 54.0\n",
      "제 1 사분위 길이: 39.0\n",
      "제 3 사분위 길이: 97.0\n"
     ]
    }
   ],
   "source": [
    "print('어절 최대길이: {}'.format(np.max(token_len)))\n",
    "print('어절 최소길이: {}'.format(np.min(token_len)))\n",
    "print('어절 평균길이: {:.2f}'.format(np.mean(token_len)))\n",
    "print('어절 길이 표준편차: {:.2f}'.format(np.std(token_len)))\n",
    "print('어절 중간길이: {}'.format(np.median(token_len)))\n",
    "print('제 1 사분위 길이: {}'.format(np.percentile(token_len, 25)))\n",
    "print('제 3 사분위 길이: {}'.format(np.percentile(token_len, 90)))"
   ]
  },
  {
   "cell_type": "markdown",
   "id": "b77df4cf",
   "metadata": {},
   "source": [
    "- 어절 150개 이상 제거"
   ]
  },
  {
   "cell_type": "code",
   "execution_count": 96,
   "id": "3d6ef024",
   "metadata": {
    "ExecuteTime": {
     "end_time": "2021-06-09T04:34:12.030567Z",
     "start_time": "2021-06-09T04:34:11.708039Z"
    }
   },
   "outputs": [
    {
     "data": {
      "text/html": [
       "<div>\n",
       "<style scoped>\n",
       "    .dataframe tbody tr th:only-of-type {\n",
       "        vertical-align: middle;\n",
       "    }\n",
       "\n",
       "    .dataframe tbody tr th {\n",
       "        vertical-align: top;\n",
       "    }\n",
       "\n",
       "    .dataframe thead th {\n",
       "        text-align: right;\n",
       "    }\n",
       "</style>\n",
       "<table border=\"1\" class=\"dataframe\">\n",
       "  <thead>\n",
       "    <tr style=\"text-align: right;\">\n",
       "      <th></th>\n",
       "      <th>articles</th>\n",
       "      <th>titles</th>\n",
       "    </tr>\n",
       "  </thead>\n",
       "  <tbody>\n",
       "    <tr>\n",
       "      <th>0</th>\n",
       "      <td>주요 일정으로는 7일 제1차 본회의에서 2020회계연도 결산승인안에 대한 제안 설명...</td>\n",
       "      <td>파주시의회 행감 돌입 다양한 해법 대안 제시</td>\n",
       "    </tr>\n",
       "    <tr>\n",
       "      <th>1</th>\n",
       "      <td>성수기를 피해 소규모 가족 단위로 짧게 정부가 발표한 휴가철 방역 대책의 핵심입니다...</td>\n",
       "      <td>휴가철 방역대책 짧게 소규모로 나눠서</td>\n",
       "    </tr>\n",
       "    <tr>\n",
       "      <th>2</th>\n",
       "      <td>웹툰 마음의 소리 와 조의 영역 으로 인기를 얻은 웹툰 작가 조석 38 이 폐결핵 ...</td>\n",
       "      <td>마음의 소리 조석 작가 덜컥 폐결핵 결국 담배 때문에</td>\n",
       "    </tr>\n",
       "    <tr>\n",
       "      <th>3</th>\n",
       "      <td>7일 법조계에 따르면 세월호 특검팀은 서해해경청과 목포해경에 검사와 수사관 등을 보...</td>\n",
       "      <td>세월호 특검 서해해경청 목포해경 압수수색</td>\n",
       "    </tr>\n",
       "    <tr>\n",
       "      <th>4</th>\n",
       "      <td>제주상공회의소 회장 양문석 와 제주도관광협회 회장 부동석 가 주최하고 제주도 제주도...</td>\n",
       "      <td>제주상의 관광협회 기반 지속가능경영 구축 속도</td>\n",
       "    </tr>\n",
       "    <tr>\n",
       "      <th>...</th>\n",
       "      <td>...</td>\n",
       "      <td>...</td>\n",
       "    </tr>\n",
       "    <tr>\n",
       "      <th>51052</th>\n",
       "      <td>이른바 검언유착 의혹 으로 구속기소된 이동재 전 채널 기자의 구속 기간이 4일 만료...</td>\n",
       "      <td>검언유착 의혹 이동재 4일 석방 구속 292일 만</td>\n",
       "    </tr>\n",
       "    <tr>\n",
       "      <th>51053</th>\n",
       "      <td>서울 김동은 기자 22년 차 배달기사 이씨 48 는 음식 배달을 위해 서울 모 초고...</td>\n",
       "      <td>영상 냄새난다고 화물용 승강기 타래요 도 넘은 갑질 에 뿔난 배달기사들</td>\n",
       "    </tr>\n",
       "    <tr>\n",
       "      <th>51054</th>\n",
       "      <td>서울 서울 중랑구에서 신종 코로나바이러스 감염증 코로나19 확진자가 9명 추가 발생...</td>\n",
       "      <td>중랑구서 확진자 9명 추가 2명은 광진구 음식점 관련</td>\n",
       "    </tr>\n",
       "    <tr>\n",
       "      <th>51055</th>\n",
       "      <td>국민건강보험공단의 전화상담 업무를 담당하고 있는 민간 위탁업체 소속 콜센터 직원 8...</td>\n",
       "      <td>콜센터 파업 장기화하나 건보공단 위탁업체 정직원 직고용 어려워</td>\n",
       "    </tr>\n",
       "    <tr>\n",
       "      <th>51056</th>\n",
       "      <td>인파 몰림 현상을 꺼려하는 분위기 탓에 도심 관광지가 외면받자 지자체는 해법 모색에...</td>\n",
       "      <td>대구 근대골목 한국관광 100선서 최초 제외 관광 위기 자구책은</td>\n",
       "    </tr>\n",
       "  </tbody>\n",
       "</table>\n",
       "<p>51057 rows × 2 columns</p>\n",
       "</div>"
      ],
      "text/plain": [
       "                                                articles  \\\n",
       "0      주요 일정으로는 7일 제1차 본회의에서 2020회계연도 결산승인안에 대한 제안 설명...   \n",
       "1      성수기를 피해 소규모 가족 단위로 짧게 정부가 발표한 휴가철 방역 대책의 핵심입니다...   \n",
       "2      웹툰 마음의 소리 와 조의 영역 으로 인기를 얻은 웹툰 작가 조석 38 이 폐결핵 ...   \n",
       "3      7일 법조계에 따르면 세월호 특검팀은 서해해경청과 목포해경에 검사와 수사관 등을 보...   \n",
       "4      제주상공회의소 회장 양문석 와 제주도관광협회 회장 부동석 가 주최하고 제주도 제주도...   \n",
       "...                                                  ...   \n",
       "51052  이른바 검언유착 의혹 으로 구속기소된 이동재 전 채널 기자의 구속 기간이 4일 만료...   \n",
       "51053  서울 김동은 기자 22년 차 배달기사 이씨 48 는 음식 배달을 위해 서울 모 초고...   \n",
       "51054  서울 서울 중랑구에서 신종 코로나바이러스 감염증 코로나19 확진자가 9명 추가 발생...   \n",
       "51055  국민건강보험공단의 전화상담 업무를 담당하고 있는 민간 위탁업체 소속 콜센터 직원 8...   \n",
       "51056  인파 몰림 현상을 꺼려하는 분위기 탓에 도심 관광지가 외면받자 지자체는 해법 모색에...   \n",
       "\n",
       "                                        titles  \n",
       "0                     파주시의회 행감 돌입 다양한 해법 대안 제시  \n",
       "1                         휴가철 방역대책 짧게 소규모로 나눠서  \n",
       "2                마음의 소리 조석 작가 덜컥 폐결핵 결국 담배 때문에  \n",
       "3                       세월호 특검 서해해경청 목포해경 압수수색  \n",
       "4                    제주상의 관광협회 기반 지속가능경영 구축 속도  \n",
       "...                                        ...  \n",
       "51052              검언유착 의혹 이동재 4일 석방 구속 292일 만  \n",
       "51053  영상 냄새난다고 화물용 승강기 타래요 도 넘은 갑질 에 뿔난 배달기사들  \n",
       "51054            중랑구서 확진자 9명 추가 2명은 광진구 음식점 관련  \n",
       "51055       콜센터 파업 장기화하나 건보공단 위탁업체 정직원 직고용 어려워  \n",
       "51056      대구 근대골목 한국관광 100선서 최초 제외 관광 위기 자구책은  \n",
       "\n",
       "[51057 rows x 2 columns]"
      ]
     },
     "execution_count": 96,
     "metadata": {},
     "output_type": "execute_result"
    }
   ],
   "source": [
    "data['articles'] = data['articles'].apply(lambda x : np.nan if (len(x.split()) >= 150)  else  x)\n",
    "data = data.dropna().reset_index(drop=True)\n",
    "data"
   ]
  },
  {
   "cell_type": "code",
   "execution_count": 97,
   "id": "bad288e8",
   "metadata": {
    "ExecuteTime": {
     "end_time": "2021-06-09T04:34:13.923526Z",
     "start_time": "2021-06-09T04:34:12.850031Z"
    }
   },
   "outputs": [
    {
     "name": "stdout",
     "output_type": "stream",
     "text": [
      "어절 최대길이: 149\n",
      "어절 최소길이: 1\n",
      "어절 평균길이: 57.27\n",
      "어절 길이 표준편차: 26.87\n",
      "어절 중간길이: 54.0\n",
      "제 1 사분위 길이: 25.0\n",
      "제 3 사분위 길이: 94.0\n"
     ]
    },
    {
     "data": {
      "image/png": "[encoded data removed]",
      "text/plain": [
       "<Figure size 1440x720 with 1 Axes>"
      ]
     },
     "metadata": {
      "image/png": {
       "height": 577,
       "width": 1164
      }
     },
     "output_type": "display_data"
    }
   ],
   "source": [
    "whole_sents = list(data['articles'])\n",
    "token_sents = [s.split() for s in whole_sents]\n",
    "token_len = [len(t) for t in token_sents]\n",
    "\n",
    "print('어절 최대길이: {}'.format(np.max(token_len)))\n",
    "print('어절 최소길이: {}'.format(np.min(token_len)))\n",
    "print('어절 평균길이: {:.2f}'.format(np.mean(token_len)))\n",
    "print('어절 길이 표준편차: {:.2f}'.format(np.std(token_len)))\n",
    "print('어절 중간길이: {}'.format(np.median(token_len)))\n",
    "print('제 1 사분위 길이: {}'.format(np.percentile(token_len, 10)))\n",
    "print('제 3 사분위 길이: {}'.format(np.percentile(token_len, 90)))\n",
    "\n",
    "plt.figure(figsize=(20,10))\n",
    "plt.hist(token_len, bins=50)\n",
    "plt.show()"
   ]
  },
  {
   "cell_type": "markdown",
   "id": "61151433",
   "metadata": {},
   "source": [
    "- 하위 10에서 90까지"
   ]
  },
  {
   "cell_type": "code",
   "execution_count": 98,
   "id": "a5670838",
   "metadata": {
    "ExecuteTime": {
     "end_time": "2021-06-09T04:34:34.125326Z",
     "start_time": "2021-06-09T04:34:33.610565Z"
    }
   },
   "outputs": [],
   "source": [
    "data['articles'] = data['articles'].apply(lambda x : x if (len(x.split()) >= 10) and (len(x.split()) <= 95)  else  np.nan)"
   ]
  },
  {
   "cell_type": "code",
   "execution_count": 99,
   "id": "d6ae38c5",
   "metadata": {
    "ExecuteTime": {
     "end_time": "2021-06-09T04:34:35.734569Z",
     "start_time": "2021-06-09T04:34:35.689716Z"
    },
    "scrolled": true
   },
   "outputs": [
    {
     "data": {
      "text/html": [
       "<div>\n",
       "<style scoped>\n",
       "    .dataframe tbody tr th:only-of-type {\n",
       "        vertical-align: middle;\n",
       "    }\n",
       "\n",
       "    .dataframe tbody tr th {\n",
       "        vertical-align: top;\n",
       "    }\n",
       "\n",
       "    .dataframe thead th {\n",
       "        text-align: right;\n",
       "    }\n",
       "</style>\n",
       "<table border=\"1\" class=\"dataframe\">\n",
       "  <thead>\n",
       "    <tr style=\"text-align: right;\">\n",
       "      <th></th>\n",
       "      <th>articles</th>\n",
       "      <th>titles</th>\n",
       "    </tr>\n",
       "  </thead>\n",
       "  <tbody>\n",
       "    <tr>\n",
       "      <th>0</th>\n",
       "      <td>주요 일정으로는 7일 제1차 본회의에서 2020회계연도 결산승인안에 대한 제안 설명...</td>\n",
       "      <td>파주시의회 행감 돌입 다양한 해법 대안 제시</td>\n",
       "    </tr>\n",
       "    <tr>\n",
       "      <th>1</th>\n",
       "      <td>성수기를 피해 소규모 가족 단위로 짧게 정부가 발표한 휴가철 방역 대책의 핵심입니다...</td>\n",
       "      <td>휴가철 방역대책 짧게 소규모로 나눠서</td>\n",
       "    </tr>\n",
       "    <tr>\n",
       "      <th>2</th>\n",
       "      <td>웹툰 마음의 소리 와 조의 영역 으로 인기를 얻은 웹툰 작가 조석 38 이 폐결핵 ...</td>\n",
       "      <td>마음의 소리 조석 작가 덜컥 폐결핵 결국 담배 때문에</td>\n",
       "    </tr>\n",
       "    <tr>\n",
       "      <th>3</th>\n",
       "      <td>7일 법조계에 따르면 세월호 특검팀은 서해해경청과 목포해경에 검사와 수사관 등을 보...</td>\n",
       "      <td>세월호 특검 서해해경청 목포해경 압수수색</td>\n",
       "    </tr>\n",
       "    <tr>\n",
       "      <th>4</th>\n",
       "      <td>제주상공회의소 회장 양문석 와 제주도관광협회 회장 부동석 가 주최하고 제주도 제주도...</td>\n",
       "      <td>제주상의 관광협회 기반 지속가능경영 구축 속도</td>\n",
       "    </tr>\n",
       "    <tr>\n",
       "      <th>...</th>\n",
       "      <td>...</td>\n",
       "      <td>...</td>\n",
       "    </tr>\n",
       "    <tr>\n",
       "      <th>46067</th>\n",
       "      <td>이른바 검언유착 의혹 으로 구속기소된 이동재 전 채널 기자의 구속 기간이 4일 만료...</td>\n",
       "      <td>검언유착 의혹 이동재 4일 석방 구속 292일 만</td>\n",
       "    </tr>\n",
       "    <tr>\n",
       "      <th>46068</th>\n",
       "      <td>서울 김동은 기자 22년 차 배달기사 이씨 48 는 음식 배달을 위해 서울 모 초고...</td>\n",
       "      <td>영상 냄새난다고 화물용 승강기 타래요 도 넘은 갑질 에 뿔난 배달기사들</td>\n",
       "    </tr>\n",
       "    <tr>\n",
       "      <th>46069</th>\n",
       "      <td>서울 서울 중랑구에서 신종 코로나바이러스 감염증 코로나19 확진자가 9명 추가 발생...</td>\n",
       "      <td>중랑구서 확진자 9명 추가 2명은 광진구 음식점 관련</td>\n",
       "    </tr>\n",
       "    <tr>\n",
       "      <th>46070</th>\n",
       "      <td>국민건강보험공단의 전화상담 업무를 담당하고 있는 민간 위탁업체 소속 콜센터 직원 8...</td>\n",
       "      <td>콜센터 파업 장기화하나 건보공단 위탁업체 정직원 직고용 어려워</td>\n",
       "    </tr>\n",
       "    <tr>\n",
       "      <th>46071</th>\n",
       "      <td>인파 몰림 현상을 꺼려하는 분위기 탓에 도심 관광지가 외면받자 지자체는 해법 모색에...</td>\n",
       "      <td>대구 근대골목 한국관광 100선서 최초 제외 관광 위기 자구책은</td>\n",
       "    </tr>\n",
       "  </tbody>\n",
       "</table>\n",
       "<p>46072 rows × 2 columns</p>\n",
       "</div>"
      ],
      "text/plain": [
       "                                                articles  \\\n",
       "0      주요 일정으로는 7일 제1차 본회의에서 2020회계연도 결산승인안에 대한 제안 설명...   \n",
       "1      성수기를 피해 소규모 가족 단위로 짧게 정부가 발표한 휴가철 방역 대책의 핵심입니다...   \n",
       "2      웹툰 마음의 소리 와 조의 영역 으로 인기를 얻은 웹툰 작가 조석 38 이 폐결핵 ...   \n",
       "3      7일 법조계에 따르면 세월호 특검팀은 서해해경청과 목포해경에 검사와 수사관 등을 보...   \n",
       "4      제주상공회의소 회장 양문석 와 제주도관광협회 회장 부동석 가 주최하고 제주도 제주도...   \n",
       "...                                                  ...   \n",
       "46067  이른바 검언유착 의혹 으로 구속기소된 이동재 전 채널 기자의 구속 기간이 4일 만료...   \n",
       "46068  서울 김동은 기자 22년 차 배달기사 이씨 48 는 음식 배달을 위해 서울 모 초고...   \n",
       "46069  서울 서울 중랑구에서 신종 코로나바이러스 감염증 코로나19 확진자가 9명 추가 발생...   \n",
       "46070  국민건강보험공단의 전화상담 업무를 담당하고 있는 민간 위탁업체 소속 콜센터 직원 8...   \n",
       "46071  인파 몰림 현상을 꺼려하는 분위기 탓에 도심 관광지가 외면받자 지자체는 해법 모색에...   \n",
       "\n",
       "                                        titles  \n",
       "0                     파주시의회 행감 돌입 다양한 해법 대안 제시  \n",
       "1                         휴가철 방역대책 짧게 소규모로 나눠서  \n",
       "2                마음의 소리 조석 작가 덜컥 폐결핵 결국 담배 때문에  \n",
       "3                       세월호 특검 서해해경청 목포해경 압수수색  \n",
       "4                    제주상의 관광협회 기반 지속가능경영 구축 속도  \n",
       "...                                        ...  \n",
       "46067              검언유착 의혹 이동재 4일 석방 구속 292일 만  \n",
       "46068  영상 냄새난다고 화물용 승강기 타래요 도 넘은 갑질 에 뿔난 배달기사들  \n",
       "46069            중랑구서 확진자 9명 추가 2명은 광진구 음식점 관련  \n",
       "46070       콜센터 파업 장기화하나 건보공단 위탁업체 정직원 직고용 어려워  \n",
       "46071      대구 근대골목 한국관광 100선서 최초 제외 관광 위기 자구책은  \n",
       "\n",
       "[46072 rows x 2 columns]"
      ]
     },
     "execution_count": 99,
     "metadata": {},
     "output_type": "execute_result"
    }
   ],
   "source": [
    "data = data.dropna().reset_index(drop=True)\n",
    "data"
   ]
  },
  {
   "cell_type": "markdown",
   "id": "4c9e7d1c",
   "metadata": {},
   "source": [
    "- 총 46072개"
   ]
  },
  {
   "cell_type": "markdown",
   "id": "e4deba76",
   "metadata": {},
   "source": [
    "- 어절로 거른 본문 데이터에 대해 형태소 분석"
   ]
  },
  {
   "cell_type": "markdown",
   "id": "b0bd58ab",
   "metadata": {},
   "source": [
    "- 형태소 분석 후 기초통계량 확인"
   ]
  },
  {
   "cell_type": "code",
   "execution_count": 100,
   "id": "9870a9f2",
   "metadata": {
    "ExecuteTime": {
     "end_time": "2021-06-09T04:40:24.468070Z",
     "start_time": "2021-06-09T04:35:03.070730Z"
    }
   },
   "outputs": [
    {
     "name": "stdout",
     "output_type": "stream",
     "text": [
      "형태소 최대길이: 226\n",
      "형태소 최소길이: 10\n",
      "형태소 평균길이: 84.92\n",
      "형태소 길이 표준편차: 33.73\n",
      "형태소 중간길이: 85.0\n",
      "제 1 사분위 길이: 39.0\n",
      "제 3 사분위 길이: 159.0\n"
     ]
    }
   ],
   "source": [
    "morph_articles = data['articles'].apply(text_to_morphs)\n",
    "morph_len = [len(t.split()) for t in morph_articles]\n",
    "\n",
    "print('형태소 최대길이: {}'.format(np.max(morph_len)))\n",
    "print('형태소 최소길이: {}'.format(np.min(morph_len)))\n",
    "print('형태소 평균길이: {:.2f}'.format(np.mean(morph_len)))\n",
    "print('형태소 길이 표준편차: {:.2f}'.format(np.std(morph_len)))\n",
    "print('형태소 중간길이: {}'.format(np.median(morph_len)))\n",
    "print('제 1 사분위 길이: {}'.format(np.percentile(morph_len, 10)))\n",
    "print('제 3 사분위 길이: {}'.format(np.percentile(morph_len, 99)))"
   ]
  },
  {
   "cell_type": "code",
   "execution_count": 101,
   "id": "5c89e384",
   "metadata": {
    "ExecuteTime": {
     "end_time": "2021-06-09T04:40:28.850112Z",
     "start_time": "2021-06-09T04:40:28.461635Z"
    },
    "scrolled": true
   },
   "outputs": [
    {
     "data": {
      "image/png": "[encoded data removed]",
      "text/plain": [
       "<Figure size 864x360 with 1 Axes>"
      ]
     },
     "metadata": {
      "image/png": {
       "height": 305,
       "width": 711
      }
     },
     "output_type": "display_data"
    }
   ],
   "source": [
    "plt.figure(figsize=(12,5))\n",
    "plt.boxplot([morph_len],\n",
    "            labels=['articles'], showmeans=True)\n",
    "plt.show()"
   ]
  },
  {
   "cell_type": "code",
   "execution_count": 116,
   "id": "b9cb9046",
   "metadata": {
    "ExecuteTime": {
     "end_time": "2021-06-09T04:41:59.137826Z",
     "start_time": "2021-06-09T04:41:59.114919Z"
    }
   },
   "outputs": [
    {
     "data": {
      "text/html": [
       "<div>\n",
       "<style scoped>\n",
       "    .dataframe tbody tr th:only-of-type {\n",
       "        vertical-align: middle;\n",
       "    }\n",
       "\n",
       "    .dataframe tbody tr th {\n",
       "        vertical-align: top;\n",
       "    }\n",
       "\n",
       "    .dataframe thead th {\n",
       "        text-align: right;\n",
       "    }\n",
       "</style>\n",
       "<table border=\"1\" class=\"dataframe\">\n",
       "  <thead>\n",
       "    <tr style=\"text-align: right;\">\n",
       "      <th></th>\n",
       "      <th>articles</th>\n",
       "      <th>titles</th>\n",
       "    </tr>\n",
       "  </thead>\n",
       "  <tbody>\n",
       "    <tr>\n",
       "      <th>0</th>\n",
       "      <td>주요 일정으로는 7일 제1차 본회의에서 2020회계연도 결산승인안에 대한 제안 설명...</td>\n",
       "      <td>파주시의회 행감 돌입 다양한 해법 대안 제시</td>\n",
       "    </tr>\n",
       "    <tr>\n",
       "      <th>1</th>\n",
       "      <td>성수기를 피해 소규모 가족 단위로 짧게 정부가 발표한 휴가철 방역 대책의 핵심입니다...</td>\n",
       "      <td>휴가철 방역대책 짧게 소규모로 나눠서</td>\n",
       "    </tr>\n",
       "    <tr>\n",
       "      <th>2</th>\n",
       "      <td>웹툰 마음의 소리 와 조의 영역 으로 인기를 얻은 웹툰 작가 조석 38 이 폐결핵 ...</td>\n",
       "      <td>마음의 소리 조석 작가 덜컥 폐결핵 결국 담배 때문에</td>\n",
       "    </tr>\n",
       "    <tr>\n",
       "      <th>3</th>\n",
       "      <td>7일 법조계에 따르면 세월호 특검팀은 서해해경청과 목포해경에 검사와 수사관 등을 보...</td>\n",
       "      <td>세월호 특검 서해해경청 목포해경 압수수색</td>\n",
       "    </tr>\n",
       "    <tr>\n",
       "      <th>4</th>\n",
       "      <td>제주상공회의소 회장 양문석 와 제주도관광협회 회장 부동석 가 주최하고 제주도 제주도...</td>\n",
       "      <td>제주상의 관광협회 기반 지속가능경영 구축 속도</td>\n",
       "    </tr>\n",
       "    <tr>\n",
       "      <th>...</th>\n",
       "      <td>...</td>\n",
       "      <td>...</td>\n",
       "    </tr>\n",
       "    <tr>\n",
       "      <th>46067</th>\n",
       "      <td>이른바 검언유착 의혹 으로 구속기소된 이동재 전 채널 기자의 구속 기간이 4일 만료...</td>\n",
       "      <td>검언유착 의혹 이동재 4일 석방 구속 292일 만</td>\n",
       "    </tr>\n",
       "    <tr>\n",
       "      <th>46068</th>\n",
       "      <td>서울 김동은 기자 22년 차 배달기사 이씨 48 는 음식 배달을 위해 서울 모 초고...</td>\n",
       "      <td>영상 냄새난다고 화물용 승강기 타래요 도 넘은 갑질 에 뿔난 배달기사들</td>\n",
       "    </tr>\n",
       "    <tr>\n",
       "      <th>46069</th>\n",
       "      <td>서울 서울 중랑구에서 신종 코로나바이러스 감염증 코로나19 확진자가 9명 추가 발생...</td>\n",
       "      <td>중랑구서 확진자 9명 추가 2명은 광진구 음식점 관련</td>\n",
       "    </tr>\n",
       "    <tr>\n",
       "      <th>46070</th>\n",
       "      <td>국민건강보험공단의 전화상담 업무를 담당하고 있는 민간 위탁업체 소속 콜센터 직원 8...</td>\n",
       "      <td>콜센터 파업 장기화하나 건보공단 위탁업체 정직원 직고용 어려워</td>\n",
       "    </tr>\n",
       "    <tr>\n",
       "      <th>46071</th>\n",
       "      <td>인파 몰림 현상을 꺼려하는 분위기 탓에 도심 관광지가 외면받자 지자체는 해법 모색에...</td>\n",
       "      <td>대구 근대골목 한국관광 100선서 최초 제외 관광 위기 자구책은</td>\n",
       "    </tr>\n",
       "  </tbody>\n",
       "</table>\n",
       "<p>46061 rows × 2 columns</p>\n",
       "</div>"
      ],
      "text/plain": [
       "                                                articles  \\\n",
       "0      주요 일정으로는 7일 제1차 본회의에서 2020회계연도 결산승인안에 대한 제안 설명...   \n",
       "1      성수기를 피해 소규모 가족 단위로 짧게 정부가 발표한 휴가철 방역 대책의 핵심입니다...   \n",
       "2      웹툰 마음의 소리 와 조의 영역 으로 인기를 얻은 웹툰 작가 조석 38 이 폐결핵 ...   \n",
       "3      7일 법조계에 따르면 세월호 특검팀은 서해해경청과 목포해경에 검사와 수사관 등을 보...   \n",
       "4      제주상공회의소 회장 양문석 와 제주도관광협회 회장 부동석 가 주최하고 제주도 제주도...   \n",
       "...                                                  ...   \n",
       "46067  이른바 검언유착 의혹 으로 구속기소된 이동재 전 채널 기자의 구속 기간이 4일 만료...   \n",
       "46068  서울 김동은 기자 22년 차 배달기사 이씨 48 는 음식 배달을 위해 서울 모 초고...   \n",
       "46069  서울 서울 중랑구에서 신종 코로나바이러스 감염증 코로나19 확진자가 9명 추가 발생...   \n",
       "46070  국민건강보험공단의 전화상담 업무를 담당하고 있는 민간 위탁업체 소속 콜센터 직원 8...   \n",
       "46071  인파 몰림 현상을 꺼려하는 분위기 탓에 도심 관광지가 외면받자 지자체는 해법 모색에...   \n",
       "\n",
       "                                        titles  \n",
       "0                     파주시의회 행감 돌입 다양한 해법 대안 제시  \n",
       "1                         휴가철 방역대책 짧게 소규모로 나눠서  \n",
       "2                마음의 소리 조석 작가 덜컥 폐결핵 결국 담배 때문에  \n",
       "3                       세월호 특검 서해해경청 목포해경 압수수색  \n",
       "4                    제주상의 관광협회 기반 지속가능경영 구축 속도  \n",
       "...                                        ...  \n",
       "46067              검언유착 의혹 이동재 4일 석방 구속 292일 만  \n",
       "46068  영상 냄새난다고 화물용 승강기 타래요 도 넘은 갑질 에 뿔난 배달기사들  \n",
       "46069            중랑구서 확진자 9명 추가 2명은 광진구 음식점 관련  \n",
       "46070       콜센터 파업 장기화하나 건보공단 위탁업체 정직원 직고용 어려워  \n",
       "46071      대구 근대골목 한국관광 100선서 최초 제외 관광 위기 자구책은  \n",
       "\n",
       "[46061 rows x 2 columns]"
      ]
     },
     "execution_count": 116,
     "metadata": {},
     "output_type": "execute_result"
    }
   ],
   "source": [
    "data = data.drop([data.index[morph_len.index(226)]])\n",
    "data"
   ]
  },
  {
   "cell_type": "code",
   "execution_count": 117,
   "id": "a435a259",
   "metadata": {
    "ExecuteTime": {
     "end_time": "2021-06-09T04:50:51.129463Z",
     "start_time": "2021-06-09T04:42:15.618989Z"
    }
   },
   "outputs": [
    {
     "name": "stdout",
     "output_type": "stream",
     "text": [
      "형태소 최대길이: 219\n",
      "형태소 최소길이: 10\n",
      "형태소 평균길이: 84.91\n",
      "형태소 길이 표준편차: 33.72\n",
      "형태소 중간길이: 85.0\n",
      "제 1 사분위 길이: 39.0\n",
      "제 3 사분위 길이: 159.0\n"
     ]
    }
   ],
   "source": [
    "morph_articles = data['articles'].apply(text_to_morphs)\n",
    "morph_len = [len(t.split()) for t in morph_articles]\n",
    "\n",
    "print('형태소 최대길이: {}'.format(np.max(morph_len)))\n",
    "print('형태소 최소길이: {}'.format(np.min(morph_len)))\n",
    "print('형태소 평균길이: {:.2f}'.format(np.mean(morph_len)))\n",
    "print('형태소 길이 표준편차: {:.2f}'.format(np.std(morph_len)))\n",
    "print('형태소 중간길이: {}'.format(np.median(morph_len)))\n",
    "print('제 1 사분위 길이: {}'.format(np.percentile(morph_len, 10)))\n",
    "print('제 3 사분위 길이: {}'.format(np.percentile(morph_len, 99)))"
   ]
  },
  {
   "cell_type": "code",
   "execution_count": 118,
   "id": "be283700",
   "metadata": {
    "ExecuteTime": {
     "end_time": "2021-06-09T04:50:52.089159Z",
     "start_time": "2021-06-09T04:50:51.934575Z"
    }
   },
   "outputs": [
    {
     "data": {
      "image/png": "[encoded data removed]",
      "text/plain": [
       "<Figure size 864x360 with 1 Axes>"
      ]
     },
     "metadata": {
      "image/png": {
       "height": 305,
       "width": 711
      }
     },
     "output_type": "display_data"
    }
   ],
   "source": [
    "plt.figure(figsize=(12,5))\n",
    "plt.boxplot([morph_len],\n",
    "            labels=['articles'], showmeans=True)\n",
    "plt.show()"
   ]
  },
  {
   "cell_type": "code",
   "execution_count": 132,
   "id": "c7c2c59a",
   "metadata": {
    "ExecuteTime": {
     "end_time": "2021-06-09T04:53:13.600405Z",
     "start_time": "2021-06-09T04:53:13.116010Z"
    }
   },
   "outputs": [
    {
     "data": {
      "image/png": "[encoded data removed]",
      "text/plain": [
       "<Figure size 1440x720 with 1 Axes>"
      ]
     },
     "metadata": {
      "image/png": {
       "height": 577,
       "width": 1164
      }
     },
     "output_type": "display_data"
    }
   ],
   "source": [
    "plt.figure(figsize=(20,10))\n",
    "plt.hist(morph_len, bins=50)\n",
    "plt.show()"
   ]
  },
  {
   "cell_type": "markdown",
   "id": "adcfc968",
   "metadata": {},
   "source": [
    "## 제목 문장 길이에 대한 분석"
   ]
  },
  {
   "cell_type": "code",
   "execution_count": 142,
   "id": "64c5f27a",
   "metadata": {
    "ExecuteTime": {
     "end_time": "2021-06-09T04:56:10.742738Z",
     "start_time": "2021-06-09T04:56:10.727776Z"
    }
   },
   "outputs": [
    {
     "data": {
      "text/plain": [
       "['파주시의회 행감 돌입 다양한 해법 대안 제시',\n",
       " '휴가철 방역대책 짧게 소규모로 나눠서',\n",
       " '마음의 소리 조석 작가 덜컥 폐결핵 결국 담배 때문에',\n",
       " '세월호 특검 서해해경청 목포해경 압수수색',\n",
       " '제주상의 관광협회 기반 지속가능경영 구축 속도',\n",
       " '이길호 김귀근 군포시의원 경비원보호 집중질의',\n",
       " '교사에 우리 부부였나 성희롱한 초등학교 교장',\n",
       " '유상철 투병 끝 별세 축구계 안타깝다 많이 보고싶을 것',\n",
       " '때리고 강제로 음식 먹인 유치원 교사 집행유예',\n",
       " '해외 매체도 유상철 추모 너무 빠른 이별',\n",
       " '연천 포천 가평 공노조 이재명 특별한 보상 원칙 안 지켰다 공공기관 이전 결과 강력 규탄',\n",
       " '세월호 특검 서해지방해경청 등 압수수색',\n",
       " '울주 0원 푸드마켓 개소 저소득층에 생필품 지원',\n",
       " '울주 관광택시 울주 잇다 발대 택시 12대 운영',\n",
       " '불 끈 화장실에 6살 아동 가둔 보육교사 입건 대기업 위탁 어린이집',\n",
       " '장애인 선수 상습 폭행한 실업팀 감독 집행유예',\n",
       " '울산교육청 4개 공공도서관 좌석 수 50 로 확대',\n",
       " '울산 노인시설 850여 곳 한 달 여 만에 운영 재개',\n",
       " '헤미메탈 로커에서 태극기 아이돌 그녀의 마지막 도전',\n",
       " '울산 오늘부터 거리두기 1 5단계 자정까지 영업 가능']"
      ]
     },
     "execution_count": 142,
     "metadata": {},
     "output_type": "execute_result"
    }
   ],
   "source": [
    "whole_titles = list(data['titles'])\n",
    "whole_titles[:20]"
   ]
  },
  {
   "cell_type": "code",
   "execution_count": 143,
   "id": "3562ff03",
   "metadata": {
    "ExecuteTime": {
     "end_time": "2021-06-09T04:56:11.957148Z",
     "start_time": "2021-06-09T04:56:11.674549Z"
    }
   },
   "outputs": [],
   "source": [
    "token_titles = [s.split() for s in whole_titles]\n",
    "token_len_titles = [len(t) for t in token_titles]"
   ]
  },
  {
   "cell_type": "code",
   "execution_count": 144,
   "id": "5a2bfe61",
   "metadata": {
    "ExecuteTime": {
     "end_time": "2021-06-09T04:56:12.853264Z",
     "start_time": "2021-06-09T04:56:12.809382Z"
    }
   },
   "outputs": [
    {
     "name": "stdout",
     "output_type": "stream",
     "text": [
      "어절 최대길이: 19\n",
      "어절 최소길이: 2\n",
      "어절 평균길이: 7.65\n",
      "어절 길이 표준편차: 1.88\n",
      "어절 중간길이: 8.0\n",
      "제 1 사분위 길이: 5.0\n",
      "제 3 사분위 길이: 9.0\n"
     ]
    }
   ],
   "source": [
    "print('어절 최대길이: {}'.format(np.max(token_len_titles)))\n",
    "print('어절 최소길이: {}'.format(np.min(token_len_titles)))\n",
    "print('어절 평균길이: {:.2f}'.format(np.mean(token_len_titles)))\n",
    "print('어절 길이 표준편차: {:.2f}'.format(np.std(token_len_titles)))\n",
    "print('어절 중간길이: {}'.format(np.median(token_len_titles)))\n",
    "print('제 1 사분위 길이: {}'.format(np.percentile(token_len_titles, 10)))\n",
    "print('제 3 사분위 길이: {}'.format(np.percentile(token_len_titles, 75)))"
   ]
  },
  {
   "cell_type": "markdown",
   "id": "963b1292",
   "metadata": {},
   "source": [
    "- 어절이 1이면 제거 "
   ]
  },
  {
   "cell_type": "code",
   "execution_count": 141,
   "id": "605afaa3",
   "metadata": {
    "ExecuteTime": {
     "end_time": "2021-06-09T04:56:06.292893Z",
     "start_time": "2021-06-09T04:56:06.199119Z"
    }
   },
   "outputs": [
    {
     "data": {
      "text/html": [
       "<div>\n",
       "<style scoped>\n",
       "    .dataframe tbody tr th:only-of-type {\n",
       "        vertical-align: middle;\n",
       "    }\n",
       "\n",
       "    .dataframe tbody tr th {\n",
       "        vertical-align: top;\n",
       "    }\n",
       "\n",
       "    .dataframe thead th {\n",
       "        text-align: right;\n",
       "    }\n",
       "</style>\n",
       "<table border=\"1\" class=\"dataframe\">\n",
       "  <thead>\n",
       "    <tr style=\"text-align: right;\">\n",
       "      <th></th>\n",
       "      <th>articles</th>\n",
       "      <th>titles</th>\n",
       "    </tr>\n",
       "  </thead>\n",
       "  <tbody>\n",
       "    <tr>\n",
       "      <th>0</th>\n",
       "      <td>주요 일정으로는 7일 제1차 본회의에서 2020회계연도 결산승인안에 대한 제안 설명...</td>\n",
       "      <td>파주시의회 행감 돌입 다양한 해법 대안 제시</td>\n",
       "    </tr>\n",
       "    <tr>\n",
       "      <th>1</th>\n",
       "      <td>성수기를 피해 소규모 가족 단위로 짧게 정부가 발표한 휴가철 방역 대책의 핵심입니다...</td>\n",
       "      <td>휴가철 방역대책 짧게 소규모로 나눠서</td>\n",
       "    </tr>\n",
       "    <tr>\n",
       "      <th>2</th>\n",
       "      <td>웹툰 마음의 소리 와 조의 영역 으로 인기를 얻은 웹툰 작가 조석 38 이 폐결핵 ...</td>\n",
       "      <td>마음의 소리 조석 작가 덜컥 폐결핵 결국 담배 때문에</td>\n",
       "    </tr>\n",
       "    <tr>\n",
       "      <th>3</th>\n",
       "      <td>7일 법조계에 따르면 세월호 특검팀은 서해해경청과 목포해경에 검사와 수사관 등을 보...</td>\n",
       "      <td>세월호 특검 서해해경청 목포해경 압수수색</td>\n",
       "    </tr>\n",
       "    <tr>\n",
       "      <th>4</th>\n",
       "      <td>제주상공회의소 회장 양문석 와 제주도관광협회 회장 부동석 가 주최하고 제주도 제주도...</td>\n",
       "      <td>제주상의 관광협회 기반 지속가능경영 구축 속도</td>\n",
       "    </tr>\n",
       "    <tr>\n",
       "      <th>...</th>\n",
       "      <td>...</td>\n",
       "      <td>...</td>\n",
       "    </tr>\n",
       "    <tr>\n",
       "      <th>46018</th>\n",
       "      <td>이른바 검언유착 의혹 으로 구속기소된 이동재 전 채널 기자의 구속 기간이 4일 만료...</td>\n",
       "      <td>검언유착 의혹 이동재 4일 석방 구속 292일 만</td>\n",
       "    </tr>\n",
       "    <tr>\n",
       "      <th>46019</th>\n",
       "      <td>서울 김동은 기자 22년 차 배달기사 이씨 48 는 음식 배달을 위해 서울 모 초고...</td>\n",
       "      <td>영상 냄새난다고 화물용 승강기 타래요 도 넘은 갑질 에 뿔난 배달기사들</td>\n",
       "    </tr>\n",
       "    <tr>\n",
       "      <th>46020</th>\n",
       "      <td>서울 서울 중랑구에서 신종 코로나바이러스 감염증 코로나19 확진자가 9명 추가 발생...</td>\n",
       "      <td>중랑구서 확진자 9명 추가 2명은 광진구 음식점 관련</td>\n",
       "    </tr>\n",
       "    <tr>\n",
       "      <th>46021</th>\n",
       "      <td>국민건강보험공단의 전화상담 업무를 담당하고 있는 민간 위탁업체 소속 콜센터 직원 8...</td>\n",
       "      <td>콜센터 파업 장기화하나 건보공단 위탁업체 정직원 직고용 어려워</td>\n",
       "    </tr>\n",
       "    <tr>\n",
       "      <th>46022</th>\n",
       "      <td>인파 몰림 현상을 꺼려하는 분위기 탓에 도심 관광지가 외면받자 지자체는 해법 모색에...</td>\n",
       "      <td>대구 근대골목 한국관광 100선서 최초 제외 관광 위기 자구책은</td>\n",
       "    </tr>\n",
       "  </tbody>\n",
       "</table>\n",
       "<p>46023 rows × 2 columns</p>\n",
       "</div>"
      ],
      "text/plain": [
       "                                                articles  \\\n",
       "0      주요 일정으로는 7일 제1차 본회의에서 2020회계연도 결산승인안에 대한 제안 설명...   \n",
       "1      성수기를 피해 소규모 가족 단위로 짧게 정부가 발표한 휴가철 방역 대책의 핵심입니다...   \n",
       "2      웹툰 마음의 소리 와 조의 영역 으로 인기를 얻은 웹툰 작가 조석 38 이 폐결핵 ...   \n",
       "3      7일 법조계에 따르면 세월호 특검팀은 서해해경청과 목포해경에 검사와 수사관 등을 보...   \n",
       "4      제주상공회의소 회장 양문석 와 제주도관광협회 회장 부동석 가 주최하고 제주도 제주도...   \n",
       "...                                                  ...   \n",
       "46018  이른바 검언유착 의혹 으로 구속기소된 이동재 전 채널 기자의 구속 기간이 4일 만료...   \n",
       "46019  서울 김동은 기자 22년 차 배달기사 이씨 48 는 음식 배달을 위해 서울 모 초고...   \n",
       "46020  서울 서울 중랑구에서 신종 코로나바이러스 감염증 코로나19 확진자가 9명 추가 발생...   \n",
       "46021  국민건강보험공단의 전화상담 업무를 담당하고 있는 민간 위탁업체 소속 콜센터 직원 8...   \n",
       "46022  인파 몰림 현상을 꺼려하는 분위기 탓에 도심 관광지가 외면받자 지자체는 해법 모색에...   \n",
       "\n",
       "                                        titles  \n",
       "0                     파주시의회 행감 돌입 다양한 해법 대안 제시  \n",
       "1                         휴가철 방역대책 짧게 소규모로 나눠서  \n",
       "2                마음의 소리 조석 작가 덜컥 폐결핵 결국 담배 때문에  \n",
       "3                       세월호 특검 서해해경청 목포해경 압수수색  \n",
       "4                    제주상의 관광협회 기반 지속가능경영 구축 속도  \n",
       "...                                        ...  \n",
       "46018              검언유착 의혹 이동재 4일 석방 구속 292일 만  \n",
       "46019  영상 냄새난다고 화물용 승강기 타래요 도 넘은 갑질 에 뿔난 배달기사들  \n",
       "46020            중랑구서 확진자 9명 추가 2명은 광진구 음식점 관련  \n",
       "46021       콜센터 파업 장기화하나 건보공단 위탁업체 정직원 직고용 어려워  \n",
       "46022      대구 근대골목 한국관광 100선서 최초 제외 관광 위기 자구책은  \n",
       "\n",
       "[46023 rows x 2 columns]"
      ]
     },
     "execution_count": 141,
     "metadata": {},
     "output_type": "execute_result"
    }
   ],
   "source": [
    "data['titles'] = data['titles'].apply(lambda x : np.nan if len(x.split()) ==1 else x)\n",
    "data = data.dropna().reset_index(drop=True)\n",
    "data"
   ]
  },
  {
   "cell_type": "code",
   "execution_count": 146,
   "id": "4d121fcc",
   "metadata": {
    "ExecuteTime": {
     "end_time": "2021-06-09T04:56:50.891269Z",
     "start_time": "2021-06-09T04:56:50.303248Z"
    }
   },
   "outputs": [
    {
     "data": {
      "text/html": [
       "<div>\n",
       "<style scoped>\n",
       "    .dataframe tbody tr th:only-of-type {\n",
       "        vertical-align: middle;\n",
       "    }\n",
       "\n",
       "    .dataframe tbody tr th {\n",
       "        vertical-align: top;\n",
       "    }\n",
       "\n",
       "    .dataframe thead th {\n",
       "        text-align: right;\n",
       "    }\n",
       "</style>\n",
       "<table border=\"1\" class=\"dataframe\">\n",
       "  <thead>\n",
       "    <tr style=\"text-align: right;\">\n",
       "      <th></th>\n",
       "      <th>articles</th>\n",
       "      <th>titles</th>\n",
       "    </tr>\n",
       "  </thead>\n",
       "  <tbody>\n",
       "    <tr>\n",
       "      <th>0</th>\n",
       "      <td>주요 일정으로는 7일 제1차 본회의에서 2020회계연도 결산승인안에 대한 제안 설명...</td>\n",
       "      <td>파주시의회 행감 돌입 다양한 해법 대안 제시</td>\n",
       "    </tr>\n",
       "    <tr>\n",
       "      <th>1</th>\n",
       "      <td>성수기를 피해 소규모 가족 단위로 짧게 정부가 발표한 휴가철 방역 대책의 핵심입니다...</td>\n",
       "      <td>휴가철 방역대책 짧게 소규모로 나눠서</td>\n",
       "    </tr>\n",
       "    <tr>\n",
       "      <th>2</th>\n",
       "      <td>웹툰 마음의 소리 와 조의 영역 으로 인기를 얻은 웹툰 작가 조석 38 이 폐결핵 ...</td>\n",
       "      <td>마음의 소리 조석 작가 덜컥 폐결핵 결국 담배 때문에</td>\n",
       "    </tr>\n",
       "    <tr>\n",
       "      <th>3</th>\n",
       "      <td>7일 법조계에 따르면 세월호 특검팀은 서해해경청과 목포해경에 검사와 수사관 등을 보...</td>\n",
       "      <td>세월호 특검 서해해경청 목포해경 압수수색</td>\n",
       "    </tr>\n",
       "    <tr>\n",
       "      <th>4</th>\n",
       "      <td>제주상공회의소 회장 양문석 와 제주도관광협회 회장 부동석 가 주최하고 제주도 제주도...</td>\n",
       "      <td>제주상의 관광협회 기반 지속가능경영 구축 속도</td>\n",
       "    </tr>\n",
       "    <tr>\n",
       "      <th>...</th>\n",
       "      <td>...</td>\n",
       "      <td>...</td>\n",
       "    </tr>\n",
       "    <tr>\n",
       "      <th>46018</th>\n",
       "      <td>이른바 검언유착 의혹 으로 구속기소된 이동재 전 채널 기자의 구속 기간이 4일 만료...</td>\n",
       "      <td>검언유착 의혹 이동재 4일 석방 구속 292일 만</td>\n",
       "    </tr>\n",
       "    <tr>\n",
       "      <th>46019</th>\n",
       "      <td>서울 김동은 기자 22년 차 배달기사 이씨 48 는 음식 배달을 위해 서울 모 초고...</td>\n",
       "      <td>영상 냄새난다고 화물용 승강기 타래요 도 넘은 갑질 에 뿔난 배달기사들</td>\n",
       "    </tr>\n",
       "    <tr>\n",
       "      <th>46020</th>\n",
       "      <td>서울 서울 중랑구에서 신종 코로나바이러스 감염증 코로나19 확진자가 9명 추가 발생...</td>\n",
       "      <td>중랑구서 확진자 9명 추가 2명은 광진구 음식점 관련</td>\n",
       "    </tr>\n",
       "    <tr>\n",
       "      <th>46021</th>\n",
       "      <td>국민건강보험공단의 전화상담 업무를 담당하고 있는 민간 위탁업체 소속 콜센터 직원 8...</td>\n",
       "      <td>콜센터 파업 장기화하나 건보공단 위탁업체 정직원 직고용 어려워</td>\n",
       "    </tr>\n",
       "    <tr>\n",
       "      <th>46022</th>\n",
       "      <td>인파 몰림 현상을 꺼려하는 분위기 탓에 도심 관광지가 외면받자 지자체는 해법 모색에...</td>\n",
       "      <td>대구 근대골목 한국관광 100선서 최초 제외 관광 위기 자구책은</td>\n",
       "    </tr>\n",
       "  </tbody>\n",
       "</table>\n",
       "<p>46023 rows × 2 columns</p>\n",
       "</div>"
      ],
      "text/plain": [
       "                                                articles  \\\n",
       "0      주요 일정으로는 7일 제1차 본회의에서 2020회계연도 결산승인안에 대한 제안 설명...   \n",
       "1      성수기를 피해 소규모 가족 단위로 짧게 정부가 발표한 휴가철 방역 대책의 핵심입니다...   \n",
       "2      웹툰 마음의 소리 와 조의 영역 으로 인기를 얻은 웹툰 작가 조석 38 이 폐결핵 ...   \n",
       "3      7일 법조계에 따르면 세월호 특검팀은 서해해경청과 목포해경에 검사와 수사관 등을 보...   \n",
       "4      제주상공회의소 회장 양문석 와 제주도관광협회 회장 부동석 가 주최하고 제주도 제주도...   \n",
       "...                                                  ...   \n",
       "46018  이른바 검언유착 의혹 으로 구속기소된 이동재 전 채널 기자의 구속 기간이 4일 만료...   \n",
       "46019  서울 김동은 기자 22년 차 배달기사 이씨 48 는 음식 배달을 위해 서울 모 초고...   \n",
       "46020  서울 서울 중랑구에서 신종 코로나바이러스 감염증 코로나19 확진자가 9명 추가 발생...   \n",
       "46021  국민건강보험공단의 전화상담 업무를 담당하고 있는 민간 위탁업체 소속 콜센터 직원 8...   \n",
       "46022  인파 몰림 현상을 꺼려하는 분위기 탓에 도심 관광지가 외면받자 지자체는 해법 모색에...   \n",
       "\n",
       "                                        titles  \n",
       "0                     파주시의회 행감 돌입 다양한 해법 대안 제시  \n",
       "1                         휴가철 방역대책 짧게 소규모로 나눠서  \n",
       "2                마음의 소리 조석 작가 덜컥 폐결핵 결국 담배 때문에  \n",
       "3                       세월호 특검 서해해경청 목포해경 압수수색  \n",
       "4                    제주상의 관광협회 기반 지속가능경영 구축 속도  \n",
       "...                                        ...  \n",
       "46018              검언유착 의혹 이동재 4일 석방 구속 292일 만  \n",
       "46019  영상 냄새난다고 화물용 승강기 타래요 도 넘은 갑질 에 뿔난 배달기사들  \n",
       "46020            중랑구서 확진자 9명 추가 2명은 광진구 음식점 관련  \n",
       "46021       콜센터 파업 장기화하나 건보공단 위탁업체 정직원 직고용 어려워  \n",
       "46022      대구 근대골목 한국관광 100선서 최초 제외 관광 위기 자구책은  \n",
       "\n",
       "[46023 rows x 2 columns]"
      ]
     },
     "execution_count": 146,
     "metadata": {},
     "output_type": "execute_result"
    }
   ],
   "source": [
    "data.to_csv('./data_in/data_v2.csv')\n",
    "data"
   ]
  },
  {
   "cell_type": "code",
   "execution_count": 147,
   "id": "e39dafc9",
   "metadata": {
    "ExecuteTime": {
     "end_time": "2021-06-09T04:58:15.006060Z",
     "start_time": "2021-06-09T04:56:54.825654Z"
    }
   },
   "outputs": [],
   "source": [
    "morph_titles = data['titles'].apply(text_to_morphs)"
   ]
  },
  {
   "cell_type": "code",
   "execution_count": 148,
   "id": "f37c8756",
   "metadata": {
    "ExecuteTime": {
     "end_time": "2021-06-09T04:59:11.010869Z",
     "start_time": "2021-06-09T04:59:10.924477Z"
    }
   },
   "outputs": [],
   "source": [
    "morph_len_titles = [len(t.split()) for t in morph_titles]"
   ]
  },
  {
   "cell_type": "code",
   "execution_count": 149,
   "id": "d695e503",
   "metadata": {
    "ExecuteTime": {
     "end_time": "2021-06-09T04:59:19.238486Z",
     "start_time": "2021-06-09T04:59:19.197572Z"
    }
   },
   "outputs": [
    {
     "name": "stdout",
     "output_type": "stream",
     "text": [
      "형태소 최대길이: 24\n",
      "형태소 최소길이: 2\n",
      "형태소 평균길이: 10.55\n",
      "형태소 길이 표준편차: 2.54\n",
      "형태소 중간길이: 10.0\n",
      "제 1 사분위 길이: 8.0\n",
      "제 3 사분위 길이: 12.0\n"
     ]
    }
   ],
   "source": [
    "print('형태소 최대길이: {}'.format(np.max(morph_len_titles)))\n",
    "print('형태소 최소길이: {}'.format(np.min(morph_len_titles)))\n",
    "print('형태소 평균길이: {:.2f}'.format(np.mean(morph_len_titles)))\n",
    "print('형태소 길이 표준편차: {:.2f}'.format(np.std(morph_len_titles)))\n",
    "print('형태소 중간길이: {}'.format(np.median(morph_len_titles)))\n",
    "print('제 1 사분위 길이: {}'.format(np.percentile(morph_len_titles, 10)))\n",
    "print('제 3 사분위 길이: {}'.format(np.percentile(morph_len_titles, 75)))"
   ]
  },
  {
   "cell_type": "code",
   "execution_count": 150,
   "id": "93326add",
   "metadata": {
    "ExecuteTime": {
     "end_time": "2021-06-09T04:59:22.037079Z",
     "start_time": "2021-06-09T04:59:21.866538Z"
    }
   },
   "outputs": [
    {
     "data": {
      "image/png": "[encoded data removed]",
      "text/plain": [
       "<Figure size 864x360 with 1 Axes>"
      ]
     },
     "metadata": {
      "image/png": {
       "height": 308,
       "width": 705
      }
     },
     "output_type": "display_data"
    }
   ],
   "source": [
    "plt.figure(figsize=(12,5))\n",
    "plt.boxplot([morph_len_titles],\n",
    "            labels=['titles'], showmeans=True)\n",
    "plt.show()"
   ]
  },
  {
   "cell_type": "markdown",
   "id": "71ab0dd0",
   "metadata": {},
   "source": [
    "## 데이터어휘 빈도분석(wordcloud)"
   ]
  },
  {
   "cell_type": "markdown",
   "id": "2323639f",
   "metadata": {},
   "source": [
    "> **의미상 중요한 명사, 형용사, 동사만 따로 모은 후 빈도수 분석**"
   ]
  },
  {
   "cell_type": "code",
   "execution_count": 151,
   "id": "11c951a4",
   "metadata": {
    "ExecuteTime": {
     "end_time": "2021-06-09T04:59:33.471336Z",
     "start_time": "2021-06-09T04:59:33.460358Z"
    }
   },
   "outputs": [],
   "source": [
    "from tqdm import tqdm"
   ]
  },
  {
   "cell_type": "code",
   "execution_count": 152,
   "id": "4360a034",
   "metadata": {
    "ExecuteTime": {
     "end_time": "2021-06-09T05:00:07.088859Z",
     "start_time": "2021-06-09T05:00:07.072390Z"
    }
   },
   "outputs": [],
   "source": [
    "articles_nva = []\n",
    "titles_nva = []"
   ]
  },
  {
   "cell_type": "code",
   "execution_count": 9,
   "id": "313f8ccd",
   "metadata": {
    "ExecuteTime": {
     "end_time": "2021-06-08T10:45:07.816173Z",
     "start_time": "2021-06-08T09:41:57.428367Z"
    }
   },
   "outputs": [
    {
     "name": "stderr",
     "output_type": "stream",
     "text": [
      "100%|██████████| 10000/10000 [1:03:10<00:00,  2.64it/s]\n"
     ]
    }
   ],
   "source": [
    "for s in tqdm(list(data['articles'][:10000])):\n",
    "    for token, tag in Okt().pos(s.replace(' ', '')):\n",
    "        if tag in ['Noun','Adjective']:\n",
    "            articles_nva.append(token)\n",
    "            \n",
    "articles_nva = ' '.join(articles_nva)"
   ]
  },
  {
   "cell_type": "code",
   "execution_count": 153,
   "id": "80411a1c",
   "metadata": {
    "ExecuteTime": {
     "end_time": "2021-06-09T05:05:52.632557Z",
     "start_time": "2021-06-09T05:00:09.893980Z"
    }
   },
   "outputs": [],
   "source": [
    "from konlpy.tag import Okt\n",
    "for s in list(data['titles']):\n",
    "    for token, tag in Okt().pos(s.replace(' ', '')):\n",
    "        if tag in ['Noun','Adjective']:\n",
    "            titles_nva.append(token)\n",
    "titles_nva = ' '.join(titles_nva)"
   ]
  },
  {
   "cell_type": "code",
   "execution_count": 154,
   "id": "14e18440",
   "metadata": {
    "ExecuteTime": {
     "end_time": "2021-06-09T05:05:53.516980Z",
     "start_time": "2021-06-09T05:05:53.473926Z"
    }
   },
   "outputs": [],
   "source": [
    "from wordcloud import WordCloud"
   ]
  },
  {
   "cell_type": "code",
   "execution_count": 13,
   "id": "06aa16ed",
   "metadata": {
    "ExecuteTime": {
     "end_time": "2021-06-08T10:49:46.415616Z",
     "start_time": "2021-06-08T10:49:34.977592Z"
    }
   },
   "outputs": [
    {
     "data": {
      "image/png": "[encoded data removed]",
      "text/plain": [
       "<Figure size 432x288 with 1 Axes>"
      ]
     },
     "metadata": {
      "image/png": {
       "height": 181,
       "width": 349
      }
     },
     "output_type": "display_data"
    }
   ],
   "source": [
    "articles_wordcloud = WordCloud(font_path= './data_in/NanumGothic.ttf').generate(articles_nva)\n",
    "plt.imshow(articles_wordcloud, interpolation='bilinear')\n",
    "plt.axis('off')\n",
    "plt.show()"
   ]
  },
  {
   "cell_type": "code",
   "execution_count": 155,
   "id": "3e9400d7",
   "metadata": {
    "ExecuteTime": {
     "end_time": "2021-06-09T05:05:59.954194Z",
     "start_time": "2021-06-09T05:05:54.436907Z"
    }
   },
   "outputs": [
    {
     "data": {
      "image/png": "[encoded data removed]",
      "text/plain": [
       "<Figure size 432x288 with 1 Axes>"
      ]
     },
     "metadata": {
      "image/png": {
       "height": 181,
       "width": 349
      }
     },
     "output_type": "display_data"
    }
   ],
   "source": [
    "titles_wordcloud = WordCloud(font_path= './data_in/NanumGothic.ttf').generate(titles_nva)\n",
    "plt.imshow(titles_wordcloud, interpolation='bilinear')\n",
    "plt.axis('off')\n",
    "plt.show()"
   ]
  },
  {
   "cell_type": "markdown",
   "id": "7a6b30a9",
   "metadata": {},
   "source": [
    "# 이제부터 진짜 전처리"
   ]
  },
  {
   "cell_type": "code",
   "execution_count": 156,
   "id": "1a815096",
   "metadata": {
    "ExecuteTime": {
     "end_time": "2021-06-09T05:06:35.538664Z",
     "start_time": "2021-06-09T05:06:34.969092Z"
    },
    "scrolled": false
   },
   "outputs": [
    {
     "data": {
      "text/html": [
       "<div>\n",
       "<style scoped>\n",
       "    .dataframe tbody tr th:only-of-type {\n",
       "        vertical-align: middle;\n",
       "    }\n",
       "\n",
       "    .dataframe tbody tr th {\n",
       "        vertical-align: top;\n",
       "    }\n",
       "\n",
       "    .dataframe thead th {\n",
       "        text-align: right;\n",
       "    }\n",
       "</style>\n",
       "<table border=\"1\" class=\"dataframe\">\n",
       "  <thead>\n",
       "    <tr style=\"text-align: right;\">\n",
       "      <th></th>\n",
       "      <th>articles</th>\n",
       "      <th>titles</th>\n",
       "    </tr>\n",
       "  </thead>\n",
       "  <tbody>\n",
       "    <tr>\n",
       "      <th>0</th>\n",
       "      <td>주요 일정으로는 7일 제1차 본회의에서 2020회계연도 결산승인안에 대한 제안 설명...</td>\n",
       "      <td>파주시의회 행감 돌입 다양한 해법 대안 제시</td>\n",
       "    </tr>\n",
       "    <tr>\n",
       "      <th>1</th>\n",
       "      <td>성수기를 피해 소규모 가족 단위로 짧게 정부가 발표한 휴가철 방역 대책의 핵심입니다...</td>\n",
       "      <td>휴가철 방역대책 짧게 소규모로 나눠서</td>\n",
       "    </tr>\n",
       "    <tr>\n",
       "      <th>2</th>\n",
       "      <td>웹툰 마음의 소리 와 조의 영역 으로 인기를 얻은 웹툰 작가 조석 38 이 폐결핵 ...</td>\n",
       "      <td>마음의 소리 조석 작가 덜컥 폐결핵 결국 담배 때문에</td>\n",
       "    </tr>\n",
       "    <tr>\n",
       "      <th>3</th>\n",
       "      <td>7일 법조계에 따르면 세월호 특검팀은 서해해경청과 목포해경에 검사와 수사관 등을 보...</td>\n",
       "      <td>세월호 특검 서해해경청 목포해경 압수수색</td>\n",
       "    </tr>\n",
       "    <tr>\n",
       "      <th>4</th>\n",
       "      <td>제주상공회의소 회장 양문석 와 제주도관광협회 회장 부동석 가 주최하고 제주도 제주도...</td>\n",
       "      <td>제주상의 관광협회 기반 지속가능경영 구축 속도</td>\n",
       "    </tr>\n",
       "    <tr>\n",
       "      <th>...</th>\n",
       "      <td>...</td>\n",
       "      <td>...</td>\n",
       "    </tr>\n",
       "    <tr>\n",
       "      <th>46018</th>\n",
       "      <td>이른바 검언유착 의혹 으로 구속기소된 이동재 전 채널 기자의 구속 기간이 4일 만료...</td>\n",
       "      <td>검언유착 의혹 이동재 4일 석방 구속 292일 만</td>\n",
       "    </tr>\n",
       "    <tr>\n",
       "      <th>46019</th>\n",
       "      <td>서울 김동은 기자 22년 차 배달기사 이씨 48 는 음식 배달을 위해 서울 모 초고...</td>\n",
       "      <td>영상 냄새난다고 화물용 승강기 타래요 도 넘은 갑질 에 뿔난 배달기사들</td>\n",
       "    </tr>\n",
       "    <tr>\n",
       "      <th>46020</th>\n",
       "      <td>서울 서울 중랑구에서 신종 코로나바이러스 감염증 코로나19 확진자가 9명 추가 발생...</td>\n",
       "      <td>중랑구서 확진자 9명 추가 2명은 광진구 음식점 관련</td>\n",
       "    </tr>\n",
       "    <tr>\n",
       "      <th>46021</th>\n",
       "      <td>국민건강보험공단의 전화상담 업무를 담당하고 있는 민간 위탁업체 소속 콜센터 직원 8...</td>\n",
       "      <td>콜센터 파업 장기화하나 건보공단 위탁업체 정직원 직고용 어려워</td>\n",
       "    </tr>\n",
       "    <tr>\n",
       "      <th>46022</th>\n",
       "      <td>인파 몰림 현상을 꺼려하는 분위기 탓에 도심 관광지가 외면받자 지자체는 해법 모색에...</td>\n",
       "      <td>대구 근대골목 한국관광 100선서 최초 제외 관광 위기 자구책은</td>\n",
       "    </tr>\n",
       "  </tbody>\n",
       "</table>\n",
       "<p>46023 rows × 2 columns</p>\n",
       "</div>"
      ],
      "text/plain": [
       "                                                articles  \\\n",
       "0      주요 일정으로는 7일 제1차 본회의에서 2020회계연도 결산승인안에 대한 제안 설명...   \n",
       "1      성수기를 피해 소규모 가족 단위로 짧게 정부가 발표한 휴가철 방역 대책의 핵심입니다...   \n",
       "2      웹툰 마음의 소리 와 조의 영역 으로 인기를 얻은 웹툰 작가 조석 38 이 폐결핵 ...   \n",
       "3      7일 법조계에 따르면 세월호 특검팀은 서해해경청과 목포해경에 검사와 수사관 등을 보...   \n",
       "4      제주상공회의소 회장 양문석 와 제주도관광협회 회장 부동석 가 주최하고 제주도 제주도...   \n",
       "...                                                  ...   \n",
       "46018  이른바 검언유착 의혹 으로 구속기소된 이동재 전 채널 기자의 구속 기간이 4일 만료...   \n",
       "46019  서울 김동은 기자 22년 차 배달기사 이씨 48 는 음식 배달을 위해 서울 모 초고...   \n",
       "46020  서울 서울 중랑구에서 신종 코로나바이러스 감염증 코로나19 확진자가 9명 추가 발생...   \n",
       "46021  국민건강보험공단의 전화상담 업무를 담당하고 있는 민간 위탁업체 소속 콜센터 직원 8...   \n",
       "46022  인파 몰림 현상을 꺼려하는 분위기 탓에 도심 관광지가 외면받자 지자체는 해법 모색에...   \n",
       "\n",
       "                                        titles  \n",
       "0                     파주시의회 행감 돌입 다양한 해법 대안 제시  \n",
       "1                         휴가철 방역대책 짧게 소규모로 나눠서  \n",
       "2                마음의 소리 조석 작가 덜컥 폐결핵 결국 담배 때문에  \n",
       "3                       세월호 특검 서해해경청 목포해경 압수수색  \n",
       "4                    제주상의 관광협회 기반 지속가능경영 구축 속도  \n",
       "...                                        ...  \n",
       "46018              검언유착 의혹 이동재 4일 석방 구속 292일 만  \n",
       "46019  영상 냄새난다고 화물용 승강기 타래요 도 넘은 갑질 에 뿔난 배달기사들  \n",
       "46020            중랑구서 확진자 9명 추가 2명은 광진구 음식점 관련  \n",
       "46021       콜센터 파업 장기화하나 건보공단 위탁업체 정직원 직고용 어려워  \n",
       "46022      대구 근대골목 한국관광 100선서 최초 제외 관광 위기 자구책은  \n",
       "\n",
       "[46023 rows x 2 columns]"
      ]
     },
     "execution_count": 156,
     "metadata": {},
     "output_type": "execute_result"
    }
   ],
   "source": [
    "DATA_IN_PATH = './data_in/'\n",
    "\n",
    "data = pd.read_csv('./data_in/data_v2.csv',encoding='utf-8')[['articles','titles']]\n",
    "data"
   ]
  },
  {
   "cell_type": "code",
   "execution_count": 273,
   "id": "d84032b2",
   "metadata": {
    "ExecuteTime": {
     "end_time": "2021-06-09T06:51:49.524258Z",
     "start_time": "2021-06-09T06:51:49.504311Z"
    }
   },
   "outputs": [
    {
     "data": {
      "text/html": [
       "<div>\n",
       "<style scoped>\n",
       "    .dataframe tbody tr th:only-of-type {\n",
       "        vertical-align: middle;\n",
       "    }\n",
       "\n",
       "    .dataframe tbody tr th {\n",
       "        vertical-align: top;\n",
       "    }\n",
       "\n",
       "    .dataframe thead th {\n",
       "        text-align: right;\n",
       "    }\n",
       "</style>\n",
       "<table border=\"1\" class=\"dataframe\">\n",
       "  <thead>\n",
       "    <tr style=\"text-align: right;\">\n",
       "      <th></th>\n",
       "      <th>morph</th>\n",
       "      <th>tag</th>\n",
       "      <th>ratio</th>\n",
       "    </tr>\n",
       "  </thead>\n",
       "  <tbody>\n",
       "    <tr>\n",
       "      <th>0</th>\n",
       "      <td>이</td>\n",
       "      <td>VCP</td>\n",
       "      <td>0.018280</td>\n",
       "    </tr>\n",
       "    <tr>\n",
       "      <th>1</th>\n",
       "      <td>있</td>\n",
       "      <td>VA</td>\n",
       "      <td>0.011699</td>\n",
       "    </tr>\n",
       "    <tr>\n",
       "      <th>2</th>\n",
       "      <td>하</td>\n",
       "      <td>VV</td>\n",
       "      <td>0.009774</td>\n",
       "    </tr>\n",
       "    <tr>\n",
       "      <th>3</th>\n",
       "      <td>것</td>\n",
       "      <td>NNB</td>\n",
       "      <td>0.009733</td>\n",
       "    </tr>\n",
       "    <tr>\n",
       "      <th>4</th>\n",
       "      <td>들</td>\n",
       "      <td>XSN</td>\n",
       "      <td>0.006898</td>\n",
       "    </tr>\n",
       "    <tr>\n",
       "      <th>...</th>\n",
       "      <td>...</td>\n",
       "      <td>...</td>\n",
       "      <td>...</td>\n",
       "    </tr>\n",
       "    <tr>\n",
       "      <th>95</th>\n",
       "      <td>원</td>\n",
       "      <td>NNB</td>\n",
       "      <td>0.000492</td>\n",
       "    </tr>\n",
       "    <tr>\n",
       "      <th>96</th>\n",
       "      <td>잘</td>\n",
       "      <td>MAG</td>\n",
       "      <td>0.000491</td>\n",
       "    </tr>\n",
       "    <tr>\n",
       "      <th>97</th>\n",
       "      <td>통하</td>\n",
       "      <td>VV</td>\n",
       "      <td>0.000487</td>\n",
       "    </tr>\n",
       "    <tr>\n",
       "      <th>98</th>\n",
       "      <td>소리</td>\n",
       "      <td>NNG</td>\n",
       "      <td>0.000486</td>\n",
       "    </tr>\n",
       "    <tr>\n",
       "      <th>99</th>\n",
       "      <td>놓</td>\n",
       "      <td>VX</td>\n",
       "      <td>0.000483</td>\n",
       "    </tr>\n",
       "  </tbody>\n",
       "</table>\n",
       "<p>100 rows × 3 columns</p>\n",
       "</div>"
      ],
      "text/plain": [
       "   morph  tag     ratio\n",
       "0      이  VCP  0.018280\n",
       "1      있   VA  0.011699\n",
       "2      하   VV  0.009774\n",
       "3      것  NNB  0.009733\n",
       "4      들  XSN  0.006898\n",
       "..   ...  ...       ...\n",
       "95     원  NNB  0.000492\n",
       "96     잘  MAG  0.000491\n",
       "97    통하   VV  0.000487\n",
       "98    소리  NNG  0.000486\n",
       "99     놓   VX  0.000483\n",
       "\n",
       "[100 rows x 3 columns]"
      ]
     },
     "execution_count": 273,
     "metadata": {},
     "output_type": "execute_result"
    }
   ],
   "source": [
    "korean_stopwords = pd.read_csv('한국어불용어100 (1).txt', delimiter='\\t', header=None)\n",
    "korean_stopwords.columns = ['morph', 'tag', 'ratio']\n",
    "korean_stopwords"
   ]
  },
  {
   "cell_type": "code",
   "execution_count": 157,
   "id": "82c1f6b7",
   "metadata": {
    "ExecuteTime": {
     "end_time": "2021-06-09T05:15:24.361809Z",
     "start_time": "2021-06-09T05:06:57.604091Z"
    }
   },
   "outputs": [],
   "source": [
    "morph_articles = data['articles'].apply(text_to_morphs)"
   ]
  },
  {
   "cell_type": "code",
   "execution_count": 158,
   "id": "3e8c7e56",
   "metadata": {
    "ExecuteTime": {
     "end_time": "2021-06-09T05:15:25.354351Z",
     "start_time": "2021-06-09T05:15:25.073519Z"
    }
   },
   "outputs": [],
   "source": [
    "morph_len = [len(t.split()) for t in morph_articles]"
   ]
  },
  {
   "cell_type": "code",
   "execution_count": 159,
   "id": "25ba5676",
   "metadata": {
    "ExecuteTime": {
     "end_time": "2021-06-09T05:15:26.113412Z",
     "start_time": "2021-06-09T05:15:26.066255Z"
    },
    "scrolled": false
   },
   "outputs": [
    {
     "name": "stdout",
     "output_type": "stream",
     "text": [
      "형태소 최대길이: 219\n",
      "형태소 최소길이: 12\n",
      "형태소 평균길이: 84.94 \n",
      "형태소 길이 표준편차: 33.70\n",
      "형태소 중간길이: 85.0\n",
      "제 1 사분위 길이: 60.0\n",
      "제 3 사분위 길이: 109.0\n"
     ]
    }
   ],
   "source": [
    "print('형태소 최대길이: {}'.format(np.max(morph_len)))\n",
    "print('형태소 최소길이: {}'.format(np.min(morph_len)))\n",
    "print('형태소 평균길이: {:.2f} '.format(np.mean(morph_len)))\n",
    "print('형태소 길이 표준편차: {:.2f}'.format(np.std(morph_len)))\n",
    "print('형태소 중간길이: {}'.format(np.median(morph_len)))\n",
    "print('제 1 사분위 길이: {}'.format(np.percentile(morph_len, 25)))\n",
    "print('제 3 사분위 길이: {}'.format(np.percentile(morph_len, 75)))"
   ]
  },
  {
   "cell_type": "code",
   "execution_count": 160,
   "id": "2a65461b",
   "metadata": {
    "ExecuteTime": {
     "end_time": "2021-06-09T05:15:27.249428Z",
     "start_time": "2021-06-09T05:15:26.859754Z"
    }
   },
   "outputs": [
    {
     "data": {
      "image/png": "[encoded data removed]",
      "text/plain": [
       "<Figure size 432x288 with 1 Axes>"
      ]
     },
     "metadata": {
      "image/png": {
       "height": 251,
       "width": 383
      }
     },
     "output_type": "display_data"
    }
   ],
   "source": [
    "plt.hist(morph_len, bins=50, alpha=0.5)\n",
    "plt.show()"
   ]
  },
  {
   "cell_type": "markdown",
   "id": "1b9815c8",
   "metadata": {},
   "source": [
    "- 0이 중간에 껴있는 애들 다 제거"
   ]
  },
  {
   "cell_type": "code",
   "execution_count": 178,
   "id": "ee2dee47",
   "metadata": {
    "ExecuteTime": {
     "end_time": "2021-06-09T05:20:37.763853Z",
     "start_time": "2021-06-09T05:20:37.695009Z"
    },
    "scrolled": true
   },
   "outputs": [
    {
     "data": {
      "text/html": [
       "<div>\n",
       "<style scoped>\n",
       "    .dataframe tbody tr th:only-of-type {\n",
       "        vertical-align: middle;\n",
       "    }\n",
       "\n",
       "    .dataframe tbody tr th {\n",
       "        vertical-align: top;\n",
       "    }\n",
       "\n",
       "    .dataframe thead th {\n",
       "        text-align: right;\n",
       "    }\n",
       "</style>\n",
       "<table border=\"1\" class=\"dataframe\">\n",
       "  <thead>\n",
       "    <tr style=\"text-align: right;\">\n",
       "      <th></th>\n",
       "      <th>articles</th>\n",
       "      <th>titles</th>\n",
       "    </tr>\n",
       "  </thead>\n",
       "  <tbody>\n",
       "    <tr>\n",
       "      <th>0</th>\n",
       "      <td>주요 일정으로는 7일 제1차 본회의에서 2020회계연도 결산승인안에 대한 제안 설명...</td>\n",
       "      <td>파주시의회 행감 돌입 다양한 해법 대안 제시</td>\n",
       "    </tr>\n",
       "    <tr>\n",
       "      <th>1</th>\n",
       "      <td>성수기를 피해 소규모 가족 단위로 짧게 정부가 발표한 휴가철 방역 대책의 핵심입니다...</td>\n",
       "      <td>휴가철 방역대책 짧게 소규모로 나눠서</td>\n",
       "    </tr>\n",
       "    <tr>\n",
       "      <th>2</th>\n",
       "      <td>웹툰 마음의 소리 와 조의 영역 으로 인기를 얻은 웹툰 작가 조석 38 이 폐결핵 ...</td>\n",
       "      <td>마음의 소리 조석 작가 덜컥 폐결핵 결국 담배 때문에</td>\n",
       "    </tr>\n",
       "    <tr>\n",
       "      <th>3</th>\n",
       "      <td>7일 법조계에 따르면 세월호 특검팀은 서해해경청과 목포해경에 검사와 수사관 등을 보...</td>\n",
       "      <td>세월호 특검 서해해경청 목포해경 압수수색</td>\n",
       "    </tr>\n",
       "    <tr>\n",
       "      <th>4</th>\n",
       "      <td>제주상공회의소 회장 양문석 와 제주도관광협회 회장 부동석 가 주최하고 제주도 제주도...</td>\n",
       "      <td>제주상의 관광협회 기반 지속가능경영 구축 속도</td>\n",
       "    </tr>\n",
       "    <tr>\n",
       "      <th>...</th>\n",
       "      <td>...</td>\n",
       "      <td>...</td>\n",
       "    </tr>\n",
       "    <tr>\n",
       "      <th>45488</th>\n",
       "      <td>이른바 검언유착 의혹 으로 구속기소된 이동재 전 채널 기자의 구속 기간이 4일 만료...</td>\n",
       "      <td>검언유착 의혹 이동재 4일 석방 구속 292일 만</td>\n",
       "    </tr>\n",
       "    <tr>\n",
       "      <th>45489</th>\n",
       "      <td>서울 김동은 기자 22년 차 배달기사 이씨 48 는 음식 배달을 위해 서울 모 초고...</td>\n",
       "      <td>영상 냄새난다고 화물용 승강기 타래요 도 넘은 갑질 에 뿔난 배달기사들</td>\n",
       "    </tr>\n",
       "    <tr>\n",
       "      <th>45490</th>\n",
       "      <td>서울 서울 중랑구에서 신종 코로나바이러스 감염증 코로나19 확진자가 9명 추가 발생...</td>\n",
       "      <td>중랑구서 확진자 9명 추가 2명은 광진구 음식점 관련</td>\n",
       "    </tr>\n",
       "    <tr>\n",
       "      <th>45491</th>\n",
       "      <td>국민건강보험공단의 전화상담 업무를 담당하고 있는 민간 위탁업체 소속 콜센터 직원 8...</td>\n",
       "      <td>콜센터 파업 장기화하나 건보공단 위탁업체 정직원 직고용 어려워</td>\n",
       "    </tr>\n",
       "    <tr>\n",
       "      <th>45492</th>\n",
       "      <td>인파 몰림 현상을 꺼려하는 분위기 탓에 도심 관광지가 외면받자 지자체는 해법 모색에...</td>\n",
       "      <td>대구 근대골목 한국관광 100선서 최초 제외 관광 위기 자구책은</td>\n",
       "    </tr>\n",
       "  </tbody>\n",
       "</table>\n",
       "<p>45493 rows × 2 columns</p>\n",
       "</div>"
      ],
      "text/plain": [
       "                                                articles  \\\n",
       "0      주요 일정으로는 7일 제1차 본회의에서 2020회계연도 결산승인안에 대한 제안 설명...   \n",
       "1      성수기를 피해 소규모 가족 단위로 짧게 정부가 발표한 휴가철 방역 대책의 핵심입니다...   \n",
       "2      웹툰 마음의 소리 와 조의 영역 으로 인기를 얻은 웹툰 작가 조석 38 이 폐결핵 ...   \n",
       "3      7일 법조계에 따르면 세월호 특검팀은 서해해경청과 목포해경에 검사와 수사관 등을 보...   \n",
       "4      제주상공회의소 회장 양문석 와 제주도관광협회 회장 부동석 가 주최하고 제주도 제주도...   \n",
       "...                                                  ...   \n",
       "45488  이른바 검언유착 의혹 으로 구속기소된 이동재 전 채널 기자의 구속 기간이 4일 만료...   \n",
       "45489  서울 김동은 기자 22년 차 배달기사 이씨 48 는 음식 배달을 위해 서울 모 초고...   \n",
       "45490  서울 서울 중랑구에서 신종 코로나바이러스 감염증 코로나19 확진자가 9명 추가 발생...   \n",
       "45491  국민건강보험공단의 전화상담 업무를 담당하고 있는 민간 위탁업체 소속 콜센터 직원 8...   \n",
       "45492  인파 몰림 현상을 꺼려하는 분위기 탓에 도심 관광지가 외면받자 지자체는 해법 모색에...   \n",
       "\n",
       "                                        titles  \n",
       "0                     파주시의회 행감 돌입 다양한 해법 대안 제시  \n",
       "1                         휴가철 방역대책 짧게 소규모로 나눠서  \n",
       "2                마음의 소리 조석 작가 덜컥 폐결핵 결국 담배 때문에  \n",
       "3                       세월호 특검 서해해경청 목포해경 압수수색  \n",
       "4                    제주상의 관광협회 기반 지속가능경영 구축 속도  \n",
       "...                                        ...  \n",
       "45488              검언유착 의혹 이동재 4일 석방 구속 292일 만  \n",
       "45489  영상 냄새난다고 화물용 승강기 타래요 도 넘은 갑질 에 뿔난 배달기사들  \n",
       "45490            중랑구서 확진자 9명 추가 2명은 광진구 음식점 관련  \n",
       "45491       콜센터 파업 장기화하나 건보공단 위탁업체 정직원 직고용 어려워  \n",
       "45492      대구 근대골목 한국관광 100선서 최초 제외 관광 위기 자구책은  \n",
       "\n",
       "[45493 rows x 2 columns]"
      ]
     },
     "execution_count": 178,
     "metadata": {},
     "output_type": "execute_result"
    }
   ],
   "source": [
    "data['articles'] = data['articles'].apply(lambda x : np.nan if x.count('0') >= 10 else x)\n",
    "data = data.dropna().reset_index(drop=True)\n",
    "data"
   ]
  },
  {
   "cell_type": "code",
   "execution_count": 180,
   "id": "b64a641d",
   "metadata": {
    "ExecuteTime": {
     "end_time": "2021-06-09T05:31:12.604723Z",
     "start_time": "2021-06-09T05:22:47.502927Z"
    }
   },
   "outputs": [],
   "source": [
    "morph_articles = data['articles'].apply(text_to_morphs)\n",
    "morph_len = [len(t.split()) for t in morph_articles]"
   ]
  },
  {
   "cell_type": "code",
   "execution_count": 196,
   "id": "0407c087",
   "metadata": {
    "ExecuteTime": {
     "end_time": "2021-06-09T05:35:45.218218Z",
     "start_time": "2021-06-09T05:35:45.173313Z"
    }
   },
   "outputs": [
    {
     "name": "stdout",
     "output_type": "stream",
     "text": [
      "형태소 최대길이: 206\n",
      "형태소 최소길이: 12\n",
      "형태소 평균길이: 84.61 \n",
      "형태소 길이 표준편차: 33.60\n",
      "형태소 중간길이: 84.0\n",
      "제 1 사분위 길이: 59.0\n",
      "제 3 사분위 길이: 131.0\n"
     ]
    }
   ],
   "source": [
    "print('형태소 최대길이: {}'.format(np.max(morph_len)))\n",
    "print('형태소 최소길이: {}'.format(np.min(morph_len)))\n",
    "print('형태소 평균길이: {:.2f} '.format(np.mean(morph_len)))\n",
    "print('형태소 길이 표준편차: {:.2f}'.format(np.std(morph_len)))\n",
    "print('형태소 중간길이: {}'.format(np.median(morph_len)))\n",
    "print('제 1 사분위 길이: {}'.format(np.percentile(morph_len, 25)))\n",
    "print('제 3 사분위 길이: {}'.format(np.percentile(morph_len, 90)))"
   ]
  },
  {
   "cell_type": "code",
   "execution_count": 182,
   "id": "287c661b",
   "metadata": {
    "ExecuteTime": {
     "end_time": "2021-06-09T05:31:33.015146Z",
     "start_time": "2021-06-09T05:31:32.635928Z"
    }
   },
   "outputs": [
    {
     "data": {
      "image/png": "[encoded data removed]",
      "text/plain": [
       "<Figure size 432x288 with 1 Axes>"
      ]
     },
     "metadata": {
      "image/png": {
       "height": 251,
       "width": 383
      }
     },
     "output_type": "display_data"
    }
   ],
   "source": [
    "plt.hist(morph_len, bins=50, alpha=0.5)\n",
    "plt.show()"
   ]
  },
  {
   "cell_type": "markdown",
   "id": "0f87e0fd",
   "metadata": {},
   "source": [
    "--------------------------"
   ]
  },
  {
   "cell_type": "code",
   "execution_count": 183,
   "id": "b33a1365",
   "metadata": {
    "ExecuteTime": {
     "end_time": "2021-06-09T05:32:50.276655Z",
     "start_time": "2021-06-09T05:31:40.826431Z"
    }
   },
   "outputs": [],
   "source": [
    "morph_titles = data['titles'].apply(text_to_morphs)\n",
    "morph_len_titles = [len(t.split()) for t in morph_titles]"
   ]
  },
  {
   "cell_type": "code",
   "execution_count": 192,
   "id": "4718dfc4",
   "metadata": {
    "ExecuteTime": {
     "end_time": "2021-06-09T05:34:47.897098Z",
     "start_time": "2021-06-09T05:34:47.846183Z"
    }
   },
   "outputs": [
    {
     "name": "stdout",
     "output_type": "stream",
     "text": [
      "형태소 최대길이: 24\n",
      "형태소 최소길이: 2\n",
      "형태소 평균길이: 10.55\n",
      "형태소 길이 표준편차: 2.53\n",
      "형태소 중간길이: 10.0\n",
      "제 1 사분위 길이: 9.0\n",
      "제 3 사분위 길이: 14.0\n"
     ]
    }
   ],
   "source": [
    "print('형태소 최대길이: {}'.format(np.max(morph_len_titles)))\n",
    "print('형태소 최소길이: {}'.format(np.min(morph_len_titles)))\n",
    "print('형태소 평균길이: {:.2f}'.format(np.mean(morph_len_titles)))\n",
    "print('형태소 길이 표준편차: {:.2f}'.format(np.std(morph_len_titles)))\n",
    "print('형태소 중간길이: {}'.format(np.median(morph_len_titles)))\n",
    "print('제 1 사분위 길이: {}'.format(np.percentile(morph_len_titles, 25)))\n",
    "print('제 3 사분위 길이: {}'.format(np.percentile(morph_len_titles, 90)))"
   ]
  },
  {
   "cell_type": "code",
   "execution_count": 185,
   "id": "ea1bbbcb",
   "metadata": {
    "ExecuteTime": {
     "end_time": "2021-06-09T05:33:28.736918Z",
     "start_time": "2021-06-09T05:33:28.381790Z"
    }
   },
   "outputs": [
    {
     "data": {
      "image/png": "[encoded data removed]",
      "text/plain": [
       "<Figure size 432x288 with 1 Axes>"
      ]
     },
     "metadata": {
      "image/png": {
       "height": 253,
       "width": 387
      }
     },
     "output_type": "display_data"
    }
   ],
   "source": [
    "plt.hist(morph_len_titles, bins=50, alpha=0.5)\n",
    "plt.show()"
   ]
  },
  {
   "cell_type": "markdown",
   "id": "3e5ffac1",
   "metadata": {},
   "source": [
    "- encoder_input의 max len은 130\n",
    "- decoder_input의 max len은 15"
   ]
  },
  {
   "cell_type": "code",
   "execution_count": 342,
   "id": "36640466",
   "metadata": {
    "ExecuteTime": {
     "end_time": "2021-06-09T08:17:59.351239Z",
     "start_time": "2021-06-09T08:17:59.334291Z"
    }
   },
   "outputs": [],
   "source": [
    "PATH = 'data_in/data_v2.csv'\n",
    "ENC_VOCAB_PATH = 'data_in/enc_vocabulary.txt'\n",
    "DEC_VOCAB_PATH = 'data_in/dec_vocabulary.txt'"
   ]
  },
  {
   "cell_type": "code",
   "execution_count": 343,
   "id": "a7cfd133",
   "metadata": {
    "ExecuteTime": {
     "end_time": "2021-06-09T08:18:01.789215Z",
     "start_time": "2021-06-09T08:18:01.775517Z"
    }
   },
   "outputs": [],
   "source": [
    "FILTERS = \"([~.,!?\\\"':;)(])\"\n",
    "PAD = '<PAD>'\n",
    "STD = \"<SOS>\"\n",
    "END = \"<END>\"\n",
    "UNK = \"<UNK>\"\n",
    "\n",
    "PAD_INDEX=0\n",
    "STD_INDEX=1\n",
    "END_INDEX=2\n",
    "UNK_INDEX=3\n",
    "\n",
    "\n",
    "MARKER = [PAD, STD, END, UNK]\n",
    "CHANGE_FILTER = re.compile(FILTERS)\n",
    "\n",
    "ENC_MAX_SEQUENCE = 130\n",
    "DEC_MAX_SEQUENCE = 15"
   ]
  },
  {
   "cell_type": "code",
   "execution_count": 344,
   "id": "e91d429d",
   "metadata": {
    "ExecuteTime": {
     "end_time": "2021-06-09T08:18:04.433632Z",
     "start_time": "2021-06-09T08:18:04.418352Z"
    }
   },
   "outputs": [],
   "source": [
    "from preprocess import *"
   ]
  },
  {
   "cell_type": "code",
   "execution_count": 345,
   "id": "3ddda463",
   "metadata": {
    "ExecuteTime": {
     "end_time": "2021-06-09T08:18:07.909529Z",
     "start_time": "2021-06-09T08:18:07.892576Z"
    }
   },
   "outputs": [],
   "source": [
    "def load_data(path):\n",
    "    # 판다스를 통해서 데이터를 불러온다.\n",
    "    data_df = pd.read_csv(path)\n",
    "    # 질문과 답변 열을 가져와 question과 answer에 넣는다.\n",
    "    articles, titles = list(data_df['articles']), list(data_df['titles'])\n",
    "\n",
    "    return articles, titles"
   ]
  },
  {
   "cell_type": "code",
   "execution_count": 346,
   "id": "36fb812d",
   "metadata": {
    "ExecuteTime": {
     "end_time": "2021-06-09T08:18:11.721967Z",
     "start_time": "2021-06-09T08:18:11.203109Z"
    }
   },
   "outputs": [],
   "source": [
    "inputs, outputs = load_data(PATH)"
   ]
  },
  {
   "cell_type": "code",
   "execution_count": 347,
   "id": "c926ca59",
   "metadata": {
    "ExecuteTime": {
     "end_time": "2021-06-09T08:18:33.525919Z",
     "start_time": "2021-06-09T08:18:33.507934Z"
    }
   },
   "outputs": [],
   "source": [
    "def data_tokenizer(data):\n",
    "    # 토크나이징 해서 담을 배열 생성\n",
    "    words = []\n",
    "    for sentence in data:\n",
    "        # FILTERS = \"([~.,!?\\\"':;)(])\"\n",
    "        # 위 필터와 같은 값들을 정규화 표현식을\n",
    "        # 통해서 모두 \"\" 으로 변환 해주는 부분이다.\n",
    "        sentence = re.sub(CHANGE_FILTER, \"\", sentence)\n",
    "        for word in sentence.split():\n",
    "            words.append(word)\n",
    "    # 토그나이징과 정규표현식을 통해 만들어진\n",
    "    # 값들을 넘겨 준다.\n",
    "    return [word for word in words if word]"
   ]
  },
  {
   "cell_type": "code",
   "execution_count": 348,
   "id": "21c81a76",
   "metadata": {
    "ExecuteTime": {
     "end_time": "2021-06-09T08:18:46.089122Z",
     "start_time": "2021-06-09T08:18:46.072122Z"
    }
   },
   "outputs": [
    {
     "data": {
      "text/plain": [
       "0      이\n",
       "1      있\n",
       "2      하\n",
       "3      것\n",
       "4      들\n",
       "      ..\n",
       "95     원\n",
       "96     잘\n",
       "97    통하\n",
       "98    소리\n",
       "99     놓\n",
       "Name: morph, Length: 100, dtype: object"
      ]
     },
     "execution_count": 348,
     "metadata": {},
     "output_type": "execute_result"
    }
   ],
   "source": [
    "korean_stopwords['morph']"
   ]
  },
  {
   "cell_type": "code",
   "execution_count": 349,
   "id": "3d46ef41",
   "metadata": {
    "ExecuteTime": {
     "end_time": "2021-06-09T08:19:10.592337Z",
     "start_time": "2021-06-09T08:19:10.574388Z"
    }
   },
   "outputs": [],
   "source": [
    "def prepro_like_morphlized(data, method='Okt', stopwords=True):\n",
    "    if method == 'Okt':\n",
    "        morph_analyzer = Okt()\n",
    "    if method == 'Komoran':\n",
    "        morph_analyzer = Komoran()\n",
    "    result_data = []\n",
    "    if stopwords:\n",
    "        for seq in tqdm(data):\n",
    "            seq_ls = [morph for morph in morph_analyzer.morphs(seq) if morph not in korean_stopwords['morph']]\n",
    "            morphlized_seq = \" \".join(seq_ls)\n",
    "            result_data.append(morphlized_seq)\n",
    "    else:\n",
    "        for seq in tqdm(data):\n",
    "            morphlized_seq = \" \".join(morph_analyzer.morphs(seq))\n",
    "            result_data.append(morphlized_seq)\n",
    "\n",
    "    return result_data"
   ]
  },
  {
   "cell_type": "code",
   "execution_count": 350,
   "id": "0de18e34",
   "metadata": {
    "ExecuteTime": {
     "end_time": "2021-06-09T08:19:13.211972Z",
     "start_time": "2021-06-09T08:19:13.198010Z"
    }
   },
   "outputs": [],
   "source": [
    "def make_vocabulary(vocabulary_list):\n",
    "    # 리스트를 키가 단어이고 값이 인덱스인\n",
    "    # 딕셔너리를 만든다.\n",
    "    char2idx = {char: idx for idx, char in enumerate(vocabulary_list)}\n",
    "    # 리스트를 키가 인덱스이고 값이 단어인\n",
    "    # 딕셔너리를 만든다.\n",
    "    idx2char = {idx: char for idx, char in enumerate(vocabulary_list)}\n",
    "    # 두개의 딕셔너리를 넘겨 준다.\n",
    "    return char2idx, idx2char"
   ]
  },
  {
   "cell_type": "code",
   "execution_count": 353,
   "id": "01fa9581",
   "metadata": {
    "ExecuteTime": {
     "end_time": "2021-06-09T08:21:10.857135Z",
     "start_time": "2021-06-09T08:21:10.834182Z"
    }
   },
   "outputs": [],
   "source": [
    "def load_vocabulary(path, vocab_enc_path, vocab_dec_path, tokenize_as_morph=False, method='Okt'):\n",
    "    # 사전을 담을 배열 준비한다.\n",
    "    enc_vocabulary_list = []\n",
    "    dec_vocabulary_list = []\n",
    "    # 사전을 구성한 후 파일로 저장 진행한다.\n",
    "    # 그 파일의 존재 유무를 확인한다.\n",
    "    if not os.path.exists(vocab_enc_path):\n",
    "        # 이미 생성된 사전 파일이 존재하지 않으므로\n",
    "        # 데이터를 가지고 만들어야 한다.\n",
    "        # 그래서 데이터가 존재 하면 사전을 만들기 위해서\n",
    "        # 데이터 파일의 존재 유무를 확인한다.\n",
    "        if (os.path.exists(path)):\n",
    "            # 데이터가 존재하니 판단스를 통해서\n",
    "            # 데이터를 불러오자\n",
    "            data_df = pd.read_csv(path, encoding='utf-8')\n",
    "            # 판다스의 데이터 프레임을 통해서\n",
    "            # 질문과 답에 대한 열을 가져 온다.\n",
    "            articles, titles = list(data_df['articles']), list(data_df['titles'])\n",
    "            if tokenize_as_morph:  # 형태소에 따른 토크나이져 처리\n",
    "                print(method)\n",
    "                article = prepro_like_morphlized(articles, method, stopwords=True)\n",
    "                title = prepro_like_morphlized(titles, method, stopwords=False)\n",
    "            data_articles = []\n",
    "            data_titles = []\n",
    "            # 질문과 답변을 extend을\n",
    "            # 통해서 구조가 없는 배열로 만든다.\n",
    "            data_articles.extend(article)\n",
    "            data_titles.extend(title)\n",
    "            # 토큰나이져 처리 하는 부분이다.\n",
    "            words_articles = data_tokenizer(data_articles)\n",
    "            words_titles = data_tokenizer(data_titles)\n",
    "            # 공통적인 단어에 대해서는 모두\n",
    "            # 필요 없으므로 한개로 만들어 주기 위해서\n",
    "            # set해주고 이것들을 리스트로 만들어 준다.\n",
    "            words_articles = list(set(words_articles))\n",
    "            words_titles = list(set(words_titles))\n",
    "            # 데이터 없는 내용중에 MARKER를 사전에\n",
    "            # 추가 하기 위해서 아래와 같이 처리 한다.\n",
    "            # 아래는 MARKER 값이며 리스트의 첫번째 부터\n",
    "            # 순서대로 넣기 위해서 인덱스 0에 추가한다.\n",
    "            # PAD = \"<PADDING>\"\n",
    "            # STD = \"<START>\"\n",
    "            # END = \"<END>\"\n",
    "            # UNK = \"<UNKNWON>\"\n",
    "            words_articles[:0] = MARKER\n",
    "            words_titles[:0] = MARKER\n",
    "        # 사전을 리스트로 만들었으니 이 내용을\n",
    "        # 사전 파일을 만들어 넣는다.\n",
    "        with open(vocab_enc_path, 'w', encoding='utf-8') as vocabulary_file:\n",
    "            for word in words_articles:\n",
    "                vocabulary_file.write(word + '\\n')\n",
    "                \n",
    "        with open(vocab_dec_path, 'w', encoding='utf-8') as vocabulary_file:\n",
    "            for word in words_titles:\n",
    "                vocabulary_file.write(word + '\\n')\n",
    "\n",
    "    # 사전 파일이 존재하면 여기에서\n",
    "    # 그 파일을 불러서 배열에 넣어 준다.\n",
    "    with open(vocab_enc_path, 'r', encoding='utf-8') as vocabulary_file:\n",
    "        for line in vocabulary_file:\n",
    "            enc_vocabulary_list.append(line.strip())\n",
    "            \n",
    "    with open(vocab_dec_path, 'r', encoding='utf-8') as vocabulary_file:\n",
    "        for line in vocabulary_file:\n",
    "            dec_vocabulary_list.append(line.strip())\n",
    "\n",
    "    # 배열에 내용을 키와 값이 있는\n",
    "    # 딕셔너리 구조로 만든다.\n",
    "    enc_char2idx, enc_idx2char = make_vocabulary(enc_vocabulary_list)\n",
    "    dec_char2idx, dec_idx2char = make_vocabulary(dec_vocabulary_list)\n",
    "    # 두가지 형태의 키와 값이 있는 형태를 리턴한다.\n",
    "    # (예) 단어: 인덱스 , 인덱스: 단어)\n",
    "    return (enc_char2idx, enc_idx2char, len(enc_char2idx)), (dec_char2idx, dec_idx2char, len(dec_char2idx))"
   ]
  },
  {
   "cell_type": "code",
   "execution_count": 352,
   "id": "a18171d1",
   "metadata": {
    "ExecuteTime": {
     "end_time": "2021-06-09T08:20:59.273112Z",
     "start_time": "2021-06-09T08:20:59.263107Z"
    }
   },
   "outputs": [
    {
     "data": {
      "text/plain": [
       "'data_in/data_v2.csv'"
      ]
     },
     "execution_count": 352,
     "metadata": {},
     "output_type": "execute_result"
    }
   ],
   "source": [
    "PATH"
   ]
  },
  {
   "cell_type": "code",
   "execution_count": 284,
   "id": "7b2477b8",
   "metadata": {
    "ExecuteTime": {
     "end_time": "2021-06-09T07:21:16.025336Z",
     "start_time": "2021-06-09T07:10:37.451698Z"
    }
   },
   "outputs": [
    {
     "name": "stderr",
     "output_type": "stream",
     "text": [
      "  0%|          | 25/46023 [00:00<06:09, 124.59it/s]"
     ]
    },
    {
     "name": "stdout",
     "output_type": "stream",
     "text": [
      "Okt\n"
     ]
    },
    {
     "name": "stderr",
     "output_type": "stream",
     "text": [
      "100%|██████████| 46023/46023 [09:38<00:00, 79.62it/s] \n",
      "100%|██████████| 46023/46023 [00:58<00:00, 792.40it/s] \n"
     ]
    }
   ],
   "source": [
    "enc_set, dec_set = load_vocabulary(PATH, ENC_VOCAB_PATH, DEC_VOCAB_PATH, tokenize_as_morph=True)"
   ]
  },
  {
   "cell_type": "code",
   "execution_count": 285,
   "id": "f6026b36",
   "metadata": {
    "ExecuteTime": {
     "end_time": "2021-06-09T07:46:01.256112Z",
     "start_time": "2021-06-09T07:46:01.243147Z"
    }
   },
   "outputs": [],
   "source": [
    "enc_char2idx, enc_idx2char, enc_vocab_size = enc_set\n",
    "dec_char2idx, dec_idx2char, dec_vocab_size = dec_set"
   ]
  },
  {
   "cell_type": "code",
   "execution_count": 325,
   "id": "f01817c3",
   "metadata": {
    "ExecuteTime": {
     "end_time": "2021-06-09T08:11:32.745028Z",
     "start_time": "2021-06-09T08:11:32.740035Z"
    }
   },
   "outputs": [
    {
     "data": {
      "text/plain": [
       "(67989, 27759)"
      ]
     },
     "execution_count": 325,
     "metadata": {},
     "output_type": "execute_result"
    }
   ],
   "source": [
    "enc_vocab_size, dec_vocab_size"
   ]
  },
  {
   "cell_type": "markdown",
   "id": "4016c0c7",
   "metadata": {},
   "source": [
    "> **vocab size가 너무크다. 줄여야겠엉**\n",
    ">> 일단 각 단어가 몇개씩 등장하는지나 한번 보자"
   ]
  },
  {
   "cell_type": "code",
   "execution_count": 355,
   "id": "087c518e",
   "metadata": {
    "ExecuteTime": {
     "end_time": "2021-06-09T08:33:15.253456Z",
     "start_time": "2021-06-09T08:21:33.422402Z"
    }
   },
   "outputs": [
    {
     "name": "stderr",
     "output_type": "stream",
     "text": [
      "100%|██████████| 46023/46023 [10:36<00:00, 72.31it/s] \n",
      "100%|██████████| 46023/46023 [01:05<00:00, 703.90it/s]\n"
     ]
    }
   ],
   "source": [
    "articles, titles = inputs, outputs\n",
    "morph_articles = prepro_like_morphlized(articles, stopwords=True)\n",
    "morph_titles = prepro_like_morphlized(titles, stopwords=False)"
   ]
  },
  {
   "cell_type": "code",
   "execution_count": 361,
   "id": "fb154694",
   "metadata": {
    "ExecuteTime": {
     "end_time": "2021-06-09T08:33:43.928606Z",
     "start_time": "2021-06-09T08:33:43.917151Z"
    }
   },
   "outputs": [
    {
     "data": {
      "text/plain": [
       "46023"
      ]
     },
     "execution_count": 361,
     "metadata": {},
     "output_type": "execute_result"
    }
   ],
   "source": [
    "len(morph_articles)"
   ]
  },
  {
   "cell_type": "code",
   "execution_count": 357,
   "id": "6e16f763",
   "metadata": {
    "ExecuteTime": {
     "end_time": "2021-06-09T08:33:24.747918Z",
     "start_time": "2021-06-09T08:33:20.921173Z"
    }
   },
   "outputs": [],
   "source": [
    "enc_word_counts = {}\n",
    "for word in data_tokenizer(morph_articles):\n",
    "    if word in enc_char2idx.keys():\n",
    "        if word in enc_word_counts:\n",
    "            enc_word_counts[word] += 1\n",
    "        else:\n",
    "            enc_word_counts[word] = 1\n",
    "    else:\n",
    "        print(word)\n",
    "        continue"
   ]
  },
  {
   "cell_type": "code",
   "execution_count": 358,
   "id": "98aac55c",
   "metadata": {
    "ExecuteTime": {
     "end_time": "2021-06-09T08:33:27.729037Z",
     "start_time": "2021-06-09T08:33:27.684597Z"
    }
   },
   "outputs": [
    {
     "data": {
      "text/plain": [
       "{'<END>', '<PAD>', '<SOS>', '<UNK>'}"
      ]
     },
     "execution_count": 358,
     "metadata": {},
     "output_type": "execute_result"
    }
   ],
   "source": [
    "set(enc_char2idx.keys() ) - set(enc_word_counts.keys())"
   ]
  },
  {
   "cell_type": "code",
   "execution_count": 359,
   "id": "cb6ccce6",
   "metadata": {
    "ExecuteTime": {
     "end_time": "2021-06-09T08:33:31.950759Z",
     "start_time": "2021-06-09T08:33:31.261637Z"
    }
   },
   "outputs": [],
   "source": [
    "dec_word_counts = {}\n",
    "for word in  data_tokenizer(morph_titles):\n",
    "    if word in dec_char2idx:\n",
    "        if word in dec_word_counts:\n",
    "            dec_word_counts[word] += 1\n",
    "        else:\n",
    "            dec_word_counts[word] = 1\n",
    "    else:\n",
    "        continue"
   ]
  },
  {
   "cell_type": "code",
   "execution_count": 360,
   "id": "94ea1e52",
   "metadata": {
    "ExecuteTime": {
     "end_time": "2021-06-09T08:33:40.740766Z",
     "start_time": "2021-06-09T08:33:35.392706Z"
    }
   },
   "outputs": [
    {
     "data": {
      "text/html": [
       "<div>\n",
       "<style scoped>\n",
       "    .dataframe tbody tr th:only-of-type {\n",
       "        vertical-align: middle;\n",
       "    }\n",
       "\n",
       "    .dataframe tbody tr th {\n",
       "        vertical-align: top;\n",
       "    }\n",
       "\n",
       "    .dataframe thead th {\n",
       "        text-align: right;\n",
       "    }\n",
       "</style>\n",
       "<table border=\"1\" class=\"dataframe\">\n",
       "  <thead>\n",
       "    <tr style=\"text-align: right;\">\n",
       "      <th></th>\n",
       "      <th>morph</th>\n",
       "      <th>count</th>\n",
       "    </tr>\n",
       "  </thead>\n",
       "  <tbody>\n",
       "    <tr>\n",
       "      <th>0</th>\n",
       "      <td>을</td>\n",
       "      <td>113956</td>\n",
       "    </tr>\n",
       "    <tr>\n",
       "      <th>1</th>\n",
       "      <td>이</td>\n",
       "      <td>95314</td>\n",
       "    </tr>\n",
       "    <tr>\n",
       "      <th>2</th>\n",
       "      <td>에</td>\n",
       "      <td>74956</td>\n",
       "    </tr>\n",
       "    <tr>\n",
       "      <th>3</th>\n",
       "      <td>를</td>\n",
       "      <td>66147</td>\n",
       "    </tr>\n",
       "    <tr>\n",
       "      <th>4</th>\n",
       "      <td>의</td>\n",
       "      <td>56851</td>\n",
       "    </tr>\n",
       "    <tr>\n",
       "      <th>...</th>\n",
       "      <td>...</td>\n",
       "      <td>...</td>\n",
       "    </tr>\n",
       "    <tr>\n",
       "      <th>67980</th>\n",
       "      <td>8201</td>\n",
       "      <td>1</td>\n",
       "    </tr>\n",
       "    <tr>\n",
       "      <th>67981</th>\n",
       "      <td>판가는</td>\n",
       "      <td>1</td>\n",
       "    </tr>\n",
       "    <tr>\n",
       "      <th>67982</th>\n",
       "      <td>냉담</td>\n",
       "      <td>1</td>\n",
       "    </tr>\n",
       "    <tr>\n",
       "      <th>67983</th>\n",
       "      <td>적응하는</td>\n",
       "      <td>1</td>\n",
       "    </tr>\n",
       "    <tr>\n",
       "      <th>67984</th>\n",
       "      <td>부직</td>\n",
       "      <td>1</td>\n",
       "    </tr>\n",
       "  </tbody>\n",
       "</table>\n",
       "<p>67985 rows × 2 columns</p>\n",
       "</div>"
      ],
      "text/plain": [
       "      morph   count\n",
       "0         을  113956\n",
       "1         이   95314\n",
       "2         에   74956\n",
       "3         를   66147\n",
       "4         의   56851\n",
       "...     ...     ...\n",
       "67980  8201       1\n",
       "67981   판가는       1\n",
       "67982    냉담       1\n",
       "67983  적응하는       1\n",
       "67984    부직       1\n",
       "\n",
       "[67985 rows x 2 columns]"
      ]
     },
     "execution_count": 360,
     "metadata": {},
     "output_type": "execute_result"
    }
   ],
   "source": [
    "enc_morph_counts = pd.DataFrame([enc_word_counts.keys(), enc_word_counts.values()]).T\n",
    "enc_morph_counts.columns = ['morph','count']\n",
    "enc_morph_counts = enc_morph_counts.sort_values(by='count', ascending=False).reset_index(drop=True)\n",
    "enc_morph_counts"
   ]
  },
  {
   "cell_type": "code",
   "execution_count": 395,
   "id": "8e8c12d6",
   "metadata": {
    "ExecuteTime": {
     "end_time": "2021-06-09T08:42:23.245783Z",
     "start_time": "2021-06-09T08:42:23.229827Z"
    }
   },
   "outputs": [],
   "source": [
    "enc_morph_under_7 =enc_morph_counts.loc[enc_morph_counts['count'] <= 7]"
   ]
  },
  {
   "cell_type": "code",
   "execution_count": 396,
   "id": "3445c89f",
   "metadata": {
    "ExecuteTime": {
     "end_time": "2021-06-09T08:42:26.184351Z",
     "start_time": "2021-06-09T08:42:26.170392Z"
    }
   },
   "outputs": [
    {
     "name": "stdout",
     "output_type": "stream",
     "text": [
      "단어 집합(vocabulary)의 크기 : 67985\n",
      "등장 빈도가 7번 이하인 희귀 단어의 수: 49202\n",
      "단어 집합에서 희귀 단어를 제외시킬 경우의 단어 집합의 크기 18783\n",
      "단어 집합에서 희귀 단어의 비율: 72.37184673089652\n"
     ]
    }
   ],
   "source": [
    "print('단어 집합(vocabulary)의 크기 :',len(enc_morph_counts))\n",
    "print('등장 빈도가 %s번 이하인 희귀 단어의 수: %s'%(7, len(enc_morph_under_7)))\n",
    "print('단어 집합에서 희귀 단어를 제외시킬 경우의 단어 집합의 크기 %s'%(len(enc_morph_counts) - len(enc_morph_under_7)))\n",
    "print(\"단어 집합에서 희귀 단어의 비율:\", (len(enc_morph_under_7) / len(enc_morph_counts))*100)"
   ]
  },
  {
   "cell_type": "markdown",
   "id": "2338adf0",
   "metadata": {},
   "source": [
    "-> encoder 단어 집합 크기 18783으로 제한"
   ]
  },
  {
   "cell_type": "code",
   "execution_count": 364,
   "id": "82c37153",
   "metadata": {
    "ExecuteTime": {
     "end_time": "2021-06-09T08:34:11.450275Z",
     "start_time": "2021-06-09T08:34:09.299072Z"
    }
   },
   "outputs": [
    {
     "data": {
      "text/html": [
       "<div>\n",
       "<style scoped>\n",
       "    .dataframe tbody tr th:only-of-type {\n",
       "        vertical-align: middle;\n",
       "    }\n",
       "\n",
       "    .dataframe tbody tr th {\n",
       "        vertical-align: top;\n",
       "    }\n",
       "\n",
       "    .dataframe thead th {\n",
       "        text-align: right;\n",
       "    }\n",
       "</style>\n",
       "<table border=\"1\" class=\"dataframe\">\n",
       "  <thead>\n",
       "    <tr style=\"text-align: right;\">\n",
       "      <th></th>\n",
       "      <th>morph</th>\n",
       "      <th>count</th>\n",
       "    </tr>\n",
       "  </thead>\n",
       "  <tbody>\n",
       "    <tr>\n",
       "      <th>0</th>\n",
       "      <td>명</td>\n",
       "      <td>9094</td>\n",
       "    </tr>\n",
       "    <tr>\n",
       "      <th>1</th>\n",
       "      <td>에</td>\n",
       "      <td>5502</td>\n",
       "    </tr>\n",
       "    <tr>\n",
       "      <th>2</th>\n",
       "      <td>서</td>\n",
       "      <td>4071</td>\n",
       "    </tr>\n",
       "    <tr>\n",
       "      <th>3</th>\n",
       "      <td>대</td>\n",
       "      <td>3575</td>\n",
       "    </tr>\n",
       "    <tr>\n",
       "      <th>4</th>\n",
       "      <td>확진</td>\n",
       "      <td>3137</td>\n",
       "    </tr>\n",
       "    <tr>\n",
       "      <th>...</th>\n",
       "      <td>...</td>\n",
       "      <td>...</td>\n",
       "    </tr>\n",
       "    <tr>\n",
       "      <th>27750</th>\n",
       "      <td>파죽지세</td>\n",
       "      <td>1</td>\n",
       "    </tr>\n",
       "    <tr>\n",
       "      <th>27751</th>\n",
       "      <td>나광국</td>\n",
       "      <td>1</td>\n",
       "    </tr>\n",
       "    <tr>\n",
       "      <th>27752</th>\n",
       "      <td>가르는</td>\n",
       "      <td>1</td>\n",
       "    </tr>\n",
       "    <tr>\n",
       "      <th>27753</th>\n",
       "      <td>끼어들어</td>\n",
       "      <td>1</td>\n",
       "    </tr>\n",
       "    <tr>\n",
       "      <th>27754</th>\n",
       "      <td>자구</td>\n",
       "      <td>1</td>\n",
       "    </tr>\n",
       "  </tbody>\n",
       "</table>\n",
       "<p>27755 rows × 2 columns</p>\n",
       "</div>"
      ],
      "text/plain": [
       "      morph count\n",
       "0         명  9094\n",
       "1         에  5502\n",
       "2         서  4071\n",
       "3         대  3575\n",
       "4        확진  3137\n",
       "...     ...   ...\n",
       "27750  파죽지세     1\n",
       "27751   나광국     1\n",
       "27752   가르는     1\n",
       "27753  끼어들어     1\n",
       "27754    자구     1\n",
       "\n",
       "[27755 rows x 2 columns]"
      ]
     },
     "execution_count": 364,
     "metadata": {},
     "output_type": "execute_result"
    }
   ],
   "source": [
    "dec_morph_counts = pd.DataFrame([dec_word_counts.keys(), dec_word_counts.values()]).T\n",
    "dec_morph_counts.columns = ['morph','count']\n",
    "dec_morph_counts = dec_morph_counts.sort_values(by='count', ascending=False).reset_index(drop=True)\n",
    "dec_morph_counts"
   ]
  },
  {
   "cell_type": "code",
   "execution_count": 376,
   "id": "59d1fd76",
   "metadata": {
    "ExecuteTime": {
     "end_time": "2021-06-09T08:36:20.688624Z",
     "start_time": "2021-06-09T08:36:20.655169Z"
    }
   },
   "outputs": [
    {
     "data": {
      "text/html": [
       "<div>\n",
       "<style scoped>\n",
       "    .dataframe tbody tr th:only-of-type {\n",
       "        vertical-align: middle;\n",
       "    }\n",
       "\n",
       "    .dataframe tbody tr th {\n",
       "        vertical-align: top;\n",
       "    }\n",
       "\n",
       "    .dataframe thead th {\n",
       "        text-align: right;\n",
       "    }\n",
       "</style>\n",
       "<table border=\"1\" class=\"dataframe\">\n",
       "  <thead>\n",
       "    <tr style=\"text-align: right;\">\n",
       "      <th></th>\n",
       "      <th>morph</th>\n",
       "      <th>count</th>\n",
       "    </tr>\n",
       "  </thead>\n",
       "  <tbody>\n",
       "    <tr>\n",
       "      <th>8301</th>\n",
       "      <td>맛있는</td>\n",
       "      <td>5</td>\n",
       "    </tr>\n",
       "    <tr>\n",
       "      <th>8302</th>\n",
       "      <td>해사</td>\n",
       "      <td>5</td>\n",
       "    </tr>\n",
       "    <tr>\n",
       "      <th>8303</th>\n",
       "      <td>계단</td>\n",
       "      <td>5</td>\n",
       "    </tr>\n",
       "    <tr>\n",
       "      <th>8304</th>\n",
       "      <td>최창학</td>\n",
       "      <td>5</td>\n",
       "    </tr>\n",
       "    <tr>\n",
       "      <th>8305</th>\n",
       "      <td>양호</td>\n",
       "      <td>5</td>\n",
       "    </tr>\n",
       "    <tr>\n",
       "      <th>...</th>\n",
       "      <td>...</td>\n",
       "      <td>...</td>\n",
       "    </tr>\n",
       "    <tr>\n",
       "      <th>27750</th>\n",
       "      <td>파죽지세</td>\n",
       "      <td>1</td>\n",
       "    </tr>\n",
       "    <tr>\n",
       "      <th>27751</th>\n",
       "      <td>나광국</td>\n",
       "      <td>1</td>\n",
       "    </tr>\n",
       "    <tr>\n",
       "      <th>27752</th>\n",
       "      <td>가르는</td>\n",
       "      <td>1</td>\n",
       "    </tr>\n",
       "    <tr>\n",
       "      <th>27753</th>\n",
       "      <td>끼어들어</td>\n",
       "      <td>1</td>\n",
       "    </tr>\n",
       "    <tr>\n",
       "      <th>27754</th>\n",
       "      <td>자구</td>\n",
       "      <td>1</td>\n",
       "    </tr>\n",
       "  </tbody>\n",
       "</table>\n",
       "<p>19454 rows × 2 columns</p>\n",
       "</div>"
      ],
      "text/plain": [
       "      morph count\n",
       "8301    맛있는     5\n",
       "8302     해사     5\n",
       "8303     계단     5\n",
       "8304    최창학     5\n",
       "8305     양호     5\n",
       "...     ...   ...\n",
       "27750  파죽지세     1\n",
       "27751   나광국     1\n",
       "27752   가르는     1\n",
       "27753  끼어들어     1\n",
       "27754    자구     1\n",
       "\n",
       "[19454 rows x 2 columns]"
      ]
     },
     "execution_count": 376,
     "metadata": {},
     "output_type": "execute_result"
    }
   ],
   "source": [
    "dec_morph_under_5 =dec_morph_counts.loc[dec_morph_counts['count'] <= 5]\n",
    "dec_morph_under_5"
   ]
  },
  {
   "cell_type": "code",
   "execution_count": 375,
   "id": "5d1d1c9f",
   "metadata": {
    "ExecuteTime": {
     "end_time": "2021-06-09T08:36:07.217728Z",
     "start_time": "2021-06-09T08:36:07.205460Z"
    }
   },
   "outputs": [
    {
     "name": "stdout",
     "output_type": "stream",
     "text": [
      "단어 집합(vocabulary)의 크기 : 27755\n",
      "등장 빈도가 5번 이하인 희귀 단어의 수: 19454\n",
      "단어 집합에서 희귀 단어를 제외시킬 경우의 단어 집합의 크기 8301\n",
      "단어 집합에서 희귀 단어의 비율: 70.09187533777698\n"
     ]
    }
   ],
   "source": [
    "print('단어 집합(vocabulary)의 크기 :',len(dec_morph_counts))\n",
    "print('등장 빈도가 %s번 이하인 희귀 단어의 수: %s'%(5, len(dec_morph_under_5)))\n",
    "print('단어 집합에서 희귀 단어를 제외시킬 경우의 단어 집합의 크기 %s'%(len(dec_morph_counts) - len(dec_morph_under_5)))\n",
    "print(\"단어 집합에서 희귀 단어의 비율:\", (len(dec_morph_under_5) / len(dec_morph_counts))*100)"
   ]
  },
  {
   "cell_type": "markdown",
   "id": "a88a1d40",
   "metadata": {},
   "source": [
    "- enc vocab size : 18783\n",
    "- dec vocab size : 8301"
   ]
  },
  {
   "cell_type": "code",
   "execution_count": 397,
   "id": "8822ba4b",
   "metadata": {
    "ExecuteTime": {
     "end_time": "2021-06-09T08:42:58.464423Z",
     "start_time": "2021-06-09T08:42:58.431507Z"
    }
   },
   "outputs": [],
   "source": [
    "enc_morph_2 =enc_morph_counts.loc[enc_morph_counts['count'] > 7]\n",
    "dec_morph_2 =dec_morph_counts.loc[dec_morph_counts['count'] > 5]"
   ]
  },
  {
   "cell_type": "code",
   "execution_count": 413,
   "id": "60753089",
   "metadata": {
    "ExecuteTime": {
     "end_time": "2021-06-09T08:48:56.824736Z",
     "start_time": "2021-06-09T08:48:51.980443Z"
    }
   },
   "outputs": [
    {
     "data": {
      "text/html": [
       "<div>\n",
       "<style scoped>\n",
       "    .dataframe tbody tr th:only-of-type {\n",
       "        vertical-align: middle;\n",
       "    }\n",
       "\n",
       "    .dataframe tbody tr th {\n",
       "        vertical-align: top;\n",
       "    }\n",
       "\n",
       "    .dataframe thead th {\n",
       "        text-align: right;\n",
       "    }\n",
       "</style>\n",
       "<table border=\"1\" class=\"dataframe\">\n",
       "  <thead>\n",
       "    <tr style=\"text-align: right;\">\n",
       "      <th></th>\n",
       "      <th>morph</th>\n",
       "      <th>index</th>\n",
       "    </tr>\n",
       "  </thead>\n",
       "  <tbody>\n",
       "    <tr>\n",
       "      <th>0</th>\n",
       "      <td>&lt;PAD&gt;</td>\n",
       "      <td>0</td>\n",
       "    </tr>\n",
       "    <tr>\n",
       "      <th>1</th>\n",
       "      <td>&lt;SOS&gt;</td>\n",
       "      <td>1</td>\n",
       "    </tr>\n",
       "    <tr>\n",
       "      <th>2</th>\n",
       "      <td>&lt;END&gt;</td>\n",
       "      <td>2</td>\n",
       "    </tr>\n",
       "    <tr>\n",
       "      <th>3</th>\n",
       "      <td>&lt;UNK&gt;</td>\n",
       "      <td>3</td>\n",
       "    </tr>\n",
       "    <tr>\n",
       "      <th>4</th>\n",
       "      <td>혈통</td>\n",
       "      <td>5</td>\n",
       "    </tr>\n",
       "    <tr>\n",
       "      <th>...</th>\n",
       "      <td>...</td>\n",
       "      <td>...</td>\n",
       "    </tr>\n",
       "    <tr>\n",
       "      <th>67982</th>\n",
       "      <td>박시영</td>\n",
       "      <td>67984</td>\n",
       "    </tr>\n",
       "    <tr>\n",
       "      <th>67983</th>\n",
       "      <td>새내기</td>\n",
       "      <td>67985</td>\n",
       "    </tr>\n",
       "    <tr>\n",
       "      <th>67984</th>\n",
       "      <td>나이트</td>\n",
       "      <td>67986</td>\n",
       "    </tr>\n",
       "    <tr>\n",
       "      <th>67985</th>\n",
       "      <td>이어졌다는</td>\n",
       "      <td>67987</td>\n",
       "    </tr>\n",
       "    <tr>\n",
       "      <th>67986</th>\n",
       "      <td>깨닫는</td>\n",
       "      <td>67988</td>\n",
       "    </tr>\n",
       "  </tbody>\n",
       "</table>\n",
       "<p>67987 rows × 2 columns</p>\n",
       "</div>"
      ],
      "text/plain": [
       "       morph  index\n",
       "0      <PAD>      0\n",
       "1      <SOS>      1\n",
       "2      <END>      2\n",
       "3      <UNK>      3\n",
       "4         혈통      5\n",
       "...      ...    ...\n",
       "67982    박시영  67984\n",
       "67983    새내기  67985\n",
       "67984    나이트  67986\n",
       "67985  이어졌다는  67987\n",
       "67986    깨닫는  67988\n",
       "\n",
       "[67987 rows x 2 columns]"
      ]
     },
     "execution_count": 413,
     "metadata": {},
     "output_type": "execute_result"
    }
   ],
   "source": [
    "enc_char2idx_df = pd.DataFrame([enc_char2idx.keys(), enc_char2idx.values()]).T\n",
    "enc_char2idx_df.columns = ['morph','index']\n",
    "enc_char2idx_df"
   ]
  },
  {
   "cell_type": "code",
   "execution_count": 415,
   "id": "e92d4c47",
   "metadata": {
    "ExecuteTime": {
     "end_time": "2021-06-09T08:51:16.852262Z",
     "start_time": "2021-06-09T08:51:16.743554Z"
    }
   },
   "outputs": [
    {
     "data": {
      "text/html": [
       "<div>\n",
       "<style scoped>\n",
       "    .dataframe tbody tr th:only-of-type {\n",
       "        vertical-align: middle;\n",
       "    }\n",
       "\n",
       "    .dataframe tbody tr th {\n",
       "        vertical-align: top;\n",
       "    }\n",
       "\n",
       "    .dataframe thead th {\n",
       "        text-align: right;\n",
       "    }\n",
       "</style>\n",
       "<table border=\"1\" class=\"dataframe\">\n",
       "  <thead>\n",
       "    <tr style=\"text-align: right;\">\n",
       "      <th></th>\n",
       "      <th>morph</th>\n",
       "      <th>index</th>\n",
       "      <th>count</th>\n",
       "    </tr>\n",
       "  </thead>\n",
       "  <tbody>\n",
       "    <tr>\n",
       "      <th>0</th>\n",
       "      <td>혈통</td>\n",
       "      <td>5</td>\n",
       "      <td>9.0</td>\n",
       "    </tr>\n",
       "    <tr>\n",
       "      <th>1</th>\n",
       "      <td>이호재</td>\n",
       "      <td>7</td>\n",
       "      <td>NaN</td>\n",
       "    </tr>\n",
       "    <tr>\n",
       "      <th>2</th>\n",
       "      <td>시작</td>\n",
       "      <td>8</td>\n",
       "      <td>2913.0</td>\n",
       "    </tr>\n",
       "    <tr>\n",
       "      <th>3</th>\n",
       "      <td>잠겼습니다</td>\n",
       "      <td>9</td>\n",
       "      <td>NaN</td>\n",
       "    </tr>\n",
       "    <tr>\n",
       "      <th>4</th>\n",
       "      <td>돌산</td>\n",
       "      <td>10</td>\n",
       "      <td>NaN</td>\n",
       "    </tr>\n",
       "    <tr>\n",
       "      <th>...</th>\n",
       "      <td>...</td>\n",
       "      <td>...</td>\n",
       "      <td>...</td>\n",
       "    </tr>\n",
       "    <tr>\n",
       "      <th>67978</th>\n",
       "      <td>박시영</td>\n",
       "      <td>67984</td>\n",
       "      <td>NaN</td>\n",
       "    </tr>\n",
       "    <tr>\n",
       "      <th>67979</th>\n",
       "      <td>새내기</td>\n",
       "      <td>67985</td>\n",
       "      <td>NaN</td>\n",
       "    </tr>\n",
       "    <tr>\n",
       "      <th>67980</th>\n",
       "      <td>나이트</td>\n",
       "      <td>67986</td>\n",
       "      <td>NaN</td>\n",
       "    </tr>\n",
       "    <tr>\n",
       "      <th>67981</th>\n",
       "      <td>이어졌다는</td>\n",
       "      <td>67987</td>\n",
       "      <td>NaN</td>\n",
       "    </tr>\n",
       "    <tr>\n",
       "      <th>67982</th>\n",
       "      <td>깨닫는</td>\n",
       "      <td>67988</td>\n",
       "      <td>NaN</td>\n",
       "    </tr>\n",
       "  </tbody>\n",
       "</table>\n",
       "<p>67983 rows × 3 columns</p>\n",
       "</div>"
      ],
      "text/plain": [
       "       morph  index   count\n",
       "0         혈통      5     9.0\n",
       "1        이호재      7     NaN\n",
       "2         시작      8  2913.0\n",
       "3      잠겼습니다      9     NaN\n",
       "4         돌산     10     NaN\n",
       "...      ...    ...     ...\n",
       "67978    박시영  67984     NaN\n",
       "67979    새내기  67985     NaN\n",
       "67980    나이트  67986     NaN\n",
       "67981  이어졌다는  67987     NaN\n",
       "67982    깨닫는  67988     NaN\n",
       "\n",
       "[67983 rows x 3 columns]"
      ]
     },
     "execution_count": 415,
     "metadata": {},
     "output_type": "execute_result"
    }
   ],
   "source": [
    "total = pd.merge(enc_char2idx_df, enc_morph_counts)\n",
    "total['count'] = total['count'].apply(lambda x : np.nan if x <=7 else x)"
   ]
  },
  {
   "cell_type": "code",
   "execution_count": 417,
   "id": "dcb782ae",
   "metadata": {
    "ExecuteTime": {
     "end_time": "2021-06-09T08:51:39.451239Z",
     "start_time": "2021-06-09T08:51:39.412310Z"
    }
   },
   "outputs": [
    {
     "data": {
      "text/html": [
       "<div>\n",
       "<style scoped>\n",
       "    .dataframe tbody tr th:only-of-type {\n",
       "        vertical-align: middle;\n",
       "    }\n",
       "\n",
       "    .dataframe tbody tr th {\n",
       "        vertical-align: top;\n",
       "    }\n",
       "\n",
       "    .dataframe thead th {\n",
       "        text-align: right;\n",
       "    }\n",
       "</style>\n",
       "<table border=\"1\" class=\"dataframe\">\n",
       "  <thead>\n",
       "    <tr style=\"text-align: right;\">\n",
       "      <th></th>\n",
       "      <th>morph</th>\n",
       "      <th>index</th>\n",
       "      <th>count</th>\n",
       "    </tr>\n",
       "  </thead>\n",
       "  <tbody>\n",
       "    <tr>\n",
       "      <th>0</th>\n",
       "      <td>혈통</td>\n",
       "      <td>5</td>\n",
       "      <td>9.0</td>\n",
       "    </tr>\n",
       "    <tr>\n",
       "      <th>1</th>\n",
       "      <td>시작</td>\n",
       "      <td>8</td>\n",
       "      <td>2913.0</td>\n",
       "    </tr>\n",
       "    <tr>\n",
       "      <th>2</th>\n",
       "      <td>말까지</td>\n",
       "      <td>16</td>\n",
       "      <td>18.0</td>\n",
       "    </tr>\n",
       "    <tr>\n",
       "      <th>3</th>\n",
       "      <td>모으고</td>\n",
       "      <td>17</td>\n",
       "      <td>60.0</td>\n",
       "    </tr>\n",
       "    <tr>\n",
       "      <th>4</th>\n",
       "      <td>최소한</td>\n",
       "      <td>18</td>\n",
       "      <td>61.0</td>\n",
       "    </tr>\n",
       "    <tr>\n",
       "      <th>...</th>\n",
       "      <td>...</td>\n",
       "      <td>...</td>\n",
       "      <td>...</td>\n",
       "    </tr>\n",
       "    <tr>\n",
       "      <th>18778</th>\n",
       "      <td>주한</td>\n",
       "      <td>67972</td>\n",
       "      <td>187.0</td>\n",
       "    </tr>\n",
       "    <tr>\n",
       "      <th>18779</th>\n",
       "      <td>연신</td>\n",
       "      <td>67973</td>\n",
       "      <td>13.0</td>\n",
       "    </tr>\n",
       "    <tr>\n",
       "      <th>18780</th>\n",
       "      <td>멍</td>\n",
       "      <td>67975</td>\n",
       "      <td>37.0</td>\n",
       "    </tr>\n",
       "    <tr>\n",
       "      <th>18781</th>\n",
       "      <td>44</td>\n",
       "      <td>67982</td>\n",
       "      <td>208.0</td>\n",
       "    </tr>\n",
       "    <tr>\n",
       "      <th>18782</th>\n",
       "      <td>나란히</td>\n",
       "      <td>67983</td>\n",
       "      <td>14.0</td>\n",
       "    </tr>\n",
       "  </tbody>\n",
       "</table>\n",
       "<p>18783 rows × 3 columns</p>\n",
       "</div>"
      ],
      "text/plain": [
       "      morph  index   count\n",
       "0        혈통      5     9.0\n",
       "1        시작      8  2913.0\n",
       "2       말까지     16    18.0\n",
       "3       모으고     17    60.0\n",
       "4       최소한     18    61.0\n",
       "...     ...    ...     ...\n",
       "18778    주한  67972   187.0\n",
       "18779    연신  67973    13.0\n",
       "18780     멍  67975    37.0\n",
       "18781    44  67982   208.0\n",
       "18782   나란히  67983    14.0\n",
       "\n",
       "[18783 rows x 3 columns]"
      ]
     },
     "execution_count": 417,
     "metadata": {},
     "output_type": "execute_result"
    }
   ],
   "source": [
    "total = total.dropna().reset_index(drop=True)\n",
    "total"
   ]
  },
  {
   "cell_type": "code",
   "execution_count": 424,
   "id": "3e45b8e2",
   "metadata": {
    "ExecuteTime": {
     "end_time": "2021-06-09T08:53:41.845192Z",
     "start_time": "2021-06-09T08:53:41.830204Z"
    }
   },
   "outputs": [],
   "source": [
    "total_enc = total"
   ]
  },
  {
   "cell_type": "code",
   "execution_count": 422,
   "id": "cd89de9a",
   "metadata": {
    "ExecuteTime": {
     "end_time": "2021-06-09T08:53:17.142101Z",
     "start_time": "2021-06-09T08:53:14.836641Z"
    }
   },
   "outputs": [
    {
     "data": {
      "text/html": [
       "<div>\n",
       "<style scoped>\n",
       "    .dataframe tbody tr th:only-of-type {\n",
       "        vertical-align: middle;\n",
       "    }\n",
       "\n",
       "    .dataframe tbody tr th {\n",
       "        vertical-align: top;\n",
       "    }\n",
       "\n",
       "    .dataframe thead th {\n",
       "        text-align: right;\n",
       "    }\n",
       "</style>\n",
       "<table border=\"1\" class=\"dataframe\">\n",
       "  <thead>\n",
       "    <tr style=\"text-align: right;\">\n",
       "      <th></th>\n",
       "      <th>morph</th>\n",
       "      <th>index</th>\n",
       "    </tr>\n",
       "  </thead>\n",
       "  <tbody>\n",
       "    <tr>\n",
       "      <th>0</th>\n",
       "      <td>&lt;PAD&gt;</td>\n",
       "      <td>0</td>\n",
       "    </tr>\n",
       "    <tr>\n",
       "      <th>1</th>\n",
       "      <td>&lt;SOS&gt;</td>\n",
       "      <td>1</td>\n",
       "    </tr>\n",
       "    <tr>\n",
       "      <th>2</th>\n",
       "      <td>&lt;END&gt;</td>\n",
       "      <td>2</td>\n",
       "    </tr>\n",
       "    <tr>\n",
       "      <th>3</th>\n",
       "      <td>&lt;UNK&gt;</td>\n",
       "      <td>3</td>\n",
       "    </tr>\n",
       "    <tr>\n",
       "      <th>4</th>\n",
       "      <td>심어놓고</td>\n",
       "      <td>4</td>\n",
       "    </tr>\n",
       "    <tr>\n",
       "      <th>...</th>\n",
       "      <td>...</td>\n",
       "      <td>...</td>\n",
       "    </tr>\n",
       "    <tr>\n",
       "      <th>27754</th>\n",
       "      <td>44</td>\n",
       "      <td>27754</td>\n",
       "    </tr>\n",
       "    <tr>\n",
       "      <th>27755</th>\n",
       "      <td>나란히</td>\n",
       "      <td>27755</td>\n",
       "    </tr>\n",
       "    <tr>\n",
       "      <th>27756</th>\n",
       "      <td>빼냐</td>\n",
       "      <td>27756</td>\n",
       "    </tr>\n",
       "    <tr>\n",
       "      <th>27757</th>\n",
       "      <td>새내기</td>\n",
       "      <td>27757</td>\n",
       "    </tr>\n",
       "    <tr>\n",
       "      <th>27758</th>\n",
       "      <td>나이트</td>\n",
       "      <td>27758</td>\n",
       "    </tr>\n",
       "  </tbody>\n",
       "</table>\n",
       "<p>27759 rows × 2 columns</p>\n",
       "</div>"
      ],
      "text/plain": [
       "       morph  index\n",
       "0      <PAD>      0\n",
       "1      <SOS>      1\n",
       "2      <END>      2\n",
       "3      <UNK>      3\n",
       "4       심어놓고      4\n",
       "...      ...    ...\n",
       "27754     44  27754\n",
       "27755    나란히  27755\n",
       "27756     빼냐  27756\n",
       "27757    새내기  27757\n",
       "27758    나이트  27758\n",
       "\n",
       "[27759 rows x 2 columns]"
      ]
     },
     "execution_count": 422,
     "metadata": {},
     "output_type": "execute_result"
    }
   ],
   "source": [
    "dec_char2idx_df = pd.DataFrame([dec_char2idx.keys(), dec_char2idx.values()]).T\n",
    "dec_char2idx_df.columns = ['morph','index']\n",
    "dec_char2idx_df"
   ]
  },
  {
   "cell_type": "code",
   "execution_count": 423,
   "id": "652f278e",
   "metadata": {
    "ExecuteTime": {
     "end_time": "2021-06-09T08:53:28.044376Z",
     "start_time": "2021-06-09T08:53:27.969519Z"
    }
   },
   "outputs": [
    {
     "data": {
      "text/html": [
       "<div>\n",
       "<style scoped>\n",
       "    .dataframe tbody tr th:only-of-type {\n",
       "        vertical-align: middle;\n",
       "    }\n",
       "\n",
       "    .dataframe tbody tr th {\n",
       "        vertical-align: top;\n",
       "    }\n",
       "\n",
       "    .dataframe thead th {\n",
       "        text-align: right;\n",
       "    }\n",
       "</style>\n",
       "<table border=\"1\" class=\"dataframe\">\n",
       "  <thead>\n",
       "    <tr style=\"text-align: right;\">\n",
       "      <th></th>\n",
       "      <th>morph</th>\n",
       "      <th>index</th>\n",
       "      <th>count</th>\n",
       "    </tr>\n",
       "  </thead>\n",
       "  <tbody>\n",
       "    <tr>\n",
       "      <th>0</th>\n",
       "      <td>더딘</td>\n",
       "      <td>5</td>\n",
       "      <td>6.0</td>\n",
       "    </tr>\n",
       "    <tr>\n",
       "      <th>1</th>\n",
       "      <td>시작</td>\n",
       "      <td>6</td>\n",
       "      <td>375.0</td>\n",
       "    </tr>\n",
       "    <tr>\n",
       "      <th>2</th>\n",
       "      <td>트롤</td>\n",
       "      <td>12</td>\n",
       "      <td>7.0</td>\n",
       "    </tr>\n",
       "    <tr>\n",
       "      <th>3</th>\n",
       "      <td>뒤</td>\n",
       "      <td>20</td>\n",
       "      <td>312.0</td>\n",
       "    </tr>\n",
       "    <tr>\n",
       "      <th>4</th>\n",
       "      <td>조영남</td>\n",
       "      <td>24</td>\n",
       "      <td>9.0</td>\n",
       "    </tr>\n",
       "    <tr>\n",
       "      <th>...</th>\n",
       "      <td>...</td>\n",
       "      <td>...</td>\n",
       "      <td>...</td>\n",
       "    </tr>\n",
       "    <tr>\n",
       "      <th>8296</th>\n",
       "      <td>문학상</td>\n",
       "      <td>27746</td>\n",
       "      <td>7.0</td>\n",
       "    </tr>\n",
       "    <tr>\n",
       "      <th>8297</th>\n",
       "      <td>주한</td>\n",
       "      <td>27748</td>\n",
       "      <td>25.0</td>\n",
       "    </tr>\n",
       "    <tr>\n",
       "      <th>8298</th>\n",
       "      <td>멍</td>\n",
       "      <td>27750</td>\n",
       "      <td>24.0</td>\n",
       "    </tr>\n",
       "    <tr>\n",
       "      <th>8299</th>\n",
       "      <td>44</td>\n",
       "      <td>27754</td>\n",
       "      <td>36.0</td>\n",
       "    </tr>\n",
       "    <tr>\n",
       "      <th>8300</th>\n",
       "      <td>나이트</td>\n",
       "      <td>27758</td>\n",
       "      <td>16.0</td>\n",
       "    </tr>\n",
       "  </tbody>\n",
       "</table>\n",
       "<p>8301 rows × 3 columns</p>\n",
       "</div>"
      ],
      "text/plain": [
       "     morph  index  count\n",
       "0       더딘      5    6.0\n",
       "1       시작      6  375.0\n",
       "2       트롤     12    7.0\n",
       "3        뒤     20  312.0\n",
       "4      조영남     24    9.0\n",
       "...    ...    ...    ...\n",
       "8296   문학상  27746    7.0\n",
       "8297    주한  27748   25.0\n",
       "8298     멍  27750   24.0\n",
       "8299    44  27754   36.0\n",
       "8300   나이트  27758   16.0\n",
       "\n",
       "[8301 rows x 3 columns]"
      ]
     },
     "execution_count": 423,
     "metadata": {},
     "output_type": "execute_result"
    }
   ],
   "source": [
    "total_dec = pd.merge(dec_char2idx_df, dec_morph_counts)\n",
    "total_dec['count'] = total_dec['count'].apply(lambda x : np.nan if x <=5 else x)\n",
    "total_dec = total_dec.dropna().reset_index(drop=True)\n",
    "total_dec"
   ]
  },
  {
   "cell_type": "code",
   "execution_count": 481,
   "id": "8d995f89",
   "metadata": {
    "ExecuteTime": {
     "end_time": "2021-06-09T09:49:44.774987Z",
     "start_time": "2021-06-09T09:49:44.759971Z"
    }
   },
   "outputs": [
    {
     "data": {
      "text/html": [
       "<div>\n",
       "<style scoped>\n",
       "    .dataframe tbody tr th:only-of-type {\n",
       "        vertical-align: middle;\n",
       "    }\n",
       "\n",
       "    .dataframe tbody tr th {\n",
       "        vertical-align: top;\n",
       "    }\n",
       "\n",
       "    .dataframe thead th {\n",
       "        text-align: right;\n",
       "    }\n",
       "</style>\n",
       "<table border=\"1\" class=\"dataframe\">\n",
       "  <thead>\n",
       "    <tr style=\"text-align: right;\">\n",
       "      <th></th>\n",
       "      <th>morph</th>\n",
       "      <th>index</th>\n",
       "      <th>count</th>\n",
       "    </tr>\n",
       "  </thead>\n",
       "  <tbody>\n",
       "    <tr>\n",
       "      <th>0</th>\n",
       "      <td>혈통</td>\n",
       "      <td>5</td>\n",
       "      <td>9.0</td>\n",
       "    </tr>\n",
       "    <tr>\n",
       "      <th>1</th>\n",
       "      <td>시작</td>\n",
       "      <td>8</td>\n",
       "      <td>2913.0</td>\n",
       "    </tr>\n",
       "    <tr>\n",
       "      <th>2</th>\n",
       "      <td>말까지</td>\n",
       "      <td>16</td>\n",
       "      <td>18.0</td>\n",
       "    </tr>\n",
       "    <tr>\n",
       "      <th>3</th>\n",
       "      <td>모으고</td>\n",
       "      <td>17</td>\n",
       "      <td>60.0</td>\n",
       "    </tr>\n",
       "    <tr>\n",
       "      <th>4</th>\n",
       "      <td>최소한</td>\n",
       "      <td>18</td>\n",
       "      <td>61.0</td>\n",
       "    </tr>\n",
       "    <tr>\n",
       "      <th>...</th>\n",
       "      <td>...</td>\n",
       "      <td>...</td>\n",
       "      <td>...</td>\n",
       "    </tr>\n",
       "    <tr>\n",
       "      <th>18778</th>\n",
       "      <td>주한</td>\n",
       "      <td>67972</td>\n",
       "      <td>187.0</td>\n",
       "    </tr>\n",
       "    <tr>\n",
       "      <th>18779</th>\n",
       "      <td>연신</td>\n",
       "      <td>67973</td>\n",
       "      <td>13.0</td>\n",
       "    </tr>\n",
       "    <tr>\n",
       "      <th>18780</th>\n",
       "      <td>멍</td>\n",
       "      <td>67975</td>\n",
       "      <td>37.0</td>\n",
       "    </tr>\n",
       "    <tr>\n",
       "      <th>18781</th>\n",
       "      <td>44</td>\n",
       "      <td>67982</td>\n",
       "      <td>208.0</td>\n",
       "    </tr>\n",
       "    <tr>\n",
       "      <th>18782</th>\n",
       "      <td>나란히</td>\n",
       "      <td>67983</td>\n",
       "      <td>14.0</td>\n",
       "    </tr>\n",
       "  </tbody>\n",
       "</table>\n",
       "<p>18783 rows × 3 columns</p>\n",
       "</div>"
      ],
      "text/plain": [
       "      morph  index   count\n",
       "0        혈통      5     9.0\n",
       "1        시작      8  2913.0\n",
       "2       말까지     16    18.0\n",
       "3       모으고     17    60.0\n",
       "4       최소한     18    61.0\n",
       "...     ...    ...     ...\n",
       "18778    주한  67972   187.0\n",
       "18779    연신  67973    13.0\n",
       "18780     멍  67975    37.0\n",
       "18781    44  67982   208.0\n",
       "18782   나란히  67983    14.0\n",
       "\n",
       "[18783 rows x 3 columns]"
      ]
     },
     "execution_count": 481,
     "metadata": {},
     "output_type": "execute_result"
    }
   ],
   "source": [
    "total_enc"
   ]
  },
  {
   "cell_type": "code",
   "execution_count": 518,
   "id": "634cc8ec",
   "metadata": {
    "ExecuteTime": {
     "end_time": "2021-06-09T10:14:13.841005Z",
     "start_time": "2021-06-09T10:14:13.824051Z"
    }
   },
   "outputs": [],
   "source": [
    "total_enc['index'] = list(range(4, 18787))"
   ]
  },
  {
   "cell_type": "code",
   "execution_count": 536,
   "id": "f1d0eb38",
   "metadata": {
    "ExecuteTime": {
     "end_time": "2021-06-09T10:21:07.931305Z",
     "start_time": "2021-06-09T10:21:07.908401Z"
    }
   },
   "outputs": [],
   "source": [
    "total_enc['index'] = total_enc['index'].astype(str)"
   ]
  },
  {
   "cell_type": "code",
   "execution_count": 537,
   "id": "4e5c5287",
   "metadata": {
    "ExecuteTime": {
     "end_time": "2021-06-09T10:21:49.526169Z",
     "start_time": "2021-06-09T10:21:12.657351Z"
    }
   },
   "outputs": [],
   "source": [
    "enc_char2idx = {}\n",
    "for morph in total_enc.morph:\n",
    "    enc_char2idx[morph] = total_enc['index'].loc[total_enc['morph']==morph].values[0]"
   ]
  },
  {
   "cell_type": "code",
   "execution_count": 538,
   "id": "8533b7c5",
   "metadata": {
    "ExecuteTime": {
     "end_time": "2021-06-09T10:21:52.492065Z",
     "start_time": "2021-06-09T10:21:52.478105Z"
    }
   },
   "outputs": [
    {
     "data": {
      "text/plain": [
       "18783"
      ]
     },
     "execution_count": 538,
     "metadata": {},
     "output_type": "execute_result"
    }
   ],
   "source": [
    "len(enc_char2idx)"
   ]
  },
  {
   "cell_type": "code",
   "execution_count": 539,
   "id": "af40348e",
   "metadata": {
    "ExecuteTime": {
     "end_time": "2021-06-09T10:22:23.967136Z",
     "start_time": "2021-06-09T10:21:55.574420Z"
    }
   },
   "outputs": [],
   "source": [
    "enc_idx2char = {}\n",
    "for idx in total_enc['index']:\n",
    "    enc_idx2char[idx] = total_enc['morph'].loc[total_enc['index']==idx].values[0]"
   ]
  },
  {
   "cell_type": "code",
   "execution_count": 444,
   "id": "18ca3b81",
   "metadata": {
    "ExecuteTime": {
     "end_time": "2021-06-09T09:01:09.829049Z",
     "start_time": "2021-06-09T09:01:09.825058Z"
    }
   },
   "outputs": [],
   "source": [
    "enc_vocab_size = len(enc_char2idx)"
   ]
  },
  {
   "cell_type": "code",
   "execution_count": 490,
   "id": "73594eba",
   "metadata": {
    "ExecuteTime": {
     "end_time": "2021-06-09T09:51:50.989800Z",
     "start_time": "2021-06-09T09:51:50.967067Z"
    }
   },
   "outputs": [
    {
     "data": {
      "text/html": [
       "<div>\n",
       "<style scoped>\n",
       "    .dataframe tbody tr th:only-of-type {\n",
       "        vertical-align: middle;\n",
       "    }\n",
       "\n",
       "    .dataframe tbody tr th {\n",
       "        vertical-align: top;\n",
       "    }\n",
       "\n",
       "    .dataframe thead th {\n",
       "        text-align: right;\n",
       "    }\n",
       "</style>\n",
       "<table border=\"1\" class=\"dataframe\">\n",
       "  <thead>\n",
       "    <tr style=\"text-align: right;\">\n",
       "      <th></th>\n",
       "      <th>morph</th>\n",
       "      <th>index</th>\n",
       "      <th>count</th>\n",
       "    </tr>\n",
       "  </thead>\n",
       "  <tbody>\n",
       "    <tr>\n",
       "      <th>0</th>\n",
       "      <td>더딘</td>\n",
       "      <td>5</td>\n",
       "      <td>6.0</td>\n",
       "    </tr>\n",
       "    <tr>\n",
       "      <th>1</th>\n",
       "      <td>시작</td>\n",
       "      <td>6</td>\n",
       "      <td>375.0</td>\n",
       "    </tr>\n",
       "    <tr>\n",
       "      <th>2</th>\n",
       "      <td>트롤</td>\n",
       "      <td>12</td>\n",
       "      <td>7.0</td>\n",
       "    </tr>\n",
       "    <tr>\n",
       "      <th>3</th>\n",
       "      <td>뒤</td>\n",
       "      <td>20</td>\n",
       "      <td>312.0</td>\n",
       "    </tr>\n",
       "    <tr>\n",
       "      <th>4</th>\n",
       "      <td>조영남</td>\n",
       "      <td>24</td>\n",
       "      <td>9.0</td>\n",
       "    </tr>\n",
       "    <tr>\n",
       "      <th>...</th>\n",
       "      <td>...</td>\n",
       "      <td>...</td>\n",
       "      <td>...</td>\n",
       "    </tr>\n",
       "    <tr>\n",
       "      <th>8296</th>\n",
       "      <td>문학상</td>\n",
       "      <td>27746</td>\n",
       "      <td>7.0</td>\n",
       "    </tr>\n",
       "    <tr>\n",
       "      <th>8297</th>\n",
       "      <td>주한</td>\n",
       "      <td>27748</td>\n",
       "      <td>25.0</td>\n",
       "    </tr>\n",
       "    <tr>\n",
       "      <th>8298</th>\n",
       "      <td>멍</td>\n",
       "      <td>27750</td>\n",
       "      <td>24.0</td>\n",
       "    </tr>\n",
       "    <tr>\n",
       "      <th>8299</th>\n",
       "      <td>44</td>\n",
       "      <td>27754</td>\n",
       "      <td>36.0</td>\n",
       "    </tr>\n",
       "    <tr>\n",
       "      <th>8300</th>\n",
       "      <td>나이트</td>\n",
       "      <td>27758</td>\n",
       "      <td>16.0</td>\n",
       "    </tr>\n",
       "  </tbody>\n",
       "</table>\n",
       "<p>8301 rows × 3 columns</p>\n",
       "</div>"
      ],
      "text/plain": [
       "     morph  index  count\n",
       "0       더딘      5    6.0\n",
       "1       시작      6  375.0\n",
       "2       트롤     12    7.0\n",
       "3        뒤     20  312.0\n",
       "4      조영남     24    9.0\n",
       "...    ...    ...    ...\n",
       "8296   문학상  27746    7.0\n",
       "8297    주한  27748   25.0\n",
       "8298     멍  27750   24.0\n",
       "8299    44  27754   36.0\n",
       "8300   나이트  27758   16.0\n",
       "\n",
       "[8301 rows x 3 columns]"
      ]
     },
     "execution_count": 490,
     "metadata": {},
     "output_type": "execute_result"
    }
   ],
   "source": [
    "total_dec"
   ]
  },
  {
   "cell_type": "code",
   "execution_count": 540,
   "id": "7e8786d4",
   "metadata": {
    "ExecuteTime": {
     "end_time": "2021-06-09T10:22:26.752856Z",
     "start_time": "2021-06-09T10:22:26.737891Z"
    }
   },
   "outputs": [],
   "source": [
    "total_dec['index'] = list(range(4, 8305))\n",
    "total_dec['index'] = total_dec['index'].astype(str)"
   ]
  },
  {
   "cell_type": "code",
   "execution_count": 541,
   "id": "be807aeb",
   "metadata": {
    "ExecuteTime": {
     "end_time": "2021-06-09T10:22:37.189933Z",
     "start_time": "2021-06-09T10:22:29.558488Z"
    }
   },
   "outputs": [],
   "source": [
    "dec_char2idx = {}\n",
    "for morph in total_dec.morph:\n",
    "    dec_char2idx[morph] = total_dec['index'].loc[total_dec['morph']==morph].values[0]"
   ]
  },
  {
   "cell_type": "code",
   "execution_count": 542,
   "id": "2821bfe9",
   "metadata": {
    "ExecuteTime": {
     "end_time": "2021-06-09T10:22:46.129760Z",
     "start_time": "2021-06-09T10:22:39.907423Z"
    }
   },
   "outputs": [],
   "source": [
    "dec_idx2char = {}\n",
    "for idx in total_dec['index']:\n",
    "    dec_idx2char[idx] = total_dec['morph'].loc[total_dec['index']==idx].values[0]"
   ]
  },
  {
   "cell_type": "code",
   "execution_count": 448,
   "id": "2676f926",
   "metadata": {
    "ExecuteTime": {
     "end_time": "2021-06-09T09:02:04.511387Z",
     "start_time": "2021-06-09T09:02:04.503406Z"
    }
   },
   "outputs": [],
   "source": [
    "dec_vocab_size = len(dec_char2idx)"
   ]
  },
  {
   "cell_type": "code",
   "execution_count": 453,
   "id": "774f66ad",
   "metadata": {
    "ExecuteTime": {
     "end_time": "2021-06-09T09:17:29.500833Z",
     "start_time": "2021-06-09T09:17:29.482882Z"
    }
   },
   "outputs": [
    {
     "data": {
      "text/plain": [
       "['<PAD>', '<SOS>', '<END>', '<UNK>']"
      ]
     },
     "execution_count": 453,
     "metadata": {},
     "output_type": "execute_result"
    }
   ],
   "source": [
    "MARKER"
   ]
  },
  {
   "cell_type": "code",
   "execution_count": 543,
   "id": "db9ada4f",
   "metadata": {
    "ExecuteTime": {
     "end_time": "2021-06-09T10:22:48.978545Z",
     "start_time": "2021-06-09T10:22:48.964555Z"
    }
   },
   "outputs": [],
   "source": [
    "enc_char2idx['<PAD>'] = 0\n",
    "enc_char2idx['<SOS>'] = 1\n",
    "enc_char2idx['<END>'] = 2\n",
    "enc_char2idx['<UNK>'] = 3\n",
    "\n",
    "dec_char2idx['<PAD>'] = 0\n",
    "dec_char2idx['<SOS>'] = 1\n",
    "dec_char2idx['<END>'] = 2\n",
    "dec_char2idx['<UNK>'] = 3\n",
    "\n",
    "enc_idx2char[0] = '<PAD>'\n",
    "enc_idx2char[1] = '<SOS>'\n",
    "enc_idx2char[2] = '<END>'\n",
    "enc_idx2char[3] = '<UNK>'\n",
    "\n",
    "dec_idx2char[0] = '<PAD>'\n",
    "dec_idx2char[1] = '<SOS>'\n",
    "dec_idx2char[2] = '<END>'\n",
    "dec_idx2char[3] = '<UNK>'"
   ]
  },
  {
   "cell_type": "code",
   "execution_count": 474,
   "id": "3a23e1c6",
   "metadata": {
    "ExecuteTime": {
     "end_time": "2021-06-09T09:36:30.505423Z",
     "start_time": "2021-06-09T09:35:43.192526Z"
    }
   },
   "outputs": [],
   "source": [
    "enc_freq = {}\n",
    "for morph in total_enc.morph:\n",
    "    enc_freq[morph] = total_enc['count'].loc[total_enc['morph']==morph].values[0]\n",
    "    \n",
    "dec_freq = {}\n",
    "for morph in total_dec.morph:\n",
    "    dec_freq[morph] = total_dec['count'].loc[total_dec['morph']==morph].values[0]    "
   ]
  },
  {
   "cell_type": "code",
   "execution_count": 555,
   "id": "bb0951d1",
   "metadata": {
    "ExecuteTime": {
     "end_time": "2021-06-09T10:43:19.805309Z",
     "start_time": "2021-06-09T10:43:19.794342Z"
    }
   },
   "outputs": [],
   "source": [
    "enc_vocab_size = len(enc_char2idx)\n",
    "dec_vocab_size = len(dec_char2idx)"
   ]
  },
  {
   "cell_type": "code",
   "execution_count": 556,
   "id": "549ed9ed",
   "metadata": {
    "ExecuteTime": {
     "end_time": "2021-06-09T10:43:25.205111Z",
     "start_time": "2021-06-09T10:43:25.184166Z"
    }
   },
   "outputs": [
    {
     "data": {
      "text/plain": [
       "18787"
      ]
     },
     "execution_count": 556,
     "metadata": {},
     "output_type": "execute_result"
    }
   ],
   "source": [
    "enc_vocab_size"
   ]
  },
  {
   "cell_type": "markdown",
   "id": "43bb9861",
   "metadata": {},
   "source": [
    "------------------------------"
   ]
  },
  {
   "cell_type": "code",
   "execution_count": 546,
   "id": "6c0768dd",
   "metadata": {
    "ExecuteTime": {
     "end_time": "2021-06-09T10:24:29.411480Z",
     "start_time": "2021-06-09T10:24:29.402506Z"
    }
   },
   "outputs": [],
   "source": [
    "def enc_processing(value, dictionary, tokenize_as_morph=False, method='Okt'):\n",
    "    # 인덱스 값들을 가지고 있는\n",
    "    # 배열이다.(누적된다.)\n",
    "    sequences_input_index = []\n",
    "    # 하나의 인코딩 되는 문장의\n",
    "    # 길이를 가지고 있다.(누적된다.)\n",
    "    sequences_length = []\n",
    "    # 형태소 토크나이징 사용 유무\n",
    "    if tokenize_as_morph:\n",
    "        print(method)\n",
    "        value = prepro_like_morphlized(value,method=method, stopwords=True)\n",
    "\n",
    "    # 한줄씩 불어온다.\n",
    "    for sequence in value:\n",
    "        # FILTERS = \"([~.,!?\\\"':;)(])\"\n",
    "        # 정규화를 사용하여 필터에 들어 있는\n",
    "        # 값들을 \"\" 으로 치환 한다.\n",
    "        sequence = re.sub(CHANGE_FILTER, \"\", sequence)\n",
    "        # 하나의 문장을 인코딩 할때\n",
    "        # 가지고 있기 위한 배열이다.\n",
    "        sequence_index = []\n",
    "        # 문장을 스페이스 단위로\n",
    "        # 자르고 있다.\n",
    "        for word in sequence.split():\n",
    "            # 잘려진 단어들이 딕셔너리에 존재 하는지 보고\n",
    "            # 그 값을 가져와 sequence_index에 추가한다.\n",
    "            if dictionary.get(word) is not None:\n",
    "                sequence_index.extend([dictionary[word]])\n",
    "            # 잘려진 단어가 딕셔너리에 존재 하지 않는\n",
    "            # 경우 이므로 UNK(2)를 넣어 준다.\n",
    "            else:\n",
    "                sequence_index.extend([dictionary[UNK]])\n",
    "        # 문장 제한 길이보다 길어질 경우 뒤에 토큰을 자르고 있다.\n",
    "        if len(sequence_index) > ENC_MAX_SEQUENCE:\n",
    "            sequence_index = sequence_index[:ENC_MAX_SEQUENCE]\n",
    "        # 하나의 문장에 길이를 넣어주고 있다.\n",
    "        sequences_length.append(len(sequence_index))\n",
    "        # max_sequence_length보다 문장 길이가\n",
    "        # 작다면 빈 부분에 PAD(0)를 넣어준다.\n",
    "        sequence_index += (ENC_MAX_SEQUENCE - len(sequence_index)) * [dictionary[PAD]]\n",
    "        # 인덱스화 되어 있는 값을\n",
    "        # sequences_input_index에 넣어 준다.\n",
    "        sequences_input_index.append(sequence_index)\n",
    "    # 인덱스화된 일반 배열을 넘파이 배열로 변경한다.\n",
    "    # 이유는 텐서플로우 dataset에 넣어 주기 위한\n",
    "    # 사전 작업이다.\n",
    "    # 넘파이 배열에 인덱스화된 배열과\n",
    "    # 그 길이를 넘겨준다.\n",
    "    return np.asarray(sequences_input_index), sequences_length"
   ]
  },
  {
   "cell_type": "code",
   "execution_count": 547,
   "id": "e47d9c0d",
   "metadata": {
    "ExecuteTime": {
     "end_time": "2021-06-09T10:35:36.921829Z",
     "start_time": "2021-06-09T10:24:33.411541Z"
    }
   },
   "outputs": [
    {
     "name": "stderr",
     "output_type": "stream",
     "text": [
      "  0%|          | 8/46023 [00:00<09:58, 76.94it/s]"
     ]
    },
    {
     "name": "stdout",
     "output_type": "stream",
     "text": [
      "Okt\n"
     ]
    },
    {
     "name": "stderr",
     "output_type": "stream",
     "text": [
      "100%|██████████| 46023/46023 [11:00<00:00, 69.70it/s] \n"
     ]
    }
   ],
   "source": [
    "index_inputs, input_seq_len = enc_processing(inputs, enc_char2idx, tokenize_as_morph=True)"
   ]
  },
  {
   "cell_type": "markdown",
   "id": "f4e5b4fc",
   "metadata": {},
   "source": [
    "input_seq_len 은 패딩 처리하기 전의 각 문장의 실제 길이"
   ]
  },
  {
   "cell_type": "code",
   "execution_count": 498,
   "id": "59ff2a70",
   "metadata": {
    "ExecuteTime": {
     "end_time": "2021-06-09T10:04:52.580193Z",
     "start_time": "2021-06-09T10:04:52.566229Z"
    }
   },
   "outputs": [
    {
     "data": {
      "text/plain": [
       "(130, 130, 93)"
      ]
     },
     "execution_count": 498,
     "metadata": {},
     "output_type": "execute_result"
    }
   ],
   "source": [
    "max(input_seq_len), len(index_inputs[100]), input_seq_len[100]"
   ]
  },
  {
   "cell_type": "code",
   "execution_count": 548,
   "id": "d8c31857",
   "metadata": {
    "ExecuteTime": {
     "end_time": "2021-06-09T10:35:40.360009Z",
     "start_time": "2021-06-09T10:35:40.347040Z"
    }
   },
   "outputs": [],
   "source": [
    "def dec_output_processing(value, dictionary, tokenize_as_morph=False,method='Okt'):\n",
    "    # 인덱스 값들을 가지고 있는\n",
    "    # 배열이다.(누적된다)\n",
    "    sequences_output_index = []\n",
    "    # 하나의 디코딩 입력 되는 문장의\n",
    "    # 길이를 가지고 있다.(누적된다)\n",
    "    sequences_length = []\n",
    "    # 형태소 토크나이징 사용 유무\n",
    "    if tokenize_as_morph:\n",
    "        print(method)\n",
    "        value = prepro_like_morphlized(value,method=method)\n",
    "    # 한줄씩 불어온다.\n",
    "    for sequence in value:\n",
    "        # FILTERS = \"([~.,!?\\\"':;)(])\"\n",
    "        # 정규화를 사용하여 필터에 들어 있는\n",
    "        # 값들을 \"\" 으로 치환 한다.\n",
    "        sequence = re.sub(CHANGE_FILTER, \"\", sequence)\n",
    "        # 하나의 문장을 디코딩 할때 가지고\n",
    "        # 있기 위한 배열이다.\n",
    "        sequence_index = []\n",
    "        # 디코딩 입력의 처음에는 START가 와야 하므로\n",
    "        # 그 값을 넣어 주고 시작한다.\n",
    "        # 문장에서 스페이스 단위별로 단어를 가져와서 딕셔너리의\n",
    "        # 값인 인덱스를 넣어 준다.\n",
    "        sequence_index = [dictionary[STD]] + [dictionary[word] if word in dictionary else dictionary[UNK] for word in sequence.split()]\n",
    "        # 문장 제한 길이보다 길어질 경우 뒤에 토큰을 자르고 있다.\n",
    "        if len(sequence_index) > DEC_MAX_SEQUENCE:\n",
    "            sequence_index = sequence_index[:DEC_MAX_SEQUENCE]\n",
    "        # 하나의 문장에 길이를 넣어주고 있다.\n",
    "        sequences_length.append(len(sequence_index))\n",
    "        # max_sequence_length보다 문장 길이가\n",
    "        # 작다면 빈 부분에 PAD(0)를 넣어준다.\n",
    "        sequence_index += (DEC_MAX_SEQUENCE - len(sequence_index)) * [dictionary[PAD]]\n",
    "        # 인덱스화 되어 있는 값을\n",
    "        # sequences_output_index 넣어 준다.\n",
    "        sequences_output_index.append(sequence_index)\n",
    "    # 인덱스화된 일반 배열을 넘파이 배열로 변경한다.\n",
    "    # 이유는 텐서플로우 dataset에 넣어 주기 위한\n",
    "    # 사전 작업이다.\n",
    "    # 넘파이 배열에 인덱스화된 배열과 그 길이를 넘겨준다.\n",
    "    return np.asarray(sequences_output_index), sequences_length"
   ]
  },
  {
   "cell_type": "code",
   "execution_count": 549,
   "id": "6cdf0e3d",
   "metadata": {
    "ExecuteTime": {
     "end_time": "2021-06-09T10:36:52.705422Z",
     "start_time": "2021-06-09T10:35:43.299905Z"
    }
   },
   "outputs": [
    {
     "name": "stderr",
     "output_type": "stream",
     "text": [
      "  0%|          | 90/46023 [00:00<00:51, 897.34it/s]"
     ]
    },
    {
     "name": "stdout",
     "output_type": "stream",
     "text": [
      "Okt\n"
     ]
    },
    {
     "name": "stderr",
     "output_type": "stream",
     "text": [
      "100%|██████████| 46023/46023 [01:08<00:00, 667.63it/s]\n"
     ]
    }
   ],
   "source": [
    "index_outputs, output_seq_len = dec_output_processing(outputs, dec_char2idx, tokenize_as_morph=True)"
   ]
  },
  {
   "cell_type": "code",
   "execution_count": 550,
   "id": "f4e302b8",
   "metadata": {
    "ExecuteTime": {
     "end_time": "2021-06-09T10:36:55.890271Z",
     "start_time": "2021-06-09T10:36:55.611339Z"
    }
   },
   "outputs": [],
   "source": [
    "def dec_target_processing(value, dictionary, tokenize_as_morph=False,method='Okt'):\n",
    "    # 인덱스 값들을 가지고 있는\n",
    "    # 배열이다.(누적된다)\n",
    "    sequences_target_index = []\n",
    "    # 형태소 토크나이징 사용 유무\n",
    "    if tokenize_as_morph:\n",
    "        print(method)\n",
    "        value = prepro_like_morphlized(value, method=method)\n",
    "    # 한줄씩 불어온다.\n",
    "    for sequence in value:\n",
    "        # FILTERS = \"([~.,!?\\\"':;)(])\"\n",
    "        # 정규화를 사용하여 필터에 들어 있는\n",
    "        # 값들을 \"\" 으로 치환 한다.\n",
    "        sequence = re.sub(CHANGE_FILTER, \"\", sequence)\n",
    "        # 문장에서 스페이스 단위별로 단어를 가져와서\n",
    "        # 딕셔너리의 값인 인덱스를 넣어 준다.\n",
    "        # 디코딩 출력의 마지막에 END를 넣어 준다.\n",
    "        sequence_index = [dictionary[word] if word in dictionary else dictionary[UNK] for word in sequence.split()]\n",
    "        # 문장 제한 길이보다 길어질 경우 뒤에 토큰을 자르고 있다.\n",
    "        # 그리고 END 토큰을 넣어 준다\n",
    "        if len(sequence_index) >= DEC_MAX_SEQUENCE:\n",
    "            sequence_index = sequence_index[:DEC_MAX_SEQUENCE - 1] + [dictionary[END]]\n",
    "        else:\n",
    "            sequence_index += [dictionary[END]]\n",
    "        # max_sequence_length보다 문장 길이가\n",
    "        # 작다면 빈 부분에 PAD(0)를 넣어준다.\n",
    "        sequence_index += (DEC_MAX_SEQUENCE - len(sequence_index)) * [dictionary[PAD]]\n",
    "        # 인덱스화 되어 있는 값을\n",
    "        # sequences_target_index에 넣어 준다.\n",
    "        sequences_target_index.append(sequence_index)\n",
    "    # 인덱스화된 일반 배열을 넘파이 배열로 변경한다.\n",
    "    # 이유는 텐서플로우 dataset에 넣어 주기 위한 사전 작업이다.\n",
    "    # 넘파이 배열에 인덱스화된 배열과 그 길이를 넘겨준다.\n",
    "    return np.asarray(sequences_target_index)"
   ]
  },
  {
   "cell_type": "code",
   "execution_count": 551,
   "id": "85358311",
   "metadata": {
    "ExecuteTime": {
     "end_time": "2021-06-09T10:38:12.707991Z",
     "start_time": "2021-06-09T10:36:58.761982Z"
    }
   },
   "outputs": [
    {
     "name": "stderr",
     "output_type": "stream",
     "text": [
      "  0%|          | 81/46023 [00:00<00:57, 803.92it/s]"
     ]
    },
    {
     "name": "stdout",
     "output_type": "stream",
     "text": [
      "Okt\n"
     ]
    },
    {
     "name": "stderr",
     "output_type": "stream",
     "text": [
      "100%|██████████| 46023/46023 [01:13<00:00, 626.35it/s]\n"
     ]
    }
   ],
   "source": [
    "index_targets = dec_target_processing(outputs, dec_char2idx, tokenize_as_morph=True)"
   ]
  },
  {
   "cell_type": "code",
   "execution_count": 554,
   "id": "f38bdcbb",
   "metadata": {
    "ExecuteTime": {
     "end_time": "2021-06-09T10:42:45.099482Z",
     "start_time": "2021-06-09T10:42:45.087488Z"
    }
   },
   "outputs": [
    {
     "data": {
      "text/plain": [
       "18783"
      ]
     },
     "execution_count": 554,
     "metadata": {},
     "output_type": "execute_result"
    }
   ],
   "source": [
    "enc_vocab_size"
   ]
  },
  {
   "cell_type": "code",
   "execution_count": 557,
   "id": "3e05b2bd",
   "metadata": {
    "ExecuteTime": {
     "end_time": "2021-06-09T10:43:31.117110Z",
     "start_time": "2021-06-09T10:43:30.879388Z"
    }
   },
   "outputs": [],
   "source": [
    "data_configs = {}\n",
    "data_configs['enc_char2idx'] = enc_char2idx\n",
    "data_configs['enc_idx2char'] = enc_idx2char\n",
    "\n",
    "data_configs['dec_char2idx'] = dec_char2idx\n",
    "data_configs['dec_idx2char'] = dec_idx2char\n",
    "\n",
    "data_configs['enc_vocab_size'] = enc_vocab_size\n",
    "data_configs['dec_vocab_size'] = dec_vocab_size\n",
    "\n",
    "data_configs['enc_freq'] = enc_freq\n",
    "data_configs['dec_freq'] = dec_freq\n",
    "\n",
    "data_configs['pad_symbol'] = PAD\n",
    "data_configs['std_symbol'] = STD\n",
    "data_configs['end_symbol'] = END\n",
    "data_configs['unk_symbol'] = UNK\n",
    "\n",
    "DATA_IN_PATH = './data_in/'\n",
    "TRAIN_INPUTS = 'train_inputs.npy'\n",
    "TRAIN_OUTPUTS = 'train_outputs.npy'\n",
    "TRAIN_TARGETS = 'train_targets.npy'\n",
    "DATA_CONFIGS = 'data_configs.json'\n",
    "\n",
    "np.save(open(DATA_IN_PATH + TRAIN_INPUTS, 'wb'), index_inputs)\n",
    "np.save(open(DATA_IN_PATH + TRAIN_OUTPUTS , 'wb'), index_outputs)\n",
    "np.save(open(DATA_IN_PATH + TRAIN_TARGETS , 'wb'), index_targets)"
   ]
  },
  {
   "cell_type": "code",
   "execution_count": 558,
   "id": "5387823f",
   "metadata": {
    "ExecuteTime": {
     "end_time": "2021-06-09T10:43:35.112476Z",
     "start_time": "2021-06-09T10:43:34.864855Z"
    }
   },
   "outputs": [],
   "source": [
    "json.dump(data_configs, open(DATA_IN_PATH + DATA_CONFIGS, 'w'))"
   ]
  },
  {
   "cell_type": "code",
   "execution_count": null,
   "id": "f41ab369",
   "metadata": {},
   "outputs": [],
   "source": []
  }
 ],
 "metadata": {
  "hide_input": false,
  "kernelspec": {
   "display_name": "Python 3",
   "language": "python",
   "name": "python3"
  },
  "language_info": {
   "codemirror_mode": {
    "name": "ipython",
    "version": 3
   },
   "file_extension": ".py",
   "mimetype": "text/x-python",
   "name": "python",
   "nbconvert_exporter": "python",
   "pygments_lexer": "ipython3",
   "version": "3.8.5"
  },
  "toc": {
   "base_numbering": 1,
   "nav_menu": {},
   "number_sections": true,
   "sideBar": true,
   "skip_h1_title": false,
   "title_cell": "Table of Contents",
   "title_sidebar": "Contents",
   "toc_cell": false,
   "toc_position": {},
   "toc_section_display": true,
   "toc_window_display": false
  },
  "varInspector": {
   "cols": {
    "lenName": 16,
    "lenType": 16,
    "lenVar": 40
   },
   "kernels_config": {
    "python": {
     "delete_cmd_postfix": "",
     "delete_cmd_prefix": "del ",
     "library": "var_list.py",
     "varRefreshCmd": "print(var_dic_list())"
    },
    "r": {
     "delete_cmd_postfix": ") ",
     "delete_cmd_prefix": "rm(",
     "library": "var_list.r",
     "varRefreshCmd": "cat(var_dic_list()) "
    }
   },
   "types_to_exclude": [
    "module",
    "function",
    "builtin_function_or_method",
    "instance",
    "_Feature"
   ],
   "window_display": false
  }
 },
 "nbformat": 4,
 "nbformat_minor": 5
}
