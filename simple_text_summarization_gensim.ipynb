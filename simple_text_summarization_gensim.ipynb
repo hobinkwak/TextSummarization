{
 "cells": [
  {
   "attachments": {},
   "cell_type": "markdown",
   "id": "coastal-registration",
   "metadata": {},
   "source": [
    "# ROUGE\n",
    "- Recall-Oriented Understudy of Gisting Evaluation\n",
    "- 생성된 요약 문장의 품질을 참조 문장과 비교하여 측정하는 메트릭"
   ]
  },
  {
   "cell_type": "code",
   "execution_count": 122,
   "id": "apart-birthday",
   "metadata": {
    "ExecuteTime": {
     "end_time": "2021-04-26T14:49:20.551481Z",
     "start_time": "2021-04-26T14:49:20.542505Z"
    }
   },
   "outputs": [],
   "source": [
    "from newspaper import Article\n",
    "from gensim.summarization import summarize\n",
    "import pandas as pd\n",
    "from rouge import Rouge\n",
    "from pprint import pprint\n",
    "import string\n",
    "import re\n",
    "import nltk\n",
    "import pandas as pd"
   ]
  },
  {
   "cell_type": "markdown",
   "id": "senior-paste",
   "metadata": {},
   "source": [
    "## 함수 정의"
   ]
  },
  {
   "cell_type": "markdown",
   "id": "neural-posting",
   "metadata": {},
   "source": [
    "- clean text\n",
    "    - 대문자 -> 소문자\n",
    "    - punctuation 제거\n",
    "    - 불용어 제거"
   ]
  },
  {
   "cell_type": "code",
   "execution_count": 139,
   "id": "discrete-mirror",
   "metadata": {
    "ExecuteTime": {
     "end_time": "2021-04-26T14:58:24.824573Z",
     "start_time": "2021-04-26T14:58:24.808043Z"
    }
   },
   "outputs": [],
   "source": [
    "def clean_text(raw_text):\n",
    "    text = raw_text.lower()\n",
    "    text = re.sub('['+string.punctuation+']', '', text)\n",
    "    text_list = text.split()\n",
    "    removed = [\n",
    "        w for w in text_list if w not in nltk.corpus.stopwords.words('english')]\n",
    "    return ' '.join(removed)\n",
    "\n",
    "def get_rouge_result(system, reference, clean=False):\n",
    "    if clean:\n",
    "        system = clean_text(system)\n",
    "        reference = clean_text(reference)\n",
    "        print('Cleaned')\n",
    "    else:\n",
    "        print('No Clean')\n",
    "    rouge = Rouge()\n",
    "    scores = rouge.get_scores(system, reference)\n",
    "    \n",
    "    return pd.DataFrame(scores[0])"
   ]
  },
  {
   "cell_type": "markdown",
   "id": "casual-handle",
   "metadata": {},
   "source": [
    "## 쉬운 예시"
   ]
  },
  {
   "cell_type": "markdown",
   "id": "announced-index",
   "metadata": {},
   "source": [
    "1. ROUGE-1 : **unigram**\n",
    "2. ROUGE-2 : **bigram**\n",
    "3. ROUGE-l : **LCS** (Longest Common Sequence) 기법"
   ]
  },
  {
   "cell_type": "code",
   "execution_count": 142,
   "id": "unable-deficit",
   "metadata": {
    "ExecuteTime": {
     "end_time": "2021-04-26T14:59:54.887755Z",
     "start_time": "2021-04-26T14:59:54.845928Z"
    },
    "scrolled": true
   },
   "outputs": [
    {
     "name": "stdout",
     "output_type": "stream",
     "text": [
      "No Clean\n"
     ]
    },
    {
     "data": {
      "text/html": [
       "<div>\n",
       "<style scoped>\n",
       "    .dataframe tbody tr th:only-of-type {\n",
       "        vertical-align: middle;\n",
       "    }\n",
       "\n",
       "    .dataframe tbody tr th {\n",
       "        vertical-align: top;\n",
       "    }\n",
       "\n",
       "    .dataframe thead th {\n",
       "        text-align: right;\n",
       "    }\n",
       "</style>\n",
       "<table border=\"1\" class=\"dataframe\">\n",
       "  <thead>\n",
       "    <tr style=\"text-align: right;\">\n",
       "      <th></th>\n",
       "      <th>rouge-1</th>\n",
       "      <th>rouge-2</th>\n",
       "      <th>rouge-l</th>\n",
       "    </tr>\n",
       "  </thead>\n",
       "  <tbody>\n",
       "    <tr>\n",
       "      <th>f</th>\n",
       "      <td>0.600000</td>\n",
       "      <td>0.0</td>\n",
       "      <td>0.400000</td>\n",
       "    </tr>\n",
       "    <tr>\n",
       "      <th>p</th>\n",
       "      <td>0.428571</td>\n",
       "      <td>0.0</td>\n",
       "      <td>0.285714</td>\n",
       "    </tr>\n",
       "    <tr>\n",
       "      <th>r</th>\n",
       "      <td>1.000000</td>\n",
       "      <td>0.0</td>\n",
       "      <td>0.666667</td>\n",
       "    </tr>\n",
       "  </tbody>\n",
       "</table>\n",
       "</div>"
      ],
      "text/plain": [
       "    rouge-1  rouge-2   rouge-l\n",
       "f  0.600000      0.0  0.400000\n",
       "p  0.428571      0.0  0.285714\n",
       "r  1.000000      0.0  0.666667"
      ]
     },
     "metadata": {},
     "output_type": "display_data"
    },
    {
     "name": "stdout",
     "output_type": "stream",
     "text": [
      "Cleaned\n"
     ]
    },
    {
     "data": {
      "text/html": [
       "<div>\n",
       "<style scoped>\n",
       "    .dataframe tbody tr th:only-of-type {\n",
       "        vertical-align: middle;\n",
       "    }\n",
       "\n",
       "    .dataframe tbody tr th {\n",
       "        vertical-align: top;\n",
       "    }\n",
       "\n",
       "    .dataframe thead th {\n",
       "        text-align: right;\n",
       "    }\n",
       "</style>\n",
       "<table border=\"1\" class=\"dataframe\">\n",
       "  <thead>\n",
       "    <tr style=\"text-align: right;\">\n",
       "      <th></th>\n",
       "      <th>rouge-1</th>\n",
       "      <th>rouge-2</th>\n",
       "      <th>rouge-l</th>\n",
       "    </tr>\n",
       "  </thead>\n",
       "  <tbody>\n",
       "    <tr>\n",
       "      <th>f</th>\n",
       "      <td>0.571429</td>\n",
       "      <td>0.40</td>\n",
       "      <td>0.571429</td>\n",
       "    </tr>\n",
       "    <tr>\n",
       "      <th>p</th>\n",
       "      <td>0.400000</td>\n",
       "      <td>0.25</td>\n",
       "      <td>0.400000</td>\n",
       "    </tr>\n",
       "    <tr>\n",
       "      <th>r</th>\n",
       "      <td>1.000000</td>\n",
       "      <td>1.00</td>\n",
       "      <td>1.000000</td>\n",
       "    </tr>\n",
       "  </tbody>\n",
       "</table>\n",
       "</div>"
      ],
      "text/plain": [
       "    rouge-1  rouge-2   rouge-l\n",
       "f  0.571429     0.40  0.571429\n",
       "p  0.400000     0.25  0.400000\n",
       "r  1.000000     1.00  1.000000"
      ]
     },
     "metadata": {},
     "output_type": "display_data"
    }
   ],
   "source": [
    "system = \"hello a cat dog fox the jumps\"\n",
    "reference = \"the fox jumps\"\n",
    "\n",
    "display(get_rouge_result(system, reference))\n",
    "display(get_rouge_result(system, reference, clean=True))"
   ]
  },
  {
   "cell_type": "markdown",
   "id": "convenient-terry",
   "metadata": {},
   "source": [
    "## CNN news 1"
   ]
  },
  {
   "cell_type": "code",
   "execution_count": 143,
   "id": "tight-emperor",
   "metadata": {
    "ExecuteTime": {
     "end_time": "2021-04-26T15:00:00.173891Z",
     "start_time": "2021-04-26T15:00:00.125985Z"
    },
    "scrolled": true
   },
   "outputs": [
    {
     "name": "stdout",
     "output_type": "stream",
     "text": [
      "No Clean\n"
     ]
    },
    {
     "data": {
      "text/html": [
       "<div>\n",
       "<style scoped>\n",
       "    .dataframe tbody tr th:only-of-type {\n",
       "        vertical-align: middle;\n",
       "    }\n",
       "\n",
       "    .dataframe tbody tr th {\n",
       "        vertical-align: top;\n",
       "    }\n",
       "\n",
       "    .dataframe thead th {\n",
       "        text-align: right;\n",
       "    }\n",
       "</style>\n",
       "<table border=\"1\" class=\"dataframe\">\n",
       "  <thead>\n",
       "    <tr style=\"text-align: right;\">\n",
       "      <th></th>\n",
       "      <th>rouge-1</th>\n",
       "      <th>rouge-2</th>\n",
       "      <th>rouge-l</th>\n",
       "    </tr>\n",
       "  </thead>\n",
       "  <tbody>\n",
       "    <tr>\n",
       "      <th>f</th>\n",
       "      <td>0.250000</td>\n",
       "      <td>0.052632</td>\n",
       "      <td>0.166667</td>\n",
       "    </tr>\n",
       "    <tr>\n",
       "      <th>p</th>\n",
       "      <td>0.200000</td>\n",
       "      <td>0.041667</td>\n",
       "      <td>0.136364</td>\n",
       "    </tr>\n",
       "    <tr>\n",
       "      <th>r</th>\n",
       "      <td>0.333333</td>\n",
       "      <td>0.071429</td>\n",
       "      <td>0.214286</td>\n",
       "    </tr>\n",
       "  </tbody>\n",
       "</table>\n",
       "</div>"
      ],
      "text/plain": [
       "    rouge-1   rouge-2   rouge-l\n",
       "f  0.250000  0.052632  0.166667\n",
       "p  0.200000  0.041667  0.136364\n",
       "r  0.333333  0.071429  0.214286"
      ]
     },
     "metadata": {},
     "output_type": "display_data"
    },
    {
     "name": "stdout",
     "output_type": "stream",
     "text": [
      "Cleaned\n"
     ]
    },
    {
     "data": {
      "text/html": [
       "<div>\n",
       "<style scoped>\n",
       "    .dataframe tbody tr th:only-of-type {\n",
       "        vertical-align: middle;\n",
       "    }\n",
       "\n",
       "    .dataframe tbody tr th {\n",
       "        vertical-align: top;\n",
       "    }\n",
       "\n",
       "    .dataframe thead th {\n",
       "        text-align: right;\n",
       "    }\n",
       "</style>\n",
       "<table border=\"1\" class=\"dataframe\">\n",
       "  <thead>\n",
       "    <tr style=\"text-align: right;\">\n",
       "      <th></th>\n",
       "      <th>rouge-1</th>\n",
       "      <th>rouge-2</th>\n",
       "      <th>rouge-l</th>\n",
       "    </tr>\n",
       "  </thead>\n",
       "  <tbody>\n",
       "    <tr>\n",
       "      <th>f</th>\n",
       "      <td>0.250000</td>\n",
       "      <td>0.090909</td>\n",
       "      <td>0.166667</td>\n",
       "    </tr>\n",
       "    <tr>\n",
       "      <th>p</th>\n",
       "      <td>0.214286</td>\n",
       "      <td>0.076923</td>\n",
       "      <td>0.142857</td>\n",
       "    </tr>\n",
       "    <tr>\n",
       "      <th>r</th>\n",
       "      <td>0.300000</td>\n",
       "      <td>0.111111</td>\n",
       "      <td>0.200000</td>\n",
       "    </tr>\n",
       "  </tbody>\n",
       "</table>\n",
       "</div>"
      ],
      "text/plain": [
       "    rouge-1   rouge-2   rouge-l\n",
       "f  0.250000  0.090909  0.166667\n",
       "p  0.214286  0.076923  0.142857\n",
       "r  0.300000  0.111111  0.200000"
      ]
     },
     "metadata": {},
     "output_type": "display_data"
    }
   ],
   "source": [
    "original_title_1 = \"Barcelona remains committed to Super League, saying it would be 'historical error' to pull out\"\n",
    "extracted_sent_1 = \"Ten of the 12 founding members might have officially pulled out of the European Super League, but Barcelona has reiterated its commitment to the idea.\"\n",
    "\n",
    "display(get_rouge_result(extracted_sent_1, original_title_1))\n",
    "display(get_rouge_result(extracted_sent_1, original_title_1, clean=True))"
   ]
  },
  {
   "cell_type": "markdown",
   "id": "forced-worker",
   "metadata": {},
   "source": [
    "## CNN news 2"
   ]
  },
  {
   "cell_type": "code",
   "execution_count": 144,
   "id": "sapphire-liver",
   "metadata": {
    "ExecuteTime": {
     "end_time": "2021-04-26T15:00:12.565328Z",
     "start_time": "2021-04-26T15:00:12.486571Z"
    }
   },
   "outputs": [
    {
     "name": "stdout",
     "output_type": "stream",
     "text": [
      "No Clean\n"
     ]
    },
    {
     "data": {
      "text/html": [
       "<div>\n",
       "<style scoped>\n",
       "    .dataframe tbody tr th:only-of-type {\n",
       "        vertical-align: middle;\n",
       "    }\n",
       "\n",
       "    .dataframe tbody tr th {\n",
       "        vertical-align: top;\n",
       "    }\n",
       "\n",
       "    .dataframe thead th {\n",
       "        text-align: right;\n",
       "    }\n",
       "</style>\n",
       "<table border=\"1\" class=\"dataframe\">\n",
       "  <thead>\n",
       "    <tr style=\"text-align: right;\">\n",
       "      <th></th>\n",
       "      <th>rouge-1</th>\n",
       "      <th>rouge-2</th>\n",
       "      <th>rouge-l</th>\n",
       "    </tr>\n",
       "  </thead>\n",
       "  <tbody>\n",
       "    <tr>\n",
       "      <th>f</th>\n",
       "      <td>0.315789</td>\n",
       "      <td>0.111111</td>\n",
       "      <td>0.342857</td>\n",
       "    </tr>\n",
       "    <tr>\n",
       "      <th>p</th>\n",
       "      <td>0.200000</td>\n",
       "      <td>0.068966</td>\n",
       "      <td>0.222222</td>\n",
       "    </tr>\n",
       "    <tr>\n",
       "      <th>r</th>\n",
       "      <td>0.750000</td>\n",
       "      <td>0.285714</td>\n",
       "      <td>0.750000</td>\n",
       "    </tr>\n",
       "  </tbody>\n",
       "</table>\n",
       "</div>"
      ],
      "text/plain": [
       "    rouge-1   rouge-2   rouge-l\n",
       "f  0.315789  0.111111  0.342857\n",
       "p  0.200000  0.068966  0.222222\n",
       "r  0.750000  0.285714  0.750000"
      ]
     },
     "metadata": {},
     "output_type": "display_data"
    },
    {
     "name": "stdout",
     "output_type": "stream",
     "text": [
      "Cleaned\n"
     ]
    },
    {
     "data": {
      "text/html": [
       "<div>\n",
       "<style scoped>\n",
       "    .dataframe tbody tr th:only-of-type {\n",
       "        vertical-align: middle;\n",
       "    }\n",
       "\n",
       "    .dataframe tbody tr th {\n",
       "        vertical-align: top;\n",
       "    }\n",
       "\n",
       "    .dataframe thead th {\n",
       "        text-align: right;\n",
       "    }\n",
       "</style>\n",
       "<table border=\"1\" class=\"dataframe\">\n",
       "  <thead>\n",
       "    <tr style=\"text-align: right;\">\n",
       "      <th></th>\n",
       "      <th>rouge-1</th>\n",
       "      <th>rouge-2</th>\n",
       "      <th>rouge-l</th>\n",
       "    </tr>\n",
       "  </thead>\n",
       "  <tbody>\n",
       "    <tr>\n",
       "      <th>f</th>\n",
       "      <td>0.333333</td>\n",
       "      <td>0.142857</td>\n",
       "      <td>0.357143</td>\n",
       "    </tr>\n",
       "    <tr>\n",
       "      <th>p</th>\n",
       "      <td>0.217391</td>\n",
       "      <td>0.090909</td>\n",
       "      <td>0.238095</td>\n",
       "    </tr>\n",
       "    <tr>\n",
       "      <th>r</th>\n",
       "      <td>0.714286</td>\n",
       "      <td>0.333333</td>\n",
       "      <td>0.714286</td>\n",
       "    </tr>\n",
       "  </tbody>\n",
       "</table>\n",
       "</div>"
      ],
      "text/plain": [
       "    rouge-1   rouge-2   rouge-l\n",
       "f  0.333333  0.142857  0.357143\n",
       "p  0.217391  0.090909  0.238095\n",
       "r  0.714286  0.333333  0.714286"
      ]
     },
     "metadata": {},
     "output_type": "display_data"
    }
   ],
   "source": [
    "original_title_2 = \"SpaceX rocket carrying four astronauts launches from Florida\"\n",
    "extracted_sent_2 = \"A SpaceX Crew Dragon spacecraft — carrying four astronauts from three countries — took off from NASA's Kennedy Space Center in Florida Friday morning, beginning their six-month stay in space.\"\n",
    "\n",
    "display(get_rouge_result(extracted_sent_2, original_title_2))\n",
    "display(get_rouge_result(extracted_sent_2, original_title_2, clean=True))"
   ]
  },
  {
   "cell_type": "markdown",
   "id": "accessible-rover",
   "metadata": {},
   "source": [
    "## CNN news 3"
   ]
  },
  {
   "cell_type": "code",
   "execution_count": 124,
   "id": "defined-swaziland",
   "metadata": {
    "ExecuteTime": {
     "end_time": "2021-04-26T14:51:33.269430Z",
     "start_time": "2021-04-26T14:51:33.236553Z"
    }
   },
   "outputs": [
    {
     "name": "stdout",
     "output_type": "stream",
     "text": [
      "No Clean\n"
     ]
    },
    {
     "data": {
      "text/html": [
       "<div>\n",
       "<style scoped>\n",
       "    .dataframe tbody tr th:only-of-type {\n",
       "        vertical-align: middle;\n",
       "    }\n",
       "\n",
       "    .dataframe tbody tr th {\n",
       "        vertical-align: top;\n",
       "    }\n",
       "\n",
       "    .dataframe thead th {\n",
       "        text-align: right;\n",
       "    }\n",
       "</style>\n",
       "<table border=\"1\" class=\"dataframe\">\n",
       "  <thead>\n",
       "    <tr style=\"text-align: right;\">\n",
       "      <th></th>\n",
       "      <th>rouge-1</th>\n",
       "      <th>rouge-2</th>\n",
       "      <th>rouge-l</th>\n",
       "    </tr>\n",
       "  </thead>\n",
       "  <tbody>\n",
       "    <tr>\n",
       "      <th>f</th>\n",
       "      <td>0.0</td>\n",
       "      <td>0.0</td>\n",
       "      <td>0.0</td>\n",
       "    </tr>\n",
       "    <tr>\n",
       "      <th>p</th>\n",
       "      <td>0.0</td>\n",
       "      <td>0.0</td>\n",
       "      <td>0.0</td>\n",
       "    </tr>\n",
       "    <tr>\n",
       "      <th>r</th>\n",
       "      <td>0.0</td>\n",
       "      <td>0.0</td>\n",
       "      <td>0.0</td>\n",
       "    </tr>\n",
       "  </tbody>\n",
       "</table>\n",
       "</div>"
      ],
      "text/plain": [
       "   rouge-1  rouge-2  rouge-l\n",
       "f      0.0      0.0      0.0\n",
       "p      0.0      0.0      0.0\n",
       "r      0.0      0.0      0.0"
      ]
     },
     "metadata": {},
     "output_type": "display_data"
    },
    {
     "name": "stdout",
     "output_type": "stream",
     "text": [
      "Cleaned\n"
     ]
    },
    {
     "data": {
      "text/html": [
       "<div>\n",
       "<style scoped>\n",
       "    .dataframe tbody tr th:only-of-type {\n",
       "        vertical-align: middle;\n",
       "    }\n",
       "\n",
       "    .dataframe tbody tr th {\n",
       "        vertical-align: top;\n",
       "    }\n",
       "\n",
       "    .dataframe thead th {\n",
       "        text-align: right;\n",
       "    }\n",
       "</style>\n",
       "<table border=\"1\" class=\"dataframe\">\n",
       "  <thead>\n",
       "    <tr style=\"text-align: right;\">\n",
       "      <th></th>\n",
       "      <th>rouge-1</th>\n",
       "      <th>rouge-2</th>\n",
       "      <th>rouge-l</th>\n",
       "    </tr>\n",
       "  </thead>\n",
       "  <tbody>\n",
       "    <tr>\n",
       "      <th>f</th>\n",
       "      <td>0.0</td>\n",
       "      <td>0.0</td>\n",
       "      <td>0.0</td>\n",
       "    </tr>\n",
       "    <tr>\n",
       "      <th>p</th>\n",
       "      <td>0.0</td>\n",
       "      <td>0.0</td>\n",
       "      <td>0.0</td>\n",
       "    </tr>\n",
       "    <tr>\n",
       "      <th>r</th>\n",
       "      <td>0.0</td>\n",
       "      <td>0.0</td>\n",
       "      <td>0.0</td>\n",
       "    </tr>\n",
       "  </tbody>\n",
       "</table>\n",
       "</div>"
      ],
      "text/plain": [
       "   rouge-1  rouge-2  rouge-l\n",
       "f      0.0      0.0      0.0\n",
       "p      0.0      0.0      0.0\n",
       "r      0.0      0.0      0.0"
      ]
     },
     "metadata": {},
     "output_type": "display_data"
    }
   ],
   "source": [
    "original_title_3 = \"Vaccine hesitancy among Republicans emerges as Biden’s next big challenge\"\n",
    "extracted_sent_3 = \"Johnson told Mckenna.\"\n",
    "\n",
    "display(get_rouge_result(extracted_sent_3, original_title_3))\n",
    "display(get_rouge_result(extracted_sent_3, original_title_3, clean=True))"
   ]
  },
  {
   "cell_type": "markdown",
   "id": "detailed-humanity",
   "metadata": {},
   "source": [
    "--------------------------"
   ]
  },
  {
   "cell_type": "markdown",
   "id": "statutory-envelope",
   "metadata": {},
   "source": [
    "# Gensim"
   ]
  },
  {
   "cell_type": "markdown",
   "id": "roman-america",
   "metadata": {},
   "source": [
    "## 함수 정의"
   ]
  },
  {
   "cell_type": "code",
   "execution_count": 125,
   "id": "funny-digit",
   "metadata": {
    "ExecuteTime": {
     "end_time": "2021-04-26T14:51:35.114395Z",
     "start_time": "2021-04-26T14:51:35.110026Z"
    }
   },
   "outputs": [],
   "source": [
    "def gensim_summarizer(url, language, word_count=25):\n",
    "    news = Article(url, language=language)\n",
    "    news.download()\n",
    "    news.parse()\n",
    "    original_length = len(news.text)\n",
    "    summarized_text = summarize(news.text, word_count=word_count)\n",
    "    summarized_length = len(summarized_text)\n",
    "    return original_length, summarized_length, summarized_text"
   ]
  },
  {
   "cell_type": "markdown",
   "id": "conceptual-turtle",
   "metadata": {},
   "source": [
    "## 영어 - 스포츠"
   ]
  },
  {
   "cell_type": "code",
   "execution_count": 134,
   "id": "hydraulic-influence",
   "metadata": {
    "ExecuteTime": {
     "end_time": "2021-04-26T14:53:27.580887Z",
     "start_time": "2021-04-26T14:53:26.703941Z"
    },
    "scrolled": true
   },
   "outputs": [
    {
     "data": {
      "text/plain": [
       "(1284,\n",
       " 453,\n",
       " '\"In this context, the FC Barcelona Board of Directors accepted, as a matter of immediate urgency, the offer to form part, as the founding member, of the Super League, a competition designed to improve the quality and attractiveness of the product offered to the football fans and, at the same time, and as one of FC Barcelona\\'s most inalienable principles, seek new formulas for solidarity with the football family as a whole,\" Thursday\\'s statement read')"
      ]
     },
     "execution_count": 134,
     "metadata": {},
     "output_type": "execute_result"
    }
   ],
   "source": [
    "url_en = 'https://edition.cnn.com/2021/04/23/football/barcelona-remain-committed-to-european-super-league-spt-intl/index.html'\n",
    "summarized_en = gensim_summarizer(url_en, 'en', word_count=50)\n",
    "summarized_en"
   ]
  },
  {
   "cell_type": "markdown",
   "id": "continent-premiere",
   "metadata": {},
   "source": [
    "### gensim"
   ]
  },
  {
   "cell_type": "code",
   "execution_count": 141,
   "id": "bibliographic-coffee",
   "metadata": {
    "ExecuteTime": {
     "end_time": "2021-04-26T14:58:44.096854Z",
     "start_time": "2021-04-26T14:58:44.027528Z"
    }
   },
   "outputs": [
    {
     "name": "stdout",
     "output_type": "stream",
     "text": [
      "No Clean\n"
     ]
    },
    {
     "data": {
      "text/html": [
       "<div>\n",
       "<style scoped>\n",
       "    .dataframe tbody tr th:only-of-type {\n",
       "        vertical-align: middle;\n",
       "    }\n",
       "\n",
       "    .dataframe tbody tr th {\n",
       "        vertical-align: top;\n",
       "    }\n",
       "\n",
       "    .dataframe thead th {\n",
       "        text-align: right;\n",
       "    }\n",
       "</style>\n",
       "<table border=\"1\" class=\"dataframe\">\n",
       "  <thead>\n",
       "    <tr style=\"text-align: right;\">\n",
       "      <th></th>\n",
       "      <th>rouge-1</th>\n",
       "      <th>rouge-2</th>\n",
       "      <th>rouge-l</th>\n",
       "    </tr>\n",
       "  </thead>\n",
       "  <tbody>\n",
       "    <tr>\n",
       "      <th>f</th>\n",
       "      <td>0.111111</td>\n",
       "      <td>0.022727</td>\n",
       "      <td>0.119403</td>\n",
       "    </tr>\n",
       "    <tr>\n",
       "      <th>p</th>\n",
       "      <td>0.066667</td>\n",
       "      <td>0.013514</td>\n",
       "      <td>0.075472</td>\n",
       "    </tr>\n",
       "    <tr>\n",
       "      <th>r</th>\n",
       "      <td>0.333333</td>\n",
       "      <td>0.071429</td>\n",
       "      <td>0.285714</td>\n",
       "    </tr>\n",
       "  </tbody>\n",
       "</table>\n",
       "</div>"
      ],
      "text/plain": [
       "    rouge-1   rouge-2   rouge-l\n",
       "f  0.111111  0.022727  0.119403\n",
       "p  0.066667  0.013514  0.075472\n",
       "r  0.333333  0.071429  0.285714"
      ]
     },
     "metadata": {},
     "output_type": "display_data"
    },
    {
     "name": "stdout",
     "output_type": "stream",
     "text": [
      "Cleaned\n"
     ]
    },
    {
     "data": {
      "text/html": [
       "<div>\n",
       "<style scoped>\n",
       "    .dataframe tbody tr th:only-of-type {\n",
       "        vertical-align: middle;\n",
       "    }\n",
       "\n",
       "    .dataframe tbody tr th {\n",
       "        vertical-align: top;\n",
       "    }\n",
       "\n",
       "    .dataframe thead th {\n",
       "        text-align: right;\n",
       "    }\n",
       "</style>\n",
       "<table border=\"1\" class=\"dataframe\">\n",
       "  <thead>\n",
       "    <tr style=\"text-align: right;\">\n",
       "      <th></th>\n",
       "      <th>rouge-1</th>\n",
       "      <th>rouge-2</th>\n",
       "      <th>rouge-l</th>\n",
       "    </tr>\n",
       "  </thead>\n",
       "  <tbody>\n",
       "    <tr>\n",
       "      <th>f</th>\n",
       "      <td>0.117647</td>\n",
       "      <td>0.040816</td>\n",
       "      <td>0.122449</td>\n",
       "    </tr>\n",
       "    <tr>\n",
       "      <th>p</th>\n",
       "      <td>0.073171</td>\n",
       "      <td>0.025000</td>\n",
       "      <td>0.076923</td>\n",
       "    </tr>\n",
       "    <tr>\n",
       "      <th>r</th>\n",
       "      <td>0.300000</td>\n",
       "      <td>0.111111</td>\n",
       "      <td>0.300000</td>\n",
       "    </tr>\n",
       "  </tbody>\n",
       "</table>\n",
       "</div>"
      ],
      "text/plain": [
       "    rouge-1   rouge-2   rouge-l\n",
       "f  0.117647  0.040816  0.122449\n",
       "p  0.073171  0.025000  0.076923\n",
       "r  0.300000  0.111111  0.300000"
      ]
     },
     "metadata": {},
     "output_type": "display_data"
    }
   ],
   "source": [
    "original_title_en = \"Barcelona remains committed to Super League, saying it would be 'historical error' to pull out\"\n",
    "\n",
    "display(get_rouge_result(summarized_en[2], original_title_en))\n",
    "display(get_rouge_result(summarized_en[2], original_title_en, clean=True))"
   ]
  },
  {
   "cell_type": "markdown",
   "id": "cutting-riding",
   "metadata": {},
   "source": [
    "### 문서요약기"
   ]
  },
  {
   "cell_type": "code",
   "execution_count": 145,
   "id": "sitting-scratch",
   "metadata": {
    "ExecuteTime": {
     "end_time": "2021-04-26T15:01:32.200408Z",
     "start_time": "2021-04-26T15:01:32.144945Z"
    }
   },
   "outputs": [
    {
     "name": "stdout",
     "output_type": "stream",
     "text": [
      "No Clean\n"
     ]
    },
    {
     "data": {
      "text/html": [
       "<div>\n",
       "<style scoped>\n",
       "    .dataframe tbody tr th:only-of-type {\n",
       "        vertical-align: middle;\n",
       "    }\n",
       "\n",
       "    .dataframe tbody tr th {\n",
       "        vertical-align: top;\n",
       "    }\n",
       "\n",
       "    .dataframe thead th {\n",
       "        text-align: right;\n",
       "    }\n",
       "</style>\n",
       "<table border=\"1\" class=\"dataframe\">\n",
       "  <thead>\n",
       "    <tr style=\"text-align: right;\">\n",
       "      <th></th>\n",
       "      <th>rouge-1</th>\n",
       "      <th>rouge-2</th>\n",
       "      <th>rouge-l</th>\n",
       "    </tr>\n",
       "  </thead>\n",
       "  <tbody>\n",
       "    <tr>\n",
       "      <th>f</th>\n",
       "      <td>0.250000</td>\n",
       "      <td>0.052632</td>\n",
       "      <td>0.166667</td>\n",
       "    </tr>\n",
       "    <tr>\n",
       "      <th>p</th>\n",
       "      <td>0.200000</td>\n",
       "      <td>0.041667</td>\n",
       "      <td>0.136364</td>\n",
       "    </tr>\n",
       "    <tr>\n",
       "      <th>r</th>\n",
       "      <td>0.333333</td>\n",
       "      <td>0.071429</td>\n",
       "      <td>0.214286</td>\n",
       "    </tr>\n",
       "  </tbody>\n",
       "</table>\n",
       "</div>"
      ],
      "text/plain": [
       "    rouge-1   rouge-2   rouge-l\n",
       "f  0.250000  0.052632  0.166667\n",
       "p  0.200000  0.041667  0.136364\n",
       "r  0.333333  0.071429  0.214286"
      ]
     },
     "metadata": {},
     "output_type": "display_data"
    },
    {
     "name": "stdout",
     "output_type": "stream",
     "text": [
      "Cleaned\n"
     ]
    },
    {
     "data": {
      "text/html": [
       "<div>\n",
       "<style scoped>\n",
       "    .dataframe tbody tr th:only-of-type {\n",
       "        vertical-align: middle;\n",
       "    }\n",
       "\n",
       "    .dataframe tbody tr th {\n",
       "        vertical-align: top;\n",
       "    }\n",
       "\n",
       "    .dataframe thead th {\n",
       "        text-align: right;\n",
       "    }\n",
       "</style>\n",
       "<table border=\"1\" class=\"dataframe\">\n",
       "  <thead>\n",
       "    <tr style=\"text-align: right;\">\n",
       "      <th></th>\n",
       "      <th>rouge-1</th>\n",
       "      <th>rouge-2</th>\n",
       "      <th>rouge-l</th>\n",
       "    </tr>\n",
       "  </thead>\n",
       "  <tbody>\n",
       "    <tr>\n",
       "      <th>f</th>\n",
       "      <td>0.250000</td>\n",
       "      <td>0.090909</td>\n",
       "      <td>0.166667</td>\n",
       "    </tr>\n",
       "    <tr>\n",
       "      <th>p</th>\n",
       "      <td>0.214286</td>\n",
       "      <td>0.076923</td>\n",
       "      <td>0.142857</td>\n",
       "    </tr>\n",
       "    <tr>\n",
       "      <th>r</th>\n",
       "      <td>0.300000</td>\n",
       "      <td>0.111111</td>\n",
       "      <td>0.200000</td>\n",
       "    </tr>\n",
       "  </tbody>\n",
       "</table>\n",
       "</div>"
      ],
      "text/plain": [
       "    rouge-1   rouge-2   rouge-l\n",
       "f  0.250000  0.090909  0.166667\n",
       "p  0.214286  0.076923  0.142857\n",
       "r  0.300000  0.111111  0.200000"
      ]
     },
     "metadata": {},
     "output_type": "display_data"
    }
   ],
   "source": [
    "display(get_rouge_result(extracted_sent_1, original_title_1))\n",
    "display(get_rouge_result(extracted_sent_1, original_title_1, clean=True))"
   ]
  },
  {
   "cell_type": "markdown",
   "id": "substantial-poker",
   "metadata": {},
   "source": [
    "## 한국어 - 스포츠"
   ]
  },
  {
   "cell_type": "code",
   "execution_count": 136,
   "id": "grand-samuel",
   "metadata": {
    "ExecuteTime": {
     "end_time": "2021-04-26T14:53:37.149083Z",
     "start_time": "2021-04-26T14:53:36.935759Z"
    },
    "scrolled": true
   },
   "outputs": [
    {
     "data": {
      "text/plain": [
       "(1145,\n",
       " 84,\n",
       " '1회 선두타자 카반 비지오가 볼넷으로 걸어나간 뒤 4회까지 노히터를 당했다.그러나 5회초 선두타자 마커스 세미엔이 우전 안타로 출루해 기회를 만들었다.')"
      ]
     },
     "execution_count": 136,
     "metadata": {},
     "output_type": "execute_result"
    }
   ],
   "source": [
    "url_kor = 'https://sports.news.naver.com/news.nhn?oid=109&aid=0004394893'\n",
    "summarized_ko = gensim_summarizer(url_kor, 'ko')\n",
    "summarized_ko"
   ]
  },
  {
   "cell_type": "code",
   "execution_count": 137,
   "id": "future-integer",
   "metadata": {
    "ExecuteTime": {
     "end_time": "2021-04-26T14:53:37.502946Z",
     "start_time": "2021-04-26T14:53:37.478013Z"
    }
   },
   "outputs": [
    {
     "name": "stdout",
     "output_type": "stream",
     "text": [
      "No Clean\n"
     ]
    },
    {
     "data": {
      "text/html": [
       "<div>\n",
       "<style scoped>\n",
       "    .dataframe tbody tr th:only-of-type {\n",
       "        vertical-align: middle;\n",
       "    }\n",
       "\n",
       "    .dataframe tbody tr th {\n",
       "        vertical-align: top;\n",
       "    }\n",
       "\n",
       "    .dataframe thead th {\n",
       "        text-align: right;\n",
       "    }\n",
       "</style>\n",
       "<table border=\"1\" class=\"dataframe\">\n",
       "  <thead>\n",
       "    <tr style=\"text-align: right;\">\n",
       "      <th></th>\n",
       "      <th>rouge-1</th>\n",
       "      <th>rouge-2</th>\n",
       "      <th>rouge-l</th>\n",
       "    </tr>\n",
       "  </thead>\n",
       "  <tbody>\n",
       "    <tr>\n",
       "      <th>f</th>\n",
       "      <td>0.0</td>\n",
       "      <td>0.0</td>\n",
       "      <td>0.0</td>\n",
       "    </tr>\n",
       "    <tr>\n",
       "      <th>p</th>\n",
       "      <td>0.0</td>\n",
       "      <td>0.0</td>\n",
       "      <td>0.0</td>\n",
       "    </tr>\n",
       "    <tr>\n",
       "      <th>r</th>\n",
       "      <td>0.0</td>\n",
       "      <td>0.0</td>\n",
       "      <td>0.0</td>\n",
       "    </tr>\n",
       "  </tbody>\n",
       "</table>\n",
       "</div>"
      ],
      "text/plain": [
       "   rouge-1  rouge-2  rouge-l\n",
       "f      0.0      0.0      0.0\n",
       "p      0.0      0.0      0.0\n",
       "r      0.0      0.0      0.0"
      ]
     },
     "execution_count": 137,
     "metadata": {},
     "output_type": "execute_result"
    }
   ],
   "source": [
    "original_title_ko = \"류현진, 3⅔이닝 무실점→엉덩이 통증 강판…불펜 무실점 1-0 신승 [TOR 리뷰]\"\n",
    "get_rouge_result(summarized_ko[2], original_title_ko)"
   ]
  },
  {
   "cell_type": "markdown",
   "id": "serious-horizontal",
   "metadata": {},
   "source": [
    "---------------------------"
   ]
  }
 ],
 "metadata": {
  "hide_input": false,
  "kernelspec": {
   "display_name": "Python 3",
   "language": "python",
   "name": "python3"
  },
  "language_info": {
   "codemirror_mode": {
    "name": "ipython",
    "version": 3
   },
   "file_extension": ".py",
   "mimetype": "text/x-python",
   "name": "python",
   "nbconvert_exporter": "python",
   "pygments_lexer": "ipython3",
   "version": "3.8.5"
  },
  "toc": {
   "base_numbering": 1,
   "nav_menu": {},
   "number_sections": true,
   "sideBar": true,
   "skip_h1_title": false,
   "title_cell": "Table of Contents",
   "title_sidebar": "Contents",
   "toc_cell": false,
   "toc_position": {},
   "toc_section_display": true,
   "toc_window_display": false
  },
  "varInspector": {
   "cols": {
    "lenName": 16,
    "lenType": 16,
    "lenVar": 40
   },
   "kernels_config": {
    "python": {
     "delete_cmd_postfix": "",
     "delete_cmd_prefix": "del ",
     "library": "var_list.py",
     "varRefreshCmd": "print(var_dic_list())"
    },
    "r": {
     "delete_cmd_postfix": ") ",
     "delete_cmd_prefix": "rm(",
     "library": "var_list.r",
     "varRefreshCmd": "cat(var_dic_list()) "
    }
   },
   "types_to_exclude": [
    "module",
    "function",
    "builtin_function_or_method",
    "instance",
    "_Feature"
   ],
   "window_display": false
  }
 },
 "nbformat": 4,
 "nbformat_minor": 5
}
